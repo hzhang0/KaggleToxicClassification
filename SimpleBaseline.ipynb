{
 "cells": [
  {
   "cell_type": "code",
   "execution_count": 1,
   "metadata": {
    "collapsed": true
   },
   "outputs": [],
   "source": [
    "import numpy as np\n",
    "import pandas as pd\n",
    "import nltk\n",
    "import string\n",
    "import re\n",
    "import matplotlib.pyplot as plt\n",
    "import unicodedata\n",
    "import sys\n",
    "import collections\n",
    "from sklearn.model_selection import train_test_split, GridSearchCV\n",
    "from sklearn.linear_model import LogisticRegression"
   ]
  },
  {
   "cell_type": "code",
   "execution_count": 2,
   "metadata": {
    "collapsed": true
   },
   "outputs": [],
   "source": [
    "stopwords = nltk.corpus.stopwords.words('english')\n",
    "unicodePuncs = [chr(i) for i in range(sys.maxunicode)\n",
    "                      if unicodedata.category(chr(i)).startswith('P')]\n",
    "stopwords += ([i for i in string.punctuation] + ['--', '\\'\\'', '``', '...'])\n",
    "stopwords += unicodePuncs"
   ]
  },
  {
   "cell_type": "code",
   "execution_count": 3,
   "metadata": {
    "collapsed": true
   },
   "outputs": [],
   "source": [
    "class BOWExtractor():      \n",
    "    def __init__(self, ngrams_to_take = {1: 100, 2: 50}, stopwords=[], tokenizer = nltk.word_tokenize, unicodeNormalize = True, binary = False):\n",
    "        self.ngrams_to_take = ngrams_to_take\n",
    "        self.stopwords = stopwords\n",
    "        self.tokenizer = tokenizer\n",
    "        self.unicodeNormalize = unicodeNormalize\n",
    "        self.binary = binary\n",
    "    \n",
    "    def hasnum(self,s):\n",
    "        return any(i.isdigit() for i in s)\n",
    "    \n",
    "    def hasPunc(self, s):\n",
    "        return any(i in string.punctuation for i in s)\n",
    "    \n",
    "    def preprocess(self, series):\n",
    "        if self.unicodeNormalize:\n",
    "            series = series.apply(lambda x: unicodedata.normalize('NFKD', x).encode('ascii','ignore').decode('utf-8'))\n",
    "        toks = series.apply(lambda x: list(filter(lambda z: z not in self.stopwords, map(lambda y: y.lower(),self.tokenizer(x)))))\n",
    "        toks = toks.apply(lambda x: [i for i in x if not self.hasPunc(i) and not self.hasnum(i)])\n",
    "        return toks\n",
    "    \n",
    "    def getngrams(self, lst, n=2):\n",
    "        ans = []\n",
    "        for i in range(len(lst) - n+1):\n",
    "            ans.append([lst[i+j] for j in range(n)])\n",
    "        return ans\n",
    "    \n",
    "    def flatten(self, x):\n",
    "        if isinstance(x, (np.ndarray, list, tuple)):\n",
    "            lst = []\n",
    "            for i in x:\n",
    "                lst += self.flatten(i)\n",
    "            return lst\n",
    "        else:\n",
    "            return [x]\n",
    "    \n",
    "    def fit(self, series): #input is a pandas series of strings\n",
    "        assert(isinstance(series.iloc[0], str))\n",
    "        toks = self.preprocess(series)\n",
    "        self.most_common_ngrams = {}\n",
    "        for i in self.ngrams_to_take.keys():\n",
    "            if i == 1:\n",
    "                self.most_common_ngrams[i] = {i[0]: i[1] for i in nltk.FreqDist(self.flatten(toks.values)).most_common(self.ngrams_to_take[i])}\n",
    "            else:\n",
    "                ngrams = [j for i in toks for j in self.getngrams(i)]\n",
    "                self.most_common_ngrams[i] = {i[0]: i[1] for i in collections.Counter(map(tuple, ngrams)).most_common(self.ngrams_to_take[i])}\n",
    "        self.features = [j for i in self.most_common_ngrams.keys() for j in self.most_common_ngrams[i].keys()]\n",
    "        return self\n",
    "            \n",
    "    def transform(self, series): #input is a pandas series of strings, output is a 2d numpy array, in the order of self.features\n",
    "        ngrams = {}\n",
    "        toks = self.preprocess(series)\n",
    "        for i in self.ngrams_to_take.keys():\n",
    "            if i == 1:\n",
    "                ngrams[1] = toks\n",
    "            else:\n",
    "                ngrams[i] = toks.apply(lambda x: self.getngrams(x, i))\n",
    "        ans = np.zeros(shape = (len(series), len(self.features),), dtype='int16')\n",
    "        # loop through each feature\n",
    "        for count, i in enumerate(self.features):\n",
    "            if isinstance(i, str):\n",
    "                ans[:, count] = ngrams[1].apply(lambda x: x.count(i)).values\n",
    "            else: #tuple\n",
    "                ans[:, count] = ngrams[len(i)].apply(lambda x: x.count(i)).values\n",
    "        if self.binary:\n",
    "            ans = (ans>0).astype(int)\n",
    "        return ans"
   ]
  },
  {
   "cell_type": "markdown",
   "metadata": {},
   "source": [
    "#### Load Data"
   ]
  },
  {
   "cell_type": "code",
   "execution_count": 4,
   "metadata": {
    "collapsed": true
   },
   "outputs": [],
   "source": [
    "train = pd.read_csv('data/train.csv')\n",
    "test = pd.read_csv('data/test.csv')"
   ]
  },
  {
   "cell_type": "code",
   "execution_count": 5,
   "metadata": {},
   "outputs": [
    {
     "data": {
      "text/html": [
       "<div>\n",
       "<style>\n",
       "    .dataframe thead tr:only-child th {\n",
       "        text-align: right;\n",
       "    }\n",
       "\n",
       "    .dataframe thead th {\n",
       "        text-align: left;\n",
       "    }\n",
       "\n",
       "    .dataframe tbody tr th {\n",
       "        vertical-align: top;\n",
       "    }\n",
       "</style>\n",
       "<table border=\"1\" class=\"dataframe\">\n",
       "  <thead>\n",
       "    <tr style=\"text-align: right;\">\n",
       "      <th></th>\n",
       "      <th>id</th>\n",
       "      <th>comment_text</th>\n",
       "      <th>toxic</th>\n",
       "      <th>severe_toxic</th>\n",
       "      <th>obscene</th>\n",
       "      <th>threat</th>\n",
       "      <th>insult</th>\n",
       "      <th>identity_hate</th>\n",
       "    </tr>\n",
       "  </thead>\n",
       "  <tbody>\n",
       "    <tr>\n",
       "      <th>0</th>\n",
       "      <td>0000997932d777bf</td>\n",
       "      <td>Explanation\\nWhy the edits made under my usern...</td>\n",
       "      <td>0</td>\n",
       "      <td>0</td>\n",
       "      <td>0</td>\n",
       "      <td>0</td>\n",
       "      <td>0</td>\n",
       "      <td>0</td>\n",
       "    </tr>\n",
       "    <tr>\n",
       "      <th>1</th>\n",
       "      <td>000103f0d9cfb60f</td>\n",
       "      <td>D'aww! He matches this background colour I'm s...</td>\n",
       "      <td>0</td>\n",
       "      <td>0</td>\n",
       "      <td>0</td>\n",
       "      <td>0</td>\n",
       "      <td>0</td>\n",
       "      <td>0</td>\n",
       "    </tr>\n",
       "    <tr>\n",
       "      <th>2</th>\n",
       "      <td>000113f07ec002fd</td>\n",
       "      <td>Hey man, I'm really not trying to edit war. It...</td>\n",
       "      <td>0</td>\n",
       "      <td>0</td>\n",
       "      <td>0</td>\n",
       "      <td>0</td>\n",
       "      <td>0</td>\n",
       "      <td>0</td>\n",
       "    </tr>\n",
       "    <tr>\n",
       "      <th>3</th>\n",
       "      <td>0001b41b1c6bb37e</td>\n",
       "      <td>\"\\nMore\\nI can't make any real suggestions on ...</td>\n",
       "      <td>0</td>\n",
       "      <td>0</td>\n",
       "      <td>0</td>\n",
       "      <td>0</td>\n",
       "      <td>0</td>\n",
       "      <td>0</td>\n",
       "    </tr>\n",
       "    <tr>\n",
       "      <th>4</th>\n",
       "      <td>0001d958c54c6e35</td>\n",
       "      <td>You, sir, are my hero. Any chance you remember...</td>\n",
       "      <td>0</td>\n",
       "      <td>0</td>\n",
       "      <td>0</td>\n",
       "      <td>0</td>\n",
       "      <td>0</td>\n",
       "      <td>0</td>\n",
       "    </tr>\n",
       "  </tbody>\n",
       "</table>\n",
       "</div>"
      ],
      "text/plain": [
       "                 id                                       comment_text  toxic  \\\n",
       "0  0000997932d777bf  Explanation\\nWhy the edits made under my usern...      0   \n",
       "1  000103f0d9cfb60f  D'aww! He matches this background colour I'm s...      0   \n",
       "2  000113f07ec002fd  Hey man, I'm really not trying to edit war. It...      0   \n",
       "3  0001b41b1c6bb37e  \"\\nMore\\nI can't make any real suggestions on ...      0   \n",
       "4  0001d958c54c6e35  You, sir, are my hero. Any chance you remember...      0   \n",
       "\n",
       "   severe_toxic  obscene  threat  insult  identity_hate  \n",
       "0             0        0       0       0              0  \n",
       "1             0        0       0       0              0  \n",
       "2             0        0       0       0              0  \n",
       "3             0        0       0       0              0  \n",
       "4             0        0       0       0              0  "
      ]
     },
     "execution_count": 5,
     "metadata": {},
     "output_type": "execute_result"
    }
   ],
   "source": [
    "train.head()"
   ]
  },
  {
   "cell_type": "code",
   "execution_count": 6,
   "metadata": {
    "collapsed": true
   },
   "outputs": [],
   "source": [
    "output_names = ['toxic','severe_toxic','obscene','threat','insult','identity_hate']"
   ]
  },
  {
   "cell_type": "code",
   "execution_count": 7,
   "metadata": {},
   "outputs": [
    {
     "data": {
      "text/html": [
       "<div>\n",
       "<style>\n",
       "    .dataframe thead tr:only-child th {\n",
       "        text-align: right;\n",
       "    }\n",
       "\n",
       "    .dataframe thead th {\n",
       "        text-align: left;\n",
       "    }\n",
       "\n",
       "    .dataframe tbody tr th {\n",
       "        vertical-align: top;\n",
       "    }\n",
       "</style>\n",
       "<table border=\"1\" class=\"dataframe\">\n",
       "  <thead>\n",
       "    <tr style=\"text-align: right;\">\n",
       "      <th></th>\n",
       "      <th>toxic</th>\n",
       "      <th>severe_toxic</th>\n",
       "      <th>obscene</th>\n",
       "      <th>threat</th>\n",
       "      <th>insult</th>\n",
       "      <th>identity_hate</th>\n",
       "    </tr>\n",
       "  </thead>\n",
       "  <tbody>\n",
       "    <tr>\n",
       "      <th>0</th>\n",
       "      <td>144277</td>\n",
       "      <td>157976</td>\n",
       "      <td>151122</td>\n",
       "      <td>159093</td>\n",
       "      <td>151694</td>\n",
       "      <td>158166</td>\n",
       "    </tr>\n",
       "    <tr>\n",
       "      <th>1</th>\n",
       "      <td>15294</td>\n",
       "      <td>1595</td>\n",
       "      <td>8449</td>\n",
       "      <td>478</td>\n",
       "      <td>7877</td>\n",
       "      <td>1405</td>\n",
       "    </tr>\n",
       "  </tbody>\n",
       "</table>\n",
       "</div>"
      ],
      "text/plain": [
       "    toxic  severe_toxic  obscene  threat  insult  identity_hate\n",
       "0  144277        157976   151122  159093  151694         158166\n",
       "1   15294          1595     8449     478    7877           1405"
      ]
     },
     "execution_count": 7,
     "metadata": {},
     "output_type": "execute_result"
    }
   ],
   "source": [
    "train[output_names].apply(pd.value_counts)"
   ]
  },
  {
   "cell_type": "code",
   "execution_count": 8,
   "metadata": {
    "collapsed": true
   },
   "outputs": [],
   "source": [
    "#traindf, valdf = train_test_split(train, test_size = 0.1, random_state = 42, stratify = train.threat)"
   ]
  },
  {
   "cell_type": "markdown",
   "metadata": {
    "collapsed": true
   },
   "source": [
    "#### Feature Extraction"
   ]
  },
  {
   "cell_type": "code",
   "execution_count": 9,
   "metadata": {
    "collapsed": true
   },
   "outputs": [],
   "source": [
    "bow= BOWExtractor(ngrams_to_take = {1:2400, 2:1600, 3:400},stopwords = stopwords).fit(train['comment_text'])"
   ]
  },
  {
   "cell_type": "code",
   "execution_count": 10,
   "metadata": {},
   "outputs": [],
   "source": [
    "train_mat = bow.transform(train['comment_text']).astype('int16')"
   ]
  },
  {
   "cell_type": "markdown",
   "metadata": {},
   "source": [
    "#### Model"
   ]
  },
  {
   "cell_type": "code",
   "execution_count": 12,
   "metadata": {
    "scrolled": true
   },
   "outputs": [
    {
     "name": "stdout",
     "output_type": "stream",
     "text": [
      "Fitting 3 folds for each of 5 candidates, totalling 15 fits\n",
      "[CV] C=0.01, penalty=l2 ..............................................\n",
      "[CV] C=0.01, penalty=l2 ..............................................\n",
      "[CV] ..... C=0.01, penalty=l2, score=0.9351442743376353, total=  10.6s\n",
      "[CV] C=0.01, penalty=l2 ..............................................\n"
     ]
    },
    {
     "name": "stderr",
     "output_type": "stream",
     "text": [
      "[Parallel(n_jobs=2)]: Done   1 tasks      | elapsed:   15.5s\n"
     ]
    },
    {
     "name": "stdout",
     "output_type": "stream",
     "text": [
      "[CV] ..... C=0.01, penalty=l2, score=0.9283337526834519, total=  13.2s\n",
      "[CV] C=0.1, penalty=l2 ...............................................\n",
      "[CV] ..... C=0.01, penalty=l2, score=0.9279195451917107, total=  11.1s\n",
      "[CV] C=0.1, penalty=l2 ...............................................\n",
      "[CV] ....... C=0.1, penalty=l2, score=0.938509175007358, total=  13.0s\n",
      "[CV] C=0.1, penalty=l2 ...............................................\n"
     ]
    },
    {
     "name": "stderr",
     "output_type": "stream",
     "text": [
      "[Parallel(n_jobs=2)]: Done   4 tasks      | elapsed:   35.4s\n"
     ]
    },
    {
     "name": "stdout",
     "output_type": "stream",
     "text": [
      "[CV] ........ C=0.1, penalty=l2, score=0.93414299720488, total=  11.9s\n",
      "[CV] C=1.0, penalty=l2 ...............................................\n",
      "[CV] ...... C=0.1, penalty=l2, score=0.9343704671806133, total=  12.5s\n",
      "[CV] C=1.0, penalty=l2 ...............................................\n",
      "[CV] ...... C=1.0, penalty=l2, score=0.9357168132062554, total=  13.8s\n",
      "[CV] C=1.0, penalty=l2 ...............................................\n",
      "[CV] ...... C=1.0, penalty=l2, score=0.9346370972570652, total=  11.9s\n",
      "[CV] C=10.0, penalty=l2 ..............................................\n",
      "[CV] ...... C=1.0, penalty=l2, score=0.9343512440210793, total=  13.2s\n",
      "[CV] C=10.0, penalty=l2 ..............................................\n"
     ]
    },
    {
     "name": "stderr",
     "output_type": "stream",
     "text": [
      "[Parallel(n_jobs=2)]: Done   9 tasks      | elapsed:  1.2min\n"
     ]
    },
    {
     "name": "stdout",
     "output_type": "stream",
     "text": [
      "[CV] ..... C=10.0, penalty=l2, score=0.9369514462453202, total=  13.1s\n",
      "[CV] C=10.0, penalty=l2 ..............................................\n",
      "[CV] ..... C=10.0, penalty=l2, score=0.9347963031951282, total=  13.6s\n",
      "[CV] C=100.0, penalty=l2 .............................................\n",
      "[CV] ...... C=10.0, penalty=l2, score=0.934340423091259, total=  13.5s\n",
      "[CV] C=100.0, penalty=l2 .............................................\n",
      "[CV] ..... C=100.0, penalty=l2, score=0.937217644556969, total=  13.4s\n",
      "[CV] C=100.0, penalty=l2 .............................................\n",
      "[CV] .... C=100.0, penalty=l2, score=0.9341022463907691, total=  12.0s\n",
      "[CV] ..... C=100.0, penalty=l2, score=0.934403798744312, total=  10.4s\n"
     ]
    },
    {
     "name": "stderr",
     "output_type": "stream",
     "text": [
      "[Parallel(n_jobs=2)]: Done  15 out of  15 | elapsed:  1.9min finished\n"
     ]
    },
    {
     "name": "stdout",
     "output_type": "stream",
     "text": [
      "Completed calculation for toxic\n",
      "Fitting 3 folds for each of 5 candidates, totalling 15 fits\n",
      "[CV] C=0.01, penalty=l2 ..............................................\n",
      "[CV] C=0.01, penalty=l2 ..............................................\n",
      "[CV] ..... C=0.01, penalty=l2, score=0.9584774189789976, total=   9.3s\n",
      "[CV] C=0.01, penalty=l2 ..............................................\n"
     ]
    },
    {
     "name": "stderr",
     "output_type": "stream",
     "text": [
      "[Parallel(n_jobs=2)]: Done   1 tasks      | elapsed:   14.1s\n"
     ]
    },
    {
     "name": "stdout",
     "output_type": "stream",
     "text": [
      "[CV] ..... C=0.01, penalty=l2, score=0.9440713709585876, total=  12.9s\n",
      "[CV] C=0.1, penalty=l2 ...............................................\n",
      "[CV] ..... C=0.01, penalty=l2, score=0.9483735040715775, total=  12.3s\n",
      "[CV] C=0.1, penalty=l2 ...............................................\n",
      "[CV] ...... C=0.1, penalty=l2, score=0.9615086968260965, total=  12.2s\n",
      "[CV] C=0.1, penalty=l2 ...............................................\n"
     ]
    },
    {
     "name": "stderr",
     "output_type": "stream",
     "text": [
      "[Parallel(n_jobs=2)]: Done   4 tasks      | elapsed:   34.4s\n"
     ]
    },
    {
     "name": "stdout",
     "output_type": "stream",
     "text": [
      "[CV] ...... C=0.1, penalty=l2, score=0.9453514897309929, total=  12.6s\n",
      "[CV] C=1.0, penalty=l2 ...............................................\n",
      "[CV] ....... C=0.1, penalty=l2, score=0.950106929560532, total=  13.3s\n",
      "[CV] C=1.0, penalty=l2 ...............................................\n",
      "[CV] ...... C=1.0, penalty=l2, score=0.9607178945483688, total=  12.3s\n",
      "[CV] C=1.0, penalty=l2 ...............................................\n",
      "[CV] ...... C=1.0, penalty=l2, score=0.9425002966311695, total=  13.0s\n",
      "[CV] C=10.0, penalty=l2 ..............................................\n",
      "[CV] ...... C=1.0, penalty=l2, score=0.9505076248333506, total=  11.4s\n",
      "[CV] C=10.0, penalty=l2 ..............................................\n"
     ]
    },
    {
     "name": "stderr",
     "output_type": "stream",
     "text": [
      "[Parallel(n_jobs=2)]: Done   9 tasks      | elapsed:  1.2min\n"
     ]
    },
    {
     "name": "stdout",
     "output_type": "stream",
     "text": [
      "[CV] ..... C=10.0, penalty=l2, score=0.9626602397293867, total=  12.6s\n",
      "[CV] C=10.0, penalty=l2 ..............................................\n",
      "[CV] ..... C=10.0, penalty=l2, score=0.9453513112525517, total=  12.6s\n",
      "[CV] C=100.0, penalty=l2 .............................................\n",
      "[CV] ..... C=10.0, penalty=l2, score=0.9488049202690079, total=  11.1s\n",
      "[CV] C=100.0, penalty=l2 .............................................\n",
      "[CV] .... C=100.0, penalty=l2, score=0.9609239300610096, total=  11.5s\n",
      "[CV] C=100.0, penalty=l2 .............................................\n",
      "[CV] .... C=100.0, penalty=l2, score=0.9430053192286818, total=  11.8s\n",
      "[CV] .... C=100.0, penalty=l2, score=0.9435557192097476, total=   9.7s\n"
     ]
    },
    {
     "name": "stderr",
     "output_type": "stream",
     "text": [
      "[Parallel(n_jobs=2)]: Done  15 out of  15 | elapsed:  1.8min finished\n"
     ]
    },
    {
     "name": "stdout",
     "output_type": "stream",
     "text": [
      "Completed calculation for severe_toxic\n",
      "Fitting 3 folds for each of 5 candidates, totalling 15 fits\n",
      "[CV] C=0.01, penalty=l2 ..............................................\n",
      "[CV] C=0.01, penalty=l2 ..............................................\n",
      "[CV] ..... C=0.01, penalty=l2, score=0.9528148688139306, total=  13.3s\n",
      "[CV] C=0.01, penalty=l2 ..............................................\n"
     ]
    },
    {
     "name": "stderr",
     "output_type": "stream",
     "text": [
      "[Parallel(n_jobs=2)]: Done   1 tasks      | elapsed:   17.9s\n"
     ]
    },
    {
     "name": "stdout",
     "output_type": "stream",
     "text": [
      "[CV] ..... C=0.01, penalty=l2, score=0.9462545690902504, total=  11.4s\n",
      "[CV] C=0.1, penalty=l2 ...............................................\n",
      "[CV] ..... C=0.01, penalty=l2, score=0.9478386611329076, total=  12.0s\n",
      "[CV] C=0.1, penalty=l2 ...............................................\n",
      "[CV] ...... C=0.1, penalty=l2, score=0.9542545155914978, total=  11.4s\n"
     ]
    },
    {
     "name": "stderr",
     "output_type": "stream",
     "text": [
      "[Parallel(n_jobs=2)]: Done   4 tasks      | elapsed:   33.6s\n"
     ]
    },
    {
     "name": "stdout",
     "output_type": "stream",
     "text": [
      "[CV] C=0.1, penalty=l2 ...............................................\n",
      "[CV] ...... C=0.1, penalty=l2, score=0.9488509789107026, total=  10.4s\n",
      "[CV] C=1.0, penalty=l2 ...............................................\n",
      "[CV] ...... C=0.1, penalty=l2, score=0.9493056497061074, total=  10.7s\n",
      "[CV] C=1.0, penalty=l2 ...............................................\n",
      "[CV] ...... C=1.0, penalty=l2, score=0.9561278865185325, total=  11.6s\n",
      "[CV] C=1.0, penalty=l2 ...............................................\n",
      "[CV] ....... C=1.0, penalty=l2, score=0.948494532910872, total=  10.0s\n",
      "[CV] C=10.0, penalty=l2 ..............................................\n",
      "[CV] ....... C=1.0, penalty=l2, score=0.950596780400784, total=  11.5s\n",
      "[CV] C=10.0, penalty=l2 ..............................................\n"
     ]
    },
    {
     "name": "stderr",
     "output_type": "stream",
     "text": [
      "[Parallel(n_jobs=2)]: Done   9 tasks      | elapsed:  1.2min\n"
     ]
    },
    {
     "name": "stdout",
     "output_type": "stream",
     "text": [
      "[CV] ..... C=10.0, penalty=l2, score=0.9564008817876152, total=  11.2s\n",
      "[CV] C=10.0, penalty=l2 ..............................................\n",
      "[CV] ..... C=10.0, penalty=l2, score=0.9519414206451651, total=  11.7s\n",
      "[CV] C=100.0, penalty=l2 .............................................\n",
      "[CV] ..... C=10.0, penalty=l2, score=0.9511728619359012, total=  11.9s\n",
      "[CV] C=100.0, penalty=l2 .............................................\n",
      "[CV] .... C=100.0, penalty=l2, score=0.9567445800055274, total=  11.4s\n",
      "[CV] C=100.0, penalty=l2 .............................................\n",
      "[CV] .... C=100.0, penalty=l2, score=0.9477733999964358, total=  11.1s\n",
      "[CV] ..... C=100.0, penalty=l2, score=0.951419433771751, total=   9.2s\n"
     ]
    },
    {
     "name": "stderr",
     "output_type": "stream",
     "text": [
      "[Parallel(n_jobs=2)]: Done  15 out of  15 | elapsed:  1.8min finished\n"
     ]
    },
    {
     "name": "stdout",
     "output_type": "stream",
     "text": [
      "Completed calculation for obscene\n",
      "Fitting 3 folds for each of 5 candidates, totalling 15 fits\n",
      "[CV] C=0.01, penalty=l2 ..............................................\n",
      "[CV] C=0.01, penalty=l2 ..............................................\n",
      "[CV] ..... C=0.01, penalty=l2, score=0.8915188757519187, total=   9.1s\n",
      "[CV] C=0.01, penalty=l2 ..............................................\n"
     ]
    },
    {
     "name": "stderr",
     "output_type": "stream",
     "text": [
      "[Parallel(n_jobs=2)]: Done   1 tasks      | elapsed:   13.9s\n"
     ]
    },
    {
     "name": "stdout",
     "output_type": "stream",
     "text": [
      "[CV] ..... C=0.01, penalty=l2, score=0.9032004420340826, total=   9.5s\n",
      "[CV] C=0.1, penalty=l2 ...............................................\n",
      "[CV] ..... C=0.01, penalty=l2, score=0.8584277690194024, total=  10.7s\n",
      "[CV] C=0.1, penalty=l2 ...............................................\n",
      "[CV] ...... C=0.1, penalty=l2, score=0.9329137674190568, total=  13.3s\n",
      "[CV] C=0.1, penalty=l2 ...............................................\n"
     ]
    },
    {
     "name": "stderr",
     "output_type": "stream",
     "text": [
      "[Parallel(n_jobs=2)]: Done   4 tasks      | elapsed:   31.7s\n"
     ]
    },
    {
     "name": "stdout",
     "output_type": "stream",
     "text": [
      "[CV] ...... C=0.1, penalty=l2, score=0.9246530657456912, total=  13.2s\n",
      "[CV] C=1.0, penalty=l2 ...............................................\n",
      "[CV] ...... C=0.1, penalty=l2, score=0.9171881072528006, total=  14.0s\n",
      "[CV] C=1.0, penalty=l2 ...............................................\n",
      "[CV] ...... C=1.0, penalty=l2, score=0.9335706944994437, total=  12.7s\n",
      "[CV] C=1.0, penalty=l2 ...............................................\n",
      "[CV] ...... C=1.0, penalty=l2, score=0.9252319368438705, total=  13.2s\n",
      "[CV] C=10.0, penalty=l2 ..............................................\n",
      "[CV] ...... C=1.0, penalty=l2, score=0.9190346598032314, total=  13.2s\n",
      "[CV] C=10.0, penalty=l2 ..............................................\n"
     ]
    },
    {
     "name": "stderr",
     "output_type": "stream",
     "text": [
      "[Parallel(n_jobs=2)]: Done   9 tasks      | elapsed:  1.2min\n"
     ]
    },
    {
     "name": "stdout",
     "output_type": "stream",
     "text": [
      "[CV] ..... C=10.0, penalty=l2, score=0.9329591418227074, total=  12.5s\n",
      "[CV] C=10.0, penalty=l2 ..............................................\n",
      "[CV] ..... C=10.0, penalty=l2, score=0.9245819076512624, total=  12.3s\n",
      "[CV] C=100.0, penalty=l2 .............................................\n",
      "[CV] ....... C=10.0, penalty=l2, score=0.91873638879075, total=  14.0s\n",
      "[CV] C=100.0, penalty=l2 .............................................\n",
      "[CV] .... C=100.0, penalty=l2, score=0.9336669825196583, total=  13.5s\n",
      "[CV] C=100.0, penalty=l2 .............................................\n",
      "[CV] .... C=100.0, penalty=l2, score=0.9246530657456911, total=  11.7s\n",
      "[CV] .... C=100.0, penalty=l2, score=0.9185544612626602, total=  10.9s\n"
     ]
    },
    {
     "name": "stderr",
     "output_type": "stream",
     "text": [
      "[Parallel(n_jobs=2)]: Done  15 out of  15 | elapsed:  1.9min finished\n"
     ]
    },
    {
     "name": "stdout",
     "output_type": "stream",
     "text": [
      "Completed calculation for threat\n",
      "Fitting 3 folds for each of 5 candidates, totalling 15 fits\n",
      "[CV] C=0.01, penalty=l2 ..............................................\n",
      "[CV] C=0.01, penalty=l2 ..............................................\n",
      "[CV] ..... C=0.01, penalty=l2, score=0.9283851766734301, total=  11.0s\n",
      "[CV] C=0.01, penalty=l2 ..............................................\n"
     ]
    },
    {
     "name": "stderr",
     "output_type": "stream",
     "text": [
      "[Parallel(n_jobs=2)]: Done   1 tasks      | elapsed:   15.6s\n"
     ]
    },
    {
     "name": "stdout",
     "output_type": "stream",
     "text": [
      "[CV] ..... C=0.01, penalty=l2, score=0.9319315836154275, total=  14.1s\n",
      "[CV] C=0.1, penalty=l2 ...............................................\n",
      "[CV] ..... C=0.01, penalty=l2, score=0.9247071434221975, total=  15.4s\n",
      "[CV] C=0.1, penalty=l2 ...............................................\n",
      "[CV] ...... C=0.1, penalty=l2, score=0.9313195581475405, total=  11.7s\n"
     ]
    },
    {
     "name": "stderr",
     "output_type": "stream",
     "text": [
      "[Parallel(n_jobs=2)]: Done   4 tasks      | elapsed:   34.7s\n"
     ]
    },
    {
     "name": "stdout",
     "output_type": "stream",
     "text": [
      "[CV] C=0.1, penalty=l2 ...............................................\n",
      "[CV] ...... C=0.1, penalty=l2, score=0.9332372334282922, total=  11.9s\n",
      "[CV] C=1.0, penalty=l2 ...............................................\n",
      "[CV] ...... C=0.1, penalty=l2, score=0.9237015192438814, total=  11.2s\n",
      "[CV] C=1.0, penalty=l2 ...............................................\n",
      "[CV] ...... C=1.0, penalty=l2, score=0.9309818208847789, total=  10.7s\n",
      "[CV] C=1.0, penalty=l2 ...............................................\n",
      "[CV] ....... C=1.0, penalty=l2, score=0.933243371230307, total=  11.5s\n",
      "[CV] C=10.0, penalty=l2 ..............................................\n",
      "[CV] ...... C=1.0, penalty=l2, score=0.9242169621903029, total=  10.9s\n",
      "[CV] C=10.0, penalty=l2 ..............................................\n"
     ]
    },
    {
     "name": "stderr",
     "output_type": "stream",
     "text": [
      "[Parallel(n_jobs=2)]: Done   9 tasks      | elapsed:  1.2min\n"
     ]
    },
    {
     "name": "stdout",
     "output_type": "stream",
     "text": [
      "[CV] ..... C=10.0, penalty=l2, score=0.9312815188371403, total=  10.9s\n",
      "[CV] C=10.0, penalty=l2 ..............................................\n",
      "[CV] ..... C=10.0, penalty=l2, score=0.9324729678773048, total=  11.6s\n",
      "[CV] C=100.0, penalty=l2 .............................................\n",
      "[CV] ..... C=10.0, penalty=l2, score=0.9244806770109356, total=  11.8s\n",
      "[CV] C=100.0, penalty=l2 .............................................\n",
      "[CV] .... C=100.0, penalty=l2, score=0.9313696395995623, total=  11.3s\n",
      "[CV] C=100.0, penalty=l2 .............................................\n",
      "[CV] .... C=100.0, penalty=l2, score=0.9329905239114834, total=  11.7s\n",
      "[CV] .... C=100.0, penalty=l2, score=0.9235701251784632, total=   9.2s\n"
     ]
    },
    {
     "name": "stderr",
     "output_type": "stream",
     "text": [
      "[Parallel(n_jobs=2)]: Done  15 out of  15 | elapsed:  1.8min finished\n"
     ]
    },
    {
     "name": "stdout",
     "output_type": "stream",
     "text": [
      "Completed calculation for insult\n",
      "Fitting 3 folds for each of 5 candidates, totalling 15 fits\n",
      "[CV] C=0.01, penalty=l2 ..............................................\n",
      "[CV] C=0.01, penalty=l2 ..............................................\n",
      "[CV] ..... C=0.01, penalty=l2, score=0.8826133036066639, total=  14.3s\n",
      "[CV] C=0.01, penalty=l2 ..............................................\n"
     ]
    },
    {
     "name": "stderr",
     "output_type": "stream",
     "text": [
      "[Parallel(n_jobs=2)]: Done   1 tasks      | elapsed:   19.0s\n"
     ]
    },
    {
     "name": "stdout",
     "output_type": "stream",
     "text": [
      "[CV] ..... C=0.01, penalty=l2, score=0.9046365438194276, total=  12.4s\n",
      "[CV] C=0.1, penalty=l2 ...............................................\n",
      "[CV] ..... C=0.01, penalty=l2, score=0.8643686023480037, total=  13.8s\n",
      "[CV] C=0.1, penalty=l2 ...............................................\n",
      "[CV] ...... C=0.1, penalty=l2, score=0.8933829527353883, total=  13.8s\n"
     ]
    },
    {
     "name": "stderr",
     "output_type": "stream",
     "text": [
      "[Parallel(n_jobs=2)]: Done   4 tasks      | elapsed:   37.4s\n"
     ]
    },
    {
     "name": "stdout",
     "output_type": "stream",
     "text": [
      "[CV] C=0.1, penalty=l2 ...............................................\n",
      "[CV] ...... C=0.1, penalty=l2, score=0.9154300155921871, total=  16.0s\n",
      "[CV] C=1.0, penalty=l2 ...............................................\n",
      "[CV] ...... C=0.1, penalty=l2, score=0.8666108505928694, total=  14.5s\n",
      "[CV] C=1.0, penalty=l2 ...............................................\n",
      "[CV] ...... C=1.0, penalty=l2, score=0.8958248151849961, total=  11.8s\n",
      "[CV] C=1.0, penalty=l2 ...............................................\n",
      "[CV] ...... C=1.0, penalty=l2, score=0.9154217882737287, total=  12.3s\n",
      "[CV] C=10.0, penalty=l2 ..............................................\n",
      "[CV] ...... C=1.0, penalty=l2, score=0.8613375447476961, total=  12.3s\n",
      "[CV] C=10.0, penalty=l2 ..............................................\n"
     ]
    },
    {
     "name": "stderr",
     "output_type": "stream",
     "text": [
      "[Parallel(n_jobs=2)]: Done   9 tasks      | elapsed:  1.3min\n"
     ]
    },
    {
     "name": "stdout",
     "output_type": "stream",
     "text": [
      "[CV] ...... C=10.0, penalty=l2, score=0.895865500085778, total=  13.0s\n",
      "[CV] C=10.0, penalty=l2 ..............................................\n",
      "[CV] ..... C=10.0, penalty=l2, score=0.9154137230699199, total=  13.1s\n",
      "[CV] C=100.0, penalty=l2 .............................................\n",
      "[CV] ..... C=10.0, penalty=l2, score=0.8626577659239547, total=  13.0s\n",
      "[CV] C=100.0, penalty=l2 .............................................\n",
      "[CV] .... C=100.0, penalty=l2, score=0.8958683310430888, total=  12.3s\n",
      "[CV] C=100.0, penalty=l2 .............................................\n",
      "[CV] ..... C=100.0, penalty=l2, score=0.915461871120799, total=  11.9s\n",
      "[CV] .... C=100.0, penalty=l2, score=0.8614776928621245, total=   9.7s\n"
     ]
    },
    {
     "name": "stderr",
     "output_type": "stream",
     "text": [
      "[Parallel(n_jobs=2)]: Done  15 out of  15 | elapsed:  2.0min finished\n"
     ]
    },
    {
     "name": "stdout",
     "output_type": "stream",
     "text": [
      "Completed calculation for identity_hate\n"
     ]
    }
   ],
   "source": [
    "final_models = []\n",
    "gs_objs = []\n",
    "for i in output_names:\n",
    "    lr = LogisticRegression(random_state = 10)\n",
    "    param_grid = {'C': 10**np.linspace(-2,2,5),\n",
    "        'penalty': ['l2']\n",
    "    }\n",
    "    gs = GridSearchCV(estimator = lr, param_grid = param_grid, scoring = 'roc_auc', \n",
    "                      n_jobs = 2, cv = 3, refit = True, verbose = 10, return_train_score = True).fit(train_mat, train[i])\n",
    "    final_models.append(gs.best_estimator_)\n",
    "    gs_objs.append(gs)\n",
    "    print('Completed calculation for', i)"
   ]
  },
  {
   "cell_type": "code",
   "execution_count": 13,
   "metadata": {},
   "outputs": [
    {
     "name": "stdout",
     "output_type": "stream",
     "text": [
      "toxic 0.935674230897\n",
      "severe_toxic 0.952322399807\n",
      "obscene 0.953171741693\n",
      "threat 0.925945811499\n",
      "insult 0.929480784076\n",
      "identity_hate 0.89180794951\n"
     ]
    }
   ],
   "source": [
    "for a,b in zip(output_names, gs_objs):\n",
    "    print(a,b.best_score_)"
   ]
  },
  {
   "cell_type": "markdown",
   "metadata": {},
   "source": [
    "#### Submission"
   ]
  },
  {
   "cell_type": "code",
   "execution_count": 14,
   "metadata": {
    "collapsed": true
   },
   "outputs": [],
   "source": [
    "test_mat = bow.transform(test['comment_text'])"
   ]
  },
  {
   "cell_type": "code",
   "execution_count": 18,
   "metadata": {
    "collapsed": true
   },
   "outputs": [],
   "source": [
    "pred = [model.predict_proba(test_mat)[:,1] for model in final_models]"
   ]
  },
  {
   "cell_type": "code",
   "execution_count": 19,
   "metadata": {
    "collapsed": true
   },
   "outputs": [],
   "source": [
    "for count,i in enumerate(output_names):\n",
    "    test[i] = pred[count].flatten()"
   ]
  },
  {
   "cell_type": "code",
   "execution_count": 20,
   "metadata": {
    "collapsed": true
   },
   "outputs": [],
   "source": [
    "test[['id', 'toxic', 'severe_toxic', 'obscene', 'threat', 'insult', 'identity_hate']].to_csv('data/answers/linear_baseline1.csv', index = False)"
   ]
  },
  {
   "cell_type": "code",
   "execution_count": null,
   "metadata": {
    "collapsed": true
   },
   "outputs": [],
   "source": []
  }
 ],
 "metadata": {
  "kernelspec": {
   "display_name": "Python 3",
   "language": "python",
   "name": "python3"
  },
  "language_info": {
   "codemirror_mode": {
    "name": "ipython",
    "version": 3
   },
   "file_extension": ".py",
   "mimetype": "text/x-python",
   "name": "python",
   "nbconvert_exporter": "python",
   "pygments_lexer": "ipython3",
   "version": "3.6.3"
  }
 },
 "nbformat": 4,
 "nbformat_minor": 2
}
