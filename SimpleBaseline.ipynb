{
 "cells": [
  {
   "cell_type": "code",
   "execution_count": 37,
   "metadata": {
    "collapsed": true
   },
   "outputs": [],
   "source": [
    "import numpy as np\n",
    "import pandas as pd\n",
    "import nltk\n",
    "import string\n",
    "import re\n",
    "import matplotlib.pyplot as plt\n",
    "import unicodedata\n",
    "import sys\n",
    "import collections\n",
    "from sklearn.model_selection import train_test_split, GridSearchCV\n",
    "from sklearn.linear_model import LogisticRegression\n",
    "from sklearn.feature_extraction.text import TfidfVectorizer\n",
    "from sklearn.pipeline import Pipeline"
   ]
  },
  {
   "cell_type": "code",
   "execution_count": 2,
   "metadata": {
    "collapsed": true
   },
   "outputs": [],
   "source": [
    "stopwords = nltk.corpus.stopwords.words('english')\n",
    "unicodePuncs = [chr(i) for i in range(sys.maxunicode)\n",
    "                      if unicodedata.category(chr(i)).startswith('P')]\n",
    "stopwords += ([i for i in string.punctuation] + ['--', '\\'\\'', '``', '...'])\n",
    "stopwords += unicodePuncs"
   ]
  },
  {
   "cell_type": "code",
   "execution_count": 3,
   "metadata": {
    "collapsed": true
   },
   "outputs": [],
   "source": [
    "class BOWExtractor():      \n",
    "    def __init__(self, ngrams_to_take = {1: 100, 2: 50}, stopwords=[], tokenizer = nltk.word_tokenize, unicodeNormalize = True, binary = False):\n",
    "        self.ngrams_to_take = ngrams_to_take\n",
    "        self.stopwords = stopwords\n",
    "        self.tokenizer = tokenizer\n",
    "        self.unicodeNormalize = unicodeNormalize\n",
    "        self.binary = binary\n",
    "    \n",
    "    def hasnum(self,s):\n",
    "        return any(i.isdigit() for i in s)\n",
    "    \n",
    "    def hasPunc(self, s):\n",
    "        return any(i in string.punctuation for i in s)\n",
    "    \n",
    "    def preprocess(self, series):\n",
    "        if self.unicodeNormalize:\n",
    "            series = series.apply(lambda x: unicodedata.normalize('NFKD', x).encode('ascii','ignore').decode('utf-8'))\n",
    "        toks = series.apply(lambda x: list(filter(lambda z: z not in self.stopwords, map(lambda y: y.lower(),self.tokenizer(x)))))\n",
    "        toks = toks.apply(lambda x: [i for i in x if not self.hasPunc(i) and not self.hasnum(i)])\n",
    "        return toks\n",
    "    \n",
    "    def getngrams(self, lst, n=2):\n",
    "        ans = []\n",
    "        for i in range(len(lst) - n+1):\n",
    "            ans.append([lst[i+j] for j in range(n)])\n",
    "        return ans\n",
    "    \n",
    "    def flatten(self, x):\n",
    "        if isinstance(x, (np.ndarray, list, tuple)):\n",
    "            lst = []\n",
    "            for i in x:\n",
    "                lst += self.flatten(i)\n",
    "            return lst\n",
    "        else:\n",
    "            return [x]\n",
    "    \n",
    "    def fit(self, series): #input is a pandas series of strings\n",
    "        assert(isinstance(series.iloc[0], str))\n",
    "        toks = self.preprocess(series)\n",
    "        self.most_common_ngrams = {}\n",
    "        for i in self.ngrams_to_take.keys():\n",
    "            if i == 1:\n",
    "                self.most_common_ngrams[i] = {i[0]: i[1] for i in nltk.FreqDist(self.flatten(toks.values)).most_common(self.ngrams_to_take[i])}\n",
    "            else:\n",
    "                ngrams = [j for i in toks for j in self.getngrams(i)]\n",
    "                self.most_common_ngrams[i] = {i[0]: i[1] for i in collections.Counter(map(tuple, ngrams)).most_common(self.ngrams_to_take[i])}\n",
    "        self.features = [j for i in self.most_common_ngrams.keys() for j in self.most_common_ngrams[i].keys()]\n",
    "        return self\n",
    "            \n",
    "    def transform(self, series): #input is a pandas series of strings, output is a 2d numpy array, in the order of self.features\n",
    "        ngrams = {}\n",
    "        toks = self.preprocess(series)\n",
    "        for i in self.ngrams_to_take.keys():\n",
    "            if i == 1:\n",
    "                ngrams[1] = toks\n",
    "            else:\n",
    "                ngrams[i] = toks.apply(lambda x: self.getngrams(x, i))\n",
    "        ans = np.zeros(shape = (len(series), len(self.features),), dtype='int16')\n",
    "        # loop through each feature\n",
    "        for count, i in enumerate(self.features):\n",
    "            if isinstance(i, str):\n",
    "                ans[:, count] = ngrams[1].apply(lambda x: x.count(i)).values\n",
    "            else: #tuple\n",
    "                ans[:, count] = ngrams[len(i)].apply(lambda x: x.count(i)).values\n",
    "        if self.binary:\n",
    "            ans = (ans>0).astype(int)\n",
    "        return ans"
   ]
  },
  {
   "cell_type": "markdown",
   "metadata": {},
   "source": [
    "#### Load Data"
   ]
  },
  {
   "cell_type": "code",
   "execution_count": 4,
   "metadata": {
    "collapsed": true
   },
   "outputs": [],
   "source": [
    "train = pd.read_csv('data/train.csv')\n",
    "test = pd.read_csv('data/test.csv')"
   ]
  },
  {
   "cell_type": "code",
   "execution_count": 5,
   "metadata": {},
   "outputs": [
    {
     "data": {
      "text/html": [
       "<div>\n",
       "<style>\n",
       "    .dataframe thead tr:only-child th {\n",
       "        text-align: right;\n",
       "    }\n",
       "\n",
       "    .dataframe thead th {\n",
       "        text-align: left;\n",
       "    }\n",
       "\n",
       "    .dataframe tbody tr th {\n",
       "        vertical-align: top;\n",
       "    }\n",
       "</style>\n",
       "<table border=\"1\" class=\"dataframe\">\n",
       "  <thead>\n",
       "    <tr style=\"text-align: right;\">\n",
       "      <th></th>\n",
       "      <th>id</th>\n",
       "      <th>comment_text</th>\n",
       "      <th>toxic</th>\n",
       "      <th>severe_toxic</th>\n",
       "      <th>obscene</th>\n",
       "      <th>threat</th>\n",
       "      <th>insult</th>\n",
       "      <th>identity_hate</th>\n",
       "    </tr>\n",
       "  </thead>\n",
       "  <tbody>\n",
       "    <tr>\n",
       "      <th>0</th>\n",
       "      <td>0000997932d777bf</td>\n",
       "      <td>Explanation\\nWhy the edits made under my usern...</td>\n",
       "      <td>0</td>\n",
       "      <td>0</td>\n",
       "      <td>0</td>\n",
       "      <td>0</td>\n",
       "      <td>0</td>\n",
       "      <td>0</td>\n",
       "    </tr>\n",
       "    <tr>\n",
       "      <th>1</th>\n",
       "      <td>000103f0d9cfb60f</td>\n",
       "      <td>D'aww! He matches this background colour I'm s...</td>\n",
       "      <td>0</td>\n",
       "      <td>0</td>\n",
       "      <td>0</td>\n",
       "      <td>0</td>\n",
       "      <td>0</td>\n",
       "      <td>0</td>\n",
       "    </tr>\n",
       "    <tr>\n",
       "      <th>2</th>\n",
       "      <td>000113f07ec002fd</td>\n",
       "      <td>Hey man, I'm really not trying to edit war. It...</td>\n",
       "      <td>0</td>\n",
       "      <td>0</td>\n",
       "      <td>0</td>\n",
       "      <td>0</td>\n",
       "      <td>0</td>\n",
       "      <td>0</td>\n",
       "    </tr>\n",
       "    <tr>\n",
       "      <th>3</th>\n",
       "      <td>0001b41b1c6bb37e</td>\n",
       "      <td>\"\\nMore\\nI can't make any real suggestions on ...</td>\n",
       "      <td>0</td>\n",
       "      <td>0</td>\n",
       "      <td>0</td>\n",
       "      <td>0</td>\n",
       "      <td>0</td>\n",
       "      <td>0</td>\n",
       "    </tr>\n",
       "    <tr>\n",
       "      <th>4</th>\n",
       "      <td>0001d958c54c6e35</td>\n",
       "      <td>You, sir, are my hero. Any chance you remember...</td>\n",
       "      <td>0</td>\n",
       "      <td>0</td>\n",
       "      <td>0</td>\n",
       "      <td>0</td>\n",
       "      <td>0</td>\n",
       "      <td>0</td>\n",
       "    </tr>\n",
       "  </tbody>\n",
       "</table>\n",
       "</div>"
      ],
      "text/plain": [
       "                 id                                       comment_text  toxic  \\\n",
       "0  0000997932d777bf  Explanation\\nWhy the edits made under my usern...      0   \n",
       "1  000103f0d9cfb60f  D'aww! He matches this background colour I'm s...      0   \n",
       "2  000113f07ec002fd  Hey man, I'm really not trying to edit war. It...      0   \n",
       "3  0001b41b1c6bb37e  \"\\nMore\\nI can't make any real suggestions on ...      0   \n",
       "4  0001d958c54c6e35  You, sir, are my hero. Any chance you remember...      0   \n",
       "\n",
       "   severe_toxic  obscene  threat  insult  identity_hate  \n",
       "0             0        0       0       0              0  \n",
       "1             0        0       0       0              0  \n",
       "2             0        0       0       0              0  \n",
       "3             0        0       0       0              0  \n",
       "4             0        0       0       0              0  "
      ]
     },
     "execution_count": 5,
     "metadata": {},
     "output_type": "execute_result"
    }
   ],
   "source": [
    "train.head()"
   ]
  },
  {
   "cell_type": "code",
   "execution_count": 6,
   "metadata": {
    "collapsed": true
   },
   "outputs": [],
   "source": [
    "output_names = ['toxic','severe_toxic','obscene','threat','insult','identity_hate']"
   ]
  },
  {
   "cell_type": "code",
   "execution_count": 7,
   "metadata": {},
   "outputs": [
    {
     "data": {
      "text/html": [
       "<div>\n",
       "<style>\n",
       "    .dataframe thead tr:only-child th {\n",
       "        text-align: right;\n",
       "    }\n",
       "\n",
       "    .dataframe thead th {\n",
       "        text-align: left;\n",
       "    }\n",
       "\n",
       "    .dataframe tbody tr th {\n",
       "        vertical-align: top;\n",
       "    }\n",
       "</style>\n",
       "<table border=\"1\" class=\"dataframe\">\n",
       "  <thead>\n",
       "    <tr style=\"text-align: right;\">\n",
       "      <th></th>\n",
       "      <th>toxic</th>\n",
       "      <th>severe_toxic</th>\n",
       "      <th>obscene</th>\n",
       "      <th>threat</th>\n",
       "      <th>insult</th>\n",
       "      <th>identity_hate</th>\n",
       "    </tr>\n",
       "  </thead>\n",
       "  <tbody>\n",
       "    <tr>\n",
       "      <th>0</th>\n",
       "      <td>144277</td>\n",
       "      <td>157976</td>\n",
       "      <td>151122</td>\n",
       "      <td>159093</td>\n",
       "      <td>151694</td>\n",
       "      <td>158166</td>\n",
       "    </tr>\n",
       "    <tr>\n",
       "      <th>1</th>\n",
       "      <td>15294</td>\n",
       "      <td>1595</td>\n",
       "      <td>8449</td>\n",
       "      <td>478</td>\n",
       "      <td>7877</td>\n",
       "      <td>1405</td>\n",
       "    </tr>\n",
       "  </tbody>\n",
       "</table>\n",
       "</div>"
      ],
      "text/plain": [
       "    toxic  severe_toxic  obscene  threat  insult  identity_hate\n",
       "0  144277        157976   151122  159093  151694         158166\n",
       "1   15294          1595     8449     478    7877           1405"
      ]
     },
     "execution_count": 7,
     "metadata": {},
     "output_type": "execute_result"
    }
   ],
   "source": [
    "train[output_names].apply(pd.value_counts)"
   ]
  },
  {
   "cell_type": "code",
   "execution_count": 8,
   "metadata": {
    "collapsed": true
   },
   "outputs": [],
   "source": [
    "#traindf, valdf = train_test_split(train, test_size = 0.1, random_state = 42, stratify = train.threat)"
   ]
  },
  {
   "cell_type": "markdown",
   "metadata": {
    "collapsed": true
   },
   "source": [
    "#### Feature Extraction"
   ]
  },
  {
   "cell_type": "code",
   "execution_count": 9,
   "metadata": {
    "collapsed": true
   },
   "outputs": [],
   "source": [
    "# bow= BOWExtractor(ngrams_to_take = {1:2400, 2:1600, 3:400},stopwords = stopwords).fit(train['comment_text'])"
   ]
  },
  {
   "cell_type": "code",
   "execution_count": 10,
   "metadata": {},
   "outputs": [],
   "source": [
    "# train_mat = bow.transform(train['comment_text']).astype('int16')"
   ]
  },
  {
   "cell_type": "code",
   "execution_count": 25,
   "metadata": {},
   "outputs": [],
   "source": [
    "# tf = TfidfVectorizer(input = 'content', analyzer = 'word', \n",
    "#                      tokenizer = nltk.word_tokenize, ngram_range = (1, 4), \n",
    "#                      stop_words = stopwords, max_features = 200000, dtype='int16').fit(train['comment_text'].values)"
   ]
  },
  {
   "cell_type": "code",
   "execution_count": 26,
   "metadata": {
    "collapsed": true
   },
   "outputs": [],
   "source": [
    "# train_mat = tf.transform(train['comment_text'].values)"
   ]
  },
  {
   "cell_type": "code",
   "execution_count": 27,
   "metadata": {},
   "outputs": [
    {
     "data": {
      "text/plain": [
       "(159571, 100000)"
      ]
     },
     "execution_count": 27,
     "metadata": {},
     "output_type": "execute_result"
    }
   ],
   "source": [
    "# train_mat.shape"
   ]
  },
  {
   "cell_type": "markdown",
   "metadata": {},
   "source": [
    "#### Model"
   ]
  },
  {
   "cell_type": "code",
   "execution_count": 40,
   "metadata": {
    "collapsed": true
   },
   "outputs": [],
   "source": [
    "tf = TfidfVectorizer(input = 'content', analyzer = 'word', \n",
    "                     tokenizer = nltk.word_tokenize, ngram_range = (1, 4), \n",
    "                     stop_words = stopwords, max_features = 100000, dtype='int16')"
   ]
  },
  {
   "cell_type": "code",
   "execution_count": 41,
   "metadata": {
    "collapsed": true
   },
   "outputs": [],
   "source": [
    "pipe = Pipeline(steps = [\n",
    "    ('tfidf', tf),\n",
    "    ('lr', LogisticRegression(random_state = 10))    \n",
    "])"
   ]
  },
  {
   "cell_type": "code",
   "execution_count": 44,
   "metadata": {
    "scrolled": true
   },
   "outputs": [
    {
     "name": "stdout",
     "output_type": "stream",
     "text": [
      "Fitting 3 folds for each of 5 candidates, totalling 15 fits\n",
      "[CV] lr__C=0.01, lr__penalty=l2 ......................................\n",
      "[CV] lr__C=0.01, lr__penalty=l2 ......................................\n",
      "[CV]  lr__C=0.01, lr__penalty=l2, score=0.9419268169262449, total= 3.0min\n",
      "[CV]  lr__C=0.01, lr__penalty=l2, score=0.9356197359826907, total= 3.0min\n"
     ]
    },
    {
     "name": "stderr",
     "output_type": "stream",
     "text": [
      "[Parallel(n_jobs=2)]: Done   1 tasks      | elapsed:  4.3min\n"
     ]
    },
    {
     "name": "stdout",
     "output_type": "stream",
     "text": [
      "[CV] lr__C=0.01, lr__penalty=l2 ......................................\n",
      "[CV] lr__C=0.1, lr__penalty=l2 .......................................\n",
      "[CV]  lr__C=0.1, lr__penalty=l2, score=0.9566178468115633, total= 2.8min\n",
      "[CV] lr__C=0.1, lr__penalty=l2 .......................................\n",
      "[CV]  lr__C=0.01, lr__penalty=l2, score=0.93669610851465, total= 2.8min\n"
     ]
    },
    {
     "name": "stderr",
     "output_type": "stream",
     "text": [
      "[Parallel(n_jobs=2)]: Done   4 tasks      | elapsed:  8.5min\n"
     ]
    },
    {
     "name": "stdout",
     "output_type": "stream",
     "text": [
      "[CV] lr__C=0.1, lr__penalty=l2 .......................................\n",
      "[CV]  lr__C=0.1, lr__penalty=l2, score=0.9508638360919786, total= 2.9min\n",
      "[CV] lr__C=1.0, lr__penalty=l2 .......................................\n",
      "[CV]  lr__C=0.1, lr__penalty=l2, score=0.9518373220974693, total= 2.9min\n",
      "[CV] lr__C=1.0, lr__penalty=l2 .......................................\n",
      "[CV]  lr__C=1.0, lr__penalty=l2, score=0.9689821274177841, total= 2.9min\n",
      "[CV] lr__C=1.0, lr__penalty=l2 .......................................\n",
      "[CV]  lr__C=1.0, lr__penalty=l2, score=0.9649394144582369, total= 2.9min\n",
      "[CV] lr__C=10.0, lr__penalty=l2 ......................................\n",
      "[CV]  lr__C=1.0, lr__penalty=l2, score=0.9660830007491525, total= 2.9min\n"
     ]
    },
    {
     "name": "stderr",
     "output_type": "stream",
     "text": [
      "[Parallel(n_jobs=2)]: Done   9 tasks      | elapsed: 21.2min\n"
     ]
    },
    {
     "name": "stdout",
     "output_type": "stream",
     "text": [
      "[CV] lr__C=10.0, lr__penalty=l2 ......................................\n",
      "[CV]  lr__C=10.0, lr__penalty=l2, score=0.9660302040662568, total= 2.9min\n",
      "[CV] lr__C=10.0, lr__penalty=l2 ......................................\n",
      "[CV]  lr__C=10.0, lr__penalty=l2, score=0.9644823372405714, total= 2.8min\n",
      "[CV] lr__C=100.0, lr__penalty=l2 .....................................\n",
      "[CV]  lr__C=10.0, lr__penalty=l2, score=0.9645844467647287, total= 2.9min\n",
      "[CV] lr__C=100.0, lr__penalty=l2 .....................................\n",
      "[CV]  lr__C=100.0, lr__penalty=l2, score=0.9544443045189588, total= 2.9min\n",
      "[CV] lr__C=100.0, lr__penalty=l2 .....................................\n",
      "[CV]  lr__C=100.0, lr__penalty=l2, score=0.9546502315736085, total= 2.9min\n",
      "[CV]  lr__C=100.0, lr__penalty=l2, score=0.9534901630446966, total= 2.7min\n"
     ]
    },
    {
     "name": "stderr",
     "output_type": "stream",
     "text": [
      "[Parallel(n_jobs=2)]: Done  15 out of  15 | elapsed: 33.5min finished\n"
     ]
    },
    {
     "name": "stdout",
     "output_type": "stream",
     "text": [
      "Completed calculation for toxic\n",
      "Fitting 3 folds for each of 5 candidates, totalling 15 fits\n",
      "[CV] lr__C=0.01, lr__penalty=l2 ......................................\n",
      "[CV] lr__C=0.01, lr__penalty=l2 ......................................\n",
      "[CV]  lr__C=0.01, lr__penalty=l2, score=0.9792203262100446, total= 2.8min\n"
     ]
    },
    {
     "name": "stderr",
     "output_type": "stream",
     "text": [
      "[Parallel(n_jobs=2)]: Done   1 tasks      | elapsed:  4.1min\n"
     ]
    },
    {
     "name": "stdout",
     "output_type": "stream",
     "text": [
      "[CV]  lr__C=0.01, lr__penalty=l2, score=0.9766206627775501, total= 2.8min\n",
      "[CV] lr__C=0.01, lr__penalty=l2 ......................................\n",
      "[CV] lr__C=0.1, lr__penalty=l2 .......................................\n",
      "[CV]  lr__C=0.01, lr__penalty=l2, score=0.9825358696299805, total= 2.9min\n",
      "[CV]  lr__C=0.1, lr__penalty=l2, score=0.9835815183146724, total= 2.9min\n"
     ]
    },
    {
     "name": "stderr",
     "output_type": "stream",
     "text": [
      "[Parallel(n_jobs=2)]: Done   4 tasks      | elapsed:  8.3min\n"
     ]
    },
    {
     "name": "stdout",
     "output_type": "stream",
     "text": [
      "[CV] lr__C=0.1, lr__penalty=l2 .......................................\n",
      "[CV] lr__C=0.1, lr__penalty=l2 .......................................\n",
      "[CV]  lr__C=0.1, lr__penalty=l2, score=0.9810698090580522, total= 2.8min\n",
      "[CV] lr__C=1.0, lr__penalty=l2 .......................................\n",
      "[CV]  lr__C=0.1, lr__penalty=l2, score=0.9844761159653033, total= 2.8min\n",
      "[CV] lr__C=1.0, lr__penalty=l2 .......................................\n",
      "[CV]  lr__C=1.0, lr__penalty=l2, score=0.9858571541369804, total= 2.8min\n",
      "[CV] lr__C=1.0, lr__penalty=l2 .......................................\n",
      "[CV]  lr__C=1.0, lr__penalty=l2, score=0.981896663980923, total= 2.8min\n",
      "[CV] lr__C=10.0, lr__penalty=l2 ......................................\n",
      "[CV]  lr__C=1.0, lr__penalty=l2, score=0.985450387709513, total= 2.9min\n"
     ]
    },
    {
     "name": "stderr",
     "output_type": "stream",
     "text": [
      "[Parallel(n_jobs=2)]: Done   9 tasks      | elapsed: 21.0min\n"
     ]
    },
    {
     "name": "stdout",
     "output_type": "stream",
     "text": [
      "[CV] lr__C=10.0, lr__penalty=l2 ......................................\n",
      "[CV]  lr__C=10.0, lr__penalty=l2, score=0.9813480391002002, total= 3.0min\n",
      "[CV] lr__C=10.0, lr__penalty=l2 ......................................\n",
      "[CV]  lr__C=10.0, lr__penalty=l2, score=0.9754322105325983, total= 2.9min\n",
      "[CV] lr__C=100.0, lr__penalty=l2 .....................................\n",
      "[CV]  lr__C=10.0, lr__penalty=l2, score=0.9808930690804515, total= 2.9min\n",
      "[CV] lr__C=100.0, lr__penalty=l2 .....................................\n",
      "[CV]  lr__C=100.0, lr__penalty=l2, score=0.9655424166866206, total= 3.0min\n",
      "[CV] lr__C=100.0, lr__penalty=l2 .....................................\n",
      "[CV]  lr__C=100.0, lr__penalty=l2, score=0.9594174827771873, total= 3.0min\n",
      "[CV]  lr__C=100.0, lr__penalty=l2, score=0.9675236731725645, total= 2.8min\n"
     ]
    },
    {
     "name": "stderr",
     "output_type": "stream",
     "text": [
      "[Parallel(n_jobs=2)]: Done  15 out of  15 | elapsed: 33.7min finished\n"
     ]
    },
    {
     "name": "stdout",
     "output_type": "stream",
     "text": [
      "Completed calculation for severe_toxic\n",
      "Fitting 3 folds for each of 5 candidates, totalling 15 fits\n",
      "[CV] lr__C=0.01, lr__penalty=l2 ......................................\n",
      "[CV] lr__C=0.01, lr__penalty=l2 ......................................\n",
      "[CV]  lr__C=0.01, lr__penalty=l2, score=0.9678850371038618, total= 2.9min\n"
     ]
    },
    {
     "name": "stderr",
     "output_type": "stream",
     "text": [
      "[Parallel(n_jobs=2)]: Done   1 tasks      | elapsed:  4.2min\n"
     ]
    },
    {
     "name": "stdout",
     "output_type": "stream",
     "text": [
      "[CV]  lr__C=0.01, lr__penalty=l2, score=0.966516190429677, total= 2.9min\n",
      "[CV] lr__C=0.01, lr__penalty=l2 ......................................\n",
      "[CV] lr__C=0.1, lr__penalty=l2 .......................................\n",
      "[CV]  lr__C=0.01, lr__penalty=l2, score=0.9682195924484853, total= 2.9min\n",
      "[CV]  lr__C=0.1, lr__penalty=l2, score=0.9760739931552668, total= 2.9min\n"
     ]
    },
    {
     "name": "stderr",
     "output_type": "stream",
     "text": [
      "[Parallel(n_jobs=2)]: Done   4 tasks      | elapsed:  8.5min\n"
     ]
    },
    {
     "name": "stdout",
     "output_type": "stream",
     "text": [
      "[CV] lr__C=0.1, lr__penalty=l2 .......................................\n",
      "[CV] lr__C=0.1, lr__penalty=l2 .......................................\n",
      "[CV]  lr__C=0.1, lr__penalty=l2, score=0.9746049055902756, total= 2.9min\n",
      "[CV]  lr__C=0.1, lr__penalty=l2, score=0.9747484272189476, total= 2.9min\n",
      "[CV] lr__C=1.0, lr__penalty=l2 .......................................\n",
      "[CV] lr__C=1.0, lr__penalty=l2 .......................................\n",
      "[CV]  lr__C=1.0, lr__penalty=l2, score=0.9818800632187108, total= 2.9min\n",
      "[CV]  lr__C=1.0, lr__penalty=l2, score=0.98168962495759, total= 2.9min\n",
      "[CV] lr__C=1.0, lr__penalty=l2 .......................................\n",
      "[CV] lr__C=10.0, lr__penalty=l2 ......................................\n",
      "[CV]  lr__C=1.0, lr__penalty=l2, score=0.9812191949107044, total= 2.9min\n"
     ]
    },
    {
     "name": "stderr",
     "output_type": "stream",
     "text": [
      "[Parallel(n_jobs=2)]: Done   9 tasks      | elapsed: 21.3min\n"
     ]
    },
    {
     "name": "stdout",
     "output_type": "stream",
     "text": [
      "[CV]  lr__C=10.0, lr__penalty=l2, score=0.9790409871188712, total= 2.9min\n",
      "[CV] lr__C=10.0, lr__penalty=l2 ......................................\n",
      "[CV] lr__C=10.0, lr__penalty=l2 ......................................\n",
      "[CV]  lr__C=10.0, lr__penalty=l2, score=0.9799273451627283, total= 2.9min\n",
      "[CV] lr__C=100.0, lr__penalty=l2 .....................................\n",
      "[CV]  lr__C=10.0, lr__penalty=l2, score=0.9786732598120603, total= 2.9min\n",
      "[CV] lr__C=100.0, lr__penalty=l2 .....................................\n",
      "[CV]  lr__C=100.0, lr__penalty=l2, score=0.968988554184103, total= 3.0min\n",
      "[CV] lr__C=100.0, lr__penalty=l2 .....................................\n",
      "[CV]  lr__C=100.0, lr__penalty=l2, score=0.9713249157664308, total= 3.0min\n",
      "[CV]  lr__C=100.0, lr__penalty=l2, score=0.9693199484334452, total= 2.7min\n"
     ]
    },
    {
     "name": "stderr",
     "output_type": "stream",
     "text": [
      "[Parallel(n_jobs=2)]: Done  15 out of  15 | elapsed: 34.0min finished\n"
     ]
    },
    {
     "name": "stdout",
     "output_type": "stream",
     "text": [
      "Completed calculation for obscene\n",
      "Fitting 3 folds for each of 5 candidates, totalling 15 fits\n",
      "[CV] lr__C=0.01, lr__penalty=l2 ......................................\n",
      "[CV] lr__C=0.01, lr__penalty=l2 ......................................\n",
      "[CV]  lr__C=0.01, lr__penalty=l2, score=0.9624854448341535, total= 2.9min\n"
     ]
    },
    {
     "name": "stderr",
     "output_type": "stream",
     "text": [
      "[Parallel(n_jobs=2)]: Done   1 tasks      | elapsed:  4.2min\n"
     ]
    },
    {
     "name": "stdout",
     "output_type": "stream",
     "text": [
      "[CV]  lr__C=0.01, lr__penalty=l2, score=0.9492669471007168, total= 2.9min\n",
      "[CV] lr__C=0.01, lr__penalty=l2 ......................................\n",
      "[CV] lr__C=0.1, lr__penalty=l2 .......................................\n",
      "[CV]  lr__C=0.01, lr__penalty=l2, score=0.9407525846102358, total= 2.9min\n",
      "[CV]  lr__C=0.1, lr__penalty=l2, score=0.9787338419980766, total= 2.9min\n"
     ]
    },
    {
     "name": "stderr",
     "output_type": "stream",
     "text": [
      "[Parallel(n_jobs=2)]: Done   4 tasks      | elapsed:  8.5min\n"
     ]
    },
    {
     "name": "stdout",
     "output_type": "stream",
     "text": [
      "[CV] lr__C=0.1, lr__penalty=l2 .......................................\n",
      "[CV] lr__C=0.1, lr__penalty=l2 .......................................\n",
      "[CV]  lr__C=0.1, lr__penalty=l2, score=0.9741450028813099, total= 2.9min\n",
      "[CV] lr__C=1.0, lr__penalty=l2 .......................................\n",
      "[CV]  lr__C=0.1, lr__penalty=l2, score=0.9746426944534281, total= 2.9min\n",
      "[CV] lr__C=1.0, lr__penalty=l2 .......................................\n",
      "[CV]  lr__C=1.0, lr__penalty=l2, score=0.9845026376081916, total= 2.9min\n",
      "[CV] lr__C=1.0, lr__penalty=l2 .......................................\n",
      "[CV]  lr__C=1.0, lr__penalty=l2, score=0.9778570834740188, total= 2.9min\n",
      "[CV] lr__C=10.0, lr__penalty=l2 ......................................\n",
      "[CV]  lr__C=1.0, lr__penalty=l2, score=0.9831433590107317, total= 2.8min\n"
     ]
    },
    {
     "name": "stderr",
     "output_type": "stream",
     "text": [
      "[Parallel(n_jobs=2)]: Done   9 tasks      | elapsed: 21.1min\n"
     ]
    },
    {
     "name": "stdout",
     "output_type": "stream",
     "text": [
      "[CV] lr__C=10.0, lr__penalty=l2 ......................................\n",
      "[CV]  lr__C=10.0, lr__penalty=l2, score=0.9861732406516942, total= 2.8min\n",
      "[CV] lr__C=10.0, lr__penalty=l2 ......................................\n",
      "[CV]  lr__C=10.0, lr__penalty=l2, score=0.9751831994790279, total= 2.8min\n",
      "[CV] lr__C=100.0, lr__penalty=l2 .....................................\n",
      "[CV]  lr__C=10.0, lr__penalty=l2, score=0.9849271738412408, total= 2.8min\n",
      "[CV] lr__C=100.0, lr__penalty=l2 .....................................\n",
      "[CV]  lr__C=100.0, lr__penalty=l2, score=0.9796454550168769, total= 2.8min\n",
      "[CV] lr__C=100.0, lr__penalty=l2 .....................................\n",
      "[CV]  lr__C=100.0, lr__penalty=l2, score=0.9638513915380454, total= 2.8min\n",
      "[CV]  lr__C=100.0, lr__penalty=l2, score=0.9793437539618752, total= 2.6min\n"
     ]
    },
    {
     "name": "stderr",
     "output_type": "stream",
     "text": [
      "[Parallel(n_jobs=2)]: Done  15 out of  15 | elapsed: 33.4min finished\n"
     ]
    },
    {
     "name": "stdout",
     "output_type": "stream",
     "text": [
      "Completed calculation for threat\n",
      "Fitting 3 folds for each of 5 candidates, totalling 15 fits\n",
      "[CV] lr__C=0.01, lr__penalty=l2 ......................................\n",
      "[CV] lr__C=0.01, lr__penalty=l2 ......................................\n",
      "[CV]  lr__C=0.01, lr__penalty=l2, score=0.9568362801184394, total= 2.9min\n",
      "[CV]  lr__C=0.01, lr__penalty=l2, score=0.9607439814332619, total= 2.9min\n"
     ]
    },
    {
     "name": "stderr",
     "output_type": "stream",
     "text": [
      "[Parallel(n_jobs=2)]: Done   1 tasks      | elapsed:  4.2min\n"
     ]
    },
    {
     "name": "stdout",
     "output_type": "stream",
     "text": [
      "[CV] lr__C=0.01, lr__penalty=l2 ......................................\n",
      "[CV] lr__C=0.1, lr__penalty=l2 .......................................\n",
      "[CV]  lr__C=0.1, lr__penalty=l2, score=0.9689370659905596, total= 2.8min\n",
      "[CV] lr__C=0.1, lr__penalty=l2 .......................................\n",
      "[CV]  lr__C=0.01, lr__penalty=l2, score=0.9580298951635079, total= 2.8min\n"
     ]
    },
    {
     "name": "stderr",
     "output_type": "stream",
     "text": [
      "[Parallel(n_jobs=2)]: Done   4 tasks      | elapsed:  8.4min\n"
     ]
    },
    {
     "name": "stdout",
     "output_type": "stream",
     "text": [
      "[CV] lr__C=0.1, lr__penalty=l2 .......................................\n",
      "[CV]  lr__C=0.1, lr__penalty=l2, score=0.9650742722995574, total= 2.8min\n",
      "[CV] lr__C=1.0, lr__penalty=l2 .......................................\n",
      "[CV]  lr__C=0.1, lr__penalty=l2, score=0.9669659799367892, total= 2.8min\n",
      "[CV] lr__C=1.0, lr__penalty=l2 .......................................\n",
      "[CV]  lr__C=1.0, lr__penalty=l2, score=0.9760583472262294, total= 2.8min\n",
      "[CV] lr__C=1.0, lr__penalty=l2 .......................................\n",
      "[CV]  lr__C=1.0, lr__penalty=l2, score=0.9728641597473303, total= 2.8min\n",
      "[CV] lr__C=10.0, lr__penalty=l2 ......................................\n",
      "[CV]  lr__C=1.0, lr__penalty=l2, score=0.9744750151623026, total= 2.8min\n"
     ]
    },
    {
     "name": "stderr",
     "output_type": "stream",
     "text": [
      "[Parallel(n_jobs=2)]: Done   9 tasks      | elapsed: 20.8min\n"
     ]
    },
    {
     "name": "stdout",
     "output_type": "stream",
     "text": [
      "[CV] lr__C=10.0, lr__penalty=l2 ......................................\n",
      "[CV]  lr__C=10.0, lr__penalty=l2, score=0.9710713717927254, total= 2.9min\n",
      "[CV] lr__C=10.0, lr__penalty=l2 ......................................\n",
      "[CV]  lr__C=10.0, lr__penalty=l2, score=0.9689168827888425, total= 2.9min\n",
      "[CV] lr__C=100.0, lr__penalty=l2 .....................................\n",
      "[CV]  lr__C=10.0, lr__penalty=l2, score=0.9704982803500326, total= 2.8min\n",
      "[CV] lr__C=100.0, lr__penalty=l2 .....................................\n",
      "[CV]  lr__C=100.0, lr__penalty=l2, score=0.9550570179214029, total= 2.9min\n",
      "[CV] lr__C=100.0, lr__penalty=l2 .....................................\n",
      "[CV]  lr__C=100.0, lr__penalty=l2, score=0.9544310073021769, total= 2.9min\n",
      "[CV]  lr__C=100.0, lr__penalty=l2, score=0.9539012585652884, total= 2.8min\n"
     ]
    },
    {
     "name": "stderr",
     "output_type": "stream",
     "text": [
      "[Parallel(n_jobs=2)]: Done  15 out of  15 | elapsed: 33.4min finished\n"
     ]
    },
    {
     "name": "stdout",
     "output_type": "stream",
     "text": [
      "Completed calculation for insult\n",
      "Fitting 3 folds for each of 5 candidates, totalling 15 fits\n",
      "[CV] lr__C=0.01, lr__penalty=l2 ......................................\n",
      "[CV] lr__C=0.01, lr__penalty=l2 ......................................\n",
      "[CV]  lr__C=0.01, lr__penalty=l2, score=0.9532056102456065, total= 2.9min\n"
     ]
    },
    {
     "name": "stderr",
     "output_type": "stream",
     "text": [
      "[Parallel(n_jobs=2)]: Done   1 tasks      | elapsed:  4.2min\n"
     ]
    },
    {
     "name": "stdout",
     "output_type": "stream",
     "text": [
      "[CV] lr__C=0.01, lr__penalty=l2 ......................................\n",
      "[CV]  lr__C=0.01, lr__penalty=l2, score=0.9468457474247277, total= 2.9min\n",
      "[CV] lr__C=0.1, lr__penalty=l2 .......................................\n",
      "[CV]  lr__C=0.01, lr__penalty=l2, score=0.9568186556350892, total= 2.8min\n",
      "[CV] lr__C=0.1, lr__penalty=l2 .......................................\n",
      "[CV]  lr__C=0.1, lr__penalty=l2, score=0.9646360856951808, total= 2.8min\n"
     ]
    },
    {
     "name": "stderr",
     "output_type": "stream",
     "text": [
      "[Parallel(n_jobs=2)]: Done   4 tasks      | elapsed:  8.4min\n"
     ]
    },
    {
     "name": "stdout",
     "output_type": "stream",
     "text": [
      "[CV] lr__C=0.1, lr__penalty=l2 .......................................\n",
      "[CV]  lr__C=0.1, lr__penalty=l2, score=0.9619614794518062, total= 2.8min\n",
      "[CV] lr__C=1.0, lr__penalty=l2 .......................................\n",
      "[CV]  lr__C=0.1, lr__penalty=l2, score=0.9671131790455793, total= 2.8min\n",
      "[CV] lr__C=1.0, lr__penalty=l2 .......................................\n",
      "[CV]  lr__C=1.0, lr__penalty=l2, score=0.9716598525524194, total= 2.8min\n",
      "[CV] lr__C=1.0, lr__penalty=l2 .......................................\n",
      "[CV]  lr__C=1.0, lr__penalty=l2, score=0.9701293018338086, total= 2.8min\n",
      "[CV] lr__C=10.0, lr__penalty=l2 ......................................\n",
      "[CV]  lr__C=1.0, lr__penalty=l2, score=0.9745540793395578, total= 2.8min\n"
     ]
    },
    {
     "name": "stderr",
     "output_type": "stream",
     "text": [
      "[Parallel(n_jobs=2)]: Done   9 tasks      | elapsed: 20.8min\n"
     ]
    },
    {
     "name": "stdout",
     "output_type": "stream",
     "text": [
      "[CV] lr__C=10.0, lr__penalty=l2 ......................................\n",
      "[CV]  lr__C=10.0, lr__penalty=l2, score=0.9665712067861445, total= 2.9min\n",
      "[CV] lr__C=10.0, lr__penalty=l2 ......................................\n",
      "[CV]  lr__C=10.0, lr__penalty=l2, score=0.9662059246744008, total= 2.8min\n",
      "[CV] lr__C=100.0, lr__penalty=l2 .....................................\n",
      "[CV]  lr__C=10.0, lr__penalty=l2, score=0.96982592453174, total= 2.8min\n",
      "[CV] lr__C=100.0, lr__penalty=l2 .....................................\n",
      "[CV]  lr__C=100.0, lr__penalty=l2, score=0.9522193856029968, total= 2.9min\n",
      "[CV] lr__C=100.0, lr__penalty=l2 .....................................\n",
      "[CV]  lr__C=100.0, lr__penalty=l2, score=0.952219685938532, total= 2.9min\n",
      "[CV]  lr__C=100.0, lr__penalty=l2, score=0.9546624497404057, total= 2.7min\n"
     ]
    },
    {
     "name": "stderr",
     "output_type": "stream",
     "text": [
      "[Parallel(n_jobs=2)]: Done  15 out of  15 | elapsed: 33.1min finished\n"
     ]
    },
    {
     "name": "stdout",
     "output_type": "stream",
     "text": [
      "Completed calculation for identity_hate\n"
     ]
    }
   ],
   "source": [
    "final_models = []\n",
    "gs_objs = []\n",
    "for i in output_names:\n",
    "    param_grid = {'lr__C': 10**np.linspace(-2,2,5),\n",
    "        'lr__penalty': ['l2']\n",
    "    }\n",
    "    gs = GridSearchCV(estimator = pipe, param_grid = param_grid, scoring = 'roc_auc', \n",
    "                      n_jobs = 2, cv = 3, refit = True, verbose = 10, return_train_score = True).fit(train['comment_text'].values, train[i])\n",
    "    final_models.append(gs.best_estimator_)\n",
    "    gs_objs.append(gs)\n",
    "    print('Completed calculation for', i)"
   ]
  },
  {
   "cell_type": "code",
   "execution_count": 45,
   "metadata": {},
   "outputs": [
    {
     "name": "stdout",
     "output_type": "stream",
     "text": [
      "toxic 0.966668195376\n",
      "severe_toxic 0.984401388795\n",
      "obscene 0.981596296141\n",
      "threat 0.982094563551\n",
      "insult 0.974465840597\n",
      "identity_hate 0.972114408393\n"
     ]
    }
   ],
   "source": [
    "for a,b in zip(output_names, gs_objs):\n",
    "    print(a,b.best_score_)"
   ]
  },
  {
   "cell_type": "markdown",
   "metadata": {},
   "source": [
    "#### Submission"
   ]
  },
  {
   "cell_type": "code",
   "execution_count": 46,
   "metadata": {
    "collapsed": true
   },
   "outputs": [],
   "source": [
    "# test_mat = bow.transform(test['comment_text'])"
   ]
  },
  {
   "cell_type": "code",
   "execution_count": 47,
   "metadata": {
    "collapsed": true
   },
   "outputs": [],
   "source": [
    "# test_mat = tf.transform(test['comment_text'].values)"
   ]
  },
  {
   "cell_type": "code",
   "execution_count": 48,
   "metadata": {
    "collapsed": true
   },
   "outputs": [],
   "source": [
    "pred = [model.predict_proba(test['comment_text'].values)[:,1] for model in final_models]"
   ]
  },
  {
   "cell_type": "code",
   "execution_count": 49,
   "metadata": {
    "collapsed": true
   },
   "outputs": [],
   "source": [
    "for count,i in enumerate(output_names):\n",
    "    test[i] = pred[count].flatten()"
   ]
  },
  {
   "cell_type": "code",
   "execution_count": 50,
   "metadata": {
    "collapsed": true
   },
   "outputs": [],
   "source": [
    "test[['id', 'toxic', 'severe_toxic', 'obscene', 'threat', 'insult', 'identity_hate']].to_csv('data/answers/linear_baseline1.csv', index = False)"
   ]
  },
  {
   "cell_type": "markdown",
   "metadata": {},
   "source": [
    "#### Save model"
   ]
  },
  {
   "cell_type": "code",
   "execution_count": 54,
   "metadata": {},
   "outputs": [],
   "source": [
    "from sklearn.externals import joblib\n",
    "for count,i in enumerate(final_models):\n",
    "    joblib.dump(i, 'weights/logit/'+str(count))"
   ]
  },
  {
   "cell_type": "code",
   "execution_count": null,
   "metadata": {
    "collapsed": true
   },
   "outputs": [],
   "source": []
  }
 ],
 "metadata": {
  "kernelspec": {
   "display_name": "Python 3",
   "language": "python",
   "name": "python3"
  },
  "language_info": {
   "codemirror_mode": {
    "name": "ipython",
    "version": 3
   },
   "file_extension": ".py",
   "mimetype": "text/x-python",
   "name": "python",
   "nbconvert_exporter": "python",
   "pygments_lexer": "ipython3",
   "version": "3.6.3"
  }
 },
 "nbformat": 4,
 "nbformat_minor": 2
}
