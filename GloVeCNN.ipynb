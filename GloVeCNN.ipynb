{
 "cells": [
  {
   "cell_type": "code",
   "execution_count": 1,
   "metadata": {},
   "outputs": [
    {
     "name": "stderr",
     "output_type": "stream",
     "text": [
      "Using TensorFlow backend.\n",
      "/home/haoran/anaconda3/lib/python3.6/importlib/_bootstrap.py:219: RuntimeWarning: compiletime version 3.5 of module 'tensorflow.python.framework.fast_tensor_util' does not match runtime version 3.6\n",
      "  return f(*args, **kwds)\n"
     ]
    }
   ],
   "source": [
    "import numpy as np\n",
    "import pandas as pd\n",
    "import nltk\n",
    "import string\n",
    "import re\n",
    "import matplotlib.pyplot as plt\n",
    "from scipy import stats\n",
    "from keras.preprocessing import sequence\n",
    "from keras.layers import  Input, Dense, Flatten, Add,\\\n",
    "    BatchNormalization, Concatenate, Dropout, Activation, Input, Embedding, Conv1D, MaxPooling1D\n",
    "from keras.optimizers import Adam\n",
    "from keras.models import Model\n",
    "import tensorflow as tf\n",
    "from keras.callbacks import EarlyStopping, ModelCheckpoint, ReduceLROnPlateau\n",
    "import keras.backend as K"
   ]
  },
  {
   "cell_type": "code",
   "execution_count": 2,
   "metadata": {
    "collapsed": true
   },
   "outputs": [],
   "source": [
    "def flatten(x):\n",
    "    if isinstance(x, (np.ndarray, list, tuple, pd.Series)):\n",
    "        lst = []\n",
    "        for i in x:\n",
    "            lst += flatten(i)\n",
    "        return lst\n",
    "    else:\n",
    "        return [x]"
   ]
  },
  {
   "cell_type": "markdown",
   "metadata": {},
   "source": [
    "#### Load Data"
   ]
  },
  {
   "cell_type": "code",
   "execution_count": 3,
   "metadata": {
    "collapsed": true
   },
   "outputs": [],
   "source": [
    "train = pd.read_csv('data/train.csv')\n",
    "test = pd.read_csv('data/test.csv')"
   ]
  },
  {
   "cell_type": "code",
   "execution_count": 4,
   "metadata": {},
   "outputs": [
    {
     "data": {
      "text/html": [
       "<div>\n",
       "<style>\n",
       "    .dataframe thead tr:only-child th {\n",
       "        text-align: right;\n",
       "    }\n",
       "\n",
       "    .dataframe thead th {\n",
       "        text-align: left;\n",
       "    }\n",
       "\n",
       "    .dataframe tbody tr th {\n",
       "        vertical-align: top;\n",
       "    }\n",
       "</style>\n",
       "<table border=\"1\" class=\"dataframe\">\n",
       "  <thead>\n",
       "    <tr style=\"text-align: right;\">\n",
       "      <th></th>\n",
       "      <th>id</th>\n",
       "      <th>comment_text</th>\n",
       "      <th>toxic</th>\n",
       "      <th>severe_toxic</th>\n",
       "      <th>obscene</th>\n",
       "      <th>threat</th>\n",
       "      <th>insult</th>\n",
       "      <th>identity_hate</th>\n",
       "    </tr>\n",
       "  </thead>\n",
       "  <tbody>\n",
       "    <tr>\n",
       "      <th>0</th>\n",
       "      <td>0000997932d777bf</td>\n",
       "      <td>Explanation\\nWhy the edits made under my usern...</td>\n",
       "      <td>0</td>\n",
       "      <td>0</td>\n",
       "      <td>0</td>\n",
       "      <td>0</td>\n",
       "      <td>0</td>\n",
       "      <td>0</td>\n",
       "    </tr>\n",
       "    <tr>\n",
       "      <th>1</th>\n",
       "      <td>000103f0d9cfb60f</td>\n",
       "      <td>D'aww! He matches this background colour I'm s...</td>\n",
       "      <td>0</td>\n",
       "      <td>0</td>\n",
       "      <td>0</td>\n",
       "      <td>0</td>\n",
       "      <td>0</td>\n",
       "      <td>0</td>\n",
       "    </tr>\n",
       "    <tr>\n",
       "      <th>2</th>\n",
       "      <td>000113f07ec002fd</td>\n",
       "      <td>Hey man, I'm really not trying to edit war. It...</td>\n",
       "      <td>0</td>\n",
       "      <td>0</td>\n",
       "      <td>0</td>\n",
       "      <td>0</td>\n",
       "      <td>0</td>\n",
       "      <td>0</td>\n",
       "    </tr>\n",
       "    <tr>\n",
       "      <th>3</th>\n",
       "      <td>0001b41b1c6bb37e</td>\n",
       "      <td>\"\\nMore\\nI can't make any real suggestions on ...</td>\n",
       "      <td>0</td>\n",
       "      <td>0</td>\n",
       "      <td>0</td>\n",
       "      <td>0</td>\n",
       "      <td>0</td>\n",
       "      <td>0</td>\n",
       "    </tr>\n",
       "    <tr>\n",
       "      <th>4</th>\n",
       "      <td>0001d958c54c6e35</td>\n",
       "      <td>You, sir, are my hero. Any chance you remember...</td>\n",
       "      <td>0</td>\n",
       "      <td>0</td>\n",
       "      <td>0</td>\n",
       "      <td>0</td>\n",
       "      <td>0</td>\n",
       "      <td>0</td>\n",
       "    </tr>\n",
       "  </tbody>\n",
       "</table>\n",
       "</div>"
      ],
      "text/plain": [
       "                 id                                       comment_text  toxic  \\\n",
       "0  0000997932d777bf  Explanation\\nWhy the edits made under my usern...      0   \n",
       "1  000103f0d9cfb60f  D'aww! He matches this background colour I'm s...      0   \n",
       "2  000113f07ec002fd  Hey man, I'm really not trying to edit war. It...      0   \n",
       "3  0001b41b1c6bb37e  \"\\nMore\\nI can't make any real suggestions on ...      0   \n",
       "4  0001d958c54c6e35  You, sir, are my hero. Any chance you remember...      0   \n",
       "\n",
       "   severe_toxic  obscene  threat  insult  identity_hate  \n",
       "0             0        0       0       0              0  \n",
       "1             0        0       0       0              0  \n",
       "2             0        0       0       0              0  \n",
       "3             0        0       0       0              0  \n",
       "4             0        0       0       0              0  "
      ]
     },
     "execution_count": 4,
     "metadata": {},
     "output_type": "execute_result"
    }
   ],
   "source": [
    "train.head()"
   ]
  },
  {
   "cell_type": "code",
   "execution_count": 94,
   "metadata": {
    "collapsed": true
   },
   "outputs": [],
   "source": [
    "output_names = ['toxic','severe_toxic','obscene','threat','insult','identity_hate']"
   ]
  },
  {
   "cell_type": "code",
   "execution_count": 95,
   "metadata": {},
   "outputs": [
    {
     "data": {
      "text/html": [
       "<div>\n",
       "<style>\n",
       "    .dataframe thead tr:only-child th {\n",
       "        text-align: right;\n",
       "    }\n",
       "\n",
       "    .dataframe thead th {\n",
       "        text-align: left;\n",
       "    }\n",
       "\n",
       "    .dataframe tbody tr th {\n",
       "        vertical-align: top;\n",
       "    }\n",
       "</style>\n",
       "<table border=\"1\" class=\"dataframe\">\n",
       "  <thead>\n",
       "    <tr style=\"text-align: right;\">\n",
       "      <th></th>\n",
       "      <th>toxic</th>\n",
       "      <th>severe_toxic</th>\n",
       "      <th>obscene</th>\n",
       "      <th>threat</th>\n",
       "      <th>insult</th>\n",
       "      <th>identity_hate</th>\n",
       "    </tr>\n",
       "  </thead>\n",
       "  <tbody>\n",
       "    <tr>\n",
       "      <th>0</th>\n",
       "      <td>144277</td>\n",
       "      <td>157976</td>\n",
       "      <td>151122</td>\n",
       "      <td>159093</td>\n",
       "      <td>151694</td>\n",
       "      <td>158166</td>\n",
       "    </tr>\n",
       "    <tr>\n",
       "      <th>1</th>\n",
       "      <td>15294</td>\n",
       "      <td>1595</td>\n",
       "      <td>8449</td>\n",
       "      <td>478</td>\n",
       "      <td>7877</td>\n",
       "      <td>1405</td>\n",
       "    </tr>\n",
       "  </tbody>\n",
       "</table>\n",
       "</div>"
      ],
      "text/plain": [
       "    toxic  severe_toxic  obscene  threat  insult  identity_hate\n",
       "0  144277        157976   151122  159093  151694         158166\n",
       "1   15294          1595     8449     478    7877           1405"
      ]
     },
     "execution_count": 95,
     "metadata": {},
     "output_type": "execute_result"
    }
   ],
   "source": [
    "train[output_names].apply(pd.value_counts)"
   ]
  },
  {
   "cell_type": "code",
   "execution_count": 6,
   "metadata": {
    "collapsed": true
   },
   "outputs": [],
   "source": [
    "train['tokens'] = train['comment_text'].apply(lambda x: list(filter(lambda z: len(z), map(lambda y: y.lower(), nltk.word_tokenize(x)))))\n",
    "test['tokens'] = test['comment_text'].apply(lambda x: list(filter(lambda z: len(z), map(lambda y: y.lower(), nltk.word_tokenize(x)))))"
   ]
  },
  {
   "cell_type": "code",
   "execution_count": 7,
   "metadata": {},
   "outputs": [
    {
     "data": {
      "text/plain": [
       "0    [explanation, why, the, edits, made, under, my...\n",
       "1    [d'aww, !, he, matches, this, background, colo...\n",
       "2    [hey, man, ,, i, 'm, really, not, trying, to, ...\n",
       "3    [``, more, i, ca, n't, make, any, real, sugges...\n",
       "4    [you, ,, sir, ,, are, my, hero, ., any, chance...\n",
       "Name: tokens, dtype: object"
      ]
     },
     "execution_count": 7,
     "metadata": {},
     "output_type": "execute_result"
    }
   ],
   "source": [
    "train['tokens'].head()"
   ]
  },
  {
   "cell_type": "code",
   "execution_count": 8,
   "metadata": {
    "collapsed": true
   },
   "outputs": [],
   "source": [
    "train['tokLength'] = train['tokens'].apply(lambda x: len(x))"
   ]
  },
  {
   "cell_type": "code",
   "execution_count": 9,
   "metadata": {},
   "outputs": [
    {
     "data": {
      "text/plain": [
       "count    159571.000000\n",
       "mean         80.322201\n",
       "std         120.769777\n",
       "min           1.000000\n",
       "25%          20.000000\n",
       "50%          43.000000\n",
       "75%          89.000000\n",
       "max        4948.000000\n",
       "Name: tokLength, dtype: float64"
      ]
     },
     "execution_count": 9,
     "metadata": {},
     "output_type": "execute_result"
    }
   ],
   "source": [
    "train['tokLength'].describe()"
   ]
  },
  {
   "cell_type": "code",
   "execution_count": 10,
   "metadata": {},
   "outputs": [
    {
     "data": {
      "image/png": "[encoded data removed]",
      "text/plain": [
       "<matplotlib.figure.Figure at 0x7f2e03468828>"
      ]
     },
     "metadata": {},
     "output_type": "display_data"
    }
   ],
   "source": [
    "train['tokLength'].hist(bins = range(0, 1000, 20),linewidth = 1, edgecolor = 'black' )\n",
    "plt.show()\n",
    "#looks like max_length of 500 should be good"
   ]
  },
  {
   "cell_type": "code",
   "execution_count": 11,
   "metadata": {},
   "outputs": [
    {
     "data": {
      "text/plain": [
       "98.256575442906296"
      ]
     },
     "execution_count": 11,
     "metadata": {},
     "output_type": "execute_result"
    }
   ],
   "source": [
    "stats.percentileofscore(train['tokLength'].values, 500)"
   ]
  },
  {
   "cell_type": "code",
   "execution_count": 12,
   "metadata": {
    "collapsed": true
   },
   "outputs": [],
   "source": [
    "max_length = 500"
   ]
  },
  {
   "cell_type": "markdown",
   "metadata": {},
   "source": [
    "What are the most common words in the texts?"
   ]
  },
  {
   "cell_type": "code",
   "execution_count": 13,
   "metadata": {
    "collapsed": true
   },
   "outputs": [],
   "source": [
    "dist = nltk.FreqDist(flatten(train.tokens.values))"
   ]
  },
  {
   "cell_type": "code",
   "execution_count": 14,
   "metadata": {},
   "outputs": [
    {
     "name": "stdout",
     "output_type": "stream",
     "text": [
      "Number of total tokens in the training set: 12817094\n",
      "Number of unique tokens in the training set: 259285\n"
     ]
    }
   ],
   "source": [
    "print('Number of total tokens in the training set:', dist.N())\n",
    "print('Number of unique tokens in the training set:', dist.B())"
   ]
  },
  {
   "cell_type": "code",
   "execution_count": 15,
   "metadata": {
    "scrolled": true
   },
   "outputs": [
    {
     "data": {
      "text/plain": [
       "[('.', 502031),\n",
       " ('the', 495401),\n",
       " (',', 471812),\n",
       " ('to', 296851),\n",
       " (\"''\", 242526),\n",
       " ('i', 236559),\n",
       " ('of', 224008),\n",
       " ('and', 222709),\n",
       " ('you', 216674),\n",
       " ('a', 214116),\n",
       " ('is', 180287),\n",
       " ('that', 160512),\n",
       " ('``', 155372),\n",
       " ('it', 147625),\n",
       " ('in', 144392),\n",
       " ('!', 105576),\n",
       " ('for', 102451),\n",
       " ('this', 96943),\n",
       " ('not', 96581),\n",
       " (')', 90711),\n",
       " ('on', 89409),\n",
       " ('(', 85085),\n",
       " ('be', 83326),\n",
       " (':', 82772),\n",
       " ('as', 77269),\n",
       " ('have', 73939),\n",
       " ('are', 73404),\n",
       " ('?', 71692),\n",
       " (\"'s\", 66767),\n",
       " ('your', 63258),\n",
       " ('do', 62602),\n",
       " ('with', 59498),\n",
       " ('if', 58363),\n",
       " (\"n't\", 57137),\n",
       " ('article', 56859),\n",
       " ('was', 56537),\n",
       " ('or', 52514),\n",
       " ('but', 50938),\n",
       " ('page', 45656),\n",
       " ('my', 45520),\n",
       " ('wikipedia', 45418),\n",
       " ('an', 44513),\n",
       " ('from', 41411),\n",
       " ('by', 41040),\n",
       " ('at', 39430),\n",
       " ('can', 37244),\n",
       " ('about', 37043),\n",
       " ('me', 37025),\n",
       " ('so', 35968),\n",
       " ('what', 35291)]"
      ]
     },
     "execution_count": 15,
     "metadata": {},
     "output_type": "execute_result"
    }
   ],
   "source": [
    "dist.most_common(n=50)"
   ]
  },
  {
   "cell_type": "markdown",
   "metadata": {},
   "source": [
    "#### Load GloVe"
   ]
  },
  {
   "cell_type": "code",
   "execution_count": 16,
   "metadata": {
    "collapsed": true
   },
   "outputs": [],
   "source": [
    "f = open('data/glove.42B.300d.txt', 'r', encoding = 'utf-8')"
   ]
  },
  {
   "cell_type": "code",
   "execution_count": 19,
   "metadata": {},
   "outputs": [],
   "source": [
    "all_unique_tokens = set(flatten(train.tokens.values)).union(set(flatten(test.tokens.values)))"
   ]
  },
  {
   "cell_type": "code",
   "execution_count": 22,
   "metadata": {
    "collapsed": true
   },
   "outputs": [],
   "source": [
    "embeddings = {}\n",
    "for line in f:\n",
    "    values = line.split()\n",
    "    word = values[0]\n",
    "    # Whole GloVe embeddings doesn't fit in my GPU memory, so only take words which appear in data for now. \n",
    "    # Can always swap weights for embedding layer after model training\n",
    "    if word in all_unique_tokens:\n",
    "        coefs = np.array(values[1:], dtype = 'float32')\n",
    "        embeddings[word] = coefs"
   ]
  },
  {
   "cell_type": "code",
   "execution_count": 23,
   "metadata": {
    "collapsed": true
   },
   "outputs": [],
   "source": [
    "np.random.seed(10)\n",
    "embeddings['<UNK>'] = np.random.normal(scale = 0.6,size = embeddings['.'].shape)"
   ]
  },
  {
   "cell_type": "markdown",
   "metadata": {},
   "source": [
    "What are the most common words not in the vocab?"
   ]
  },
  {
   "cell_type": "code",
   "execution_count": 24,
   "metadata": {
    "collapsed": true
   },
   "outputs": [],
   "source": [
    "notInVocab = []\n",
    "for i in dist.most_common():\n",
    "    if i[0] not in embeddings.keys() and i[1]>100:\n",
    "        notInVocab.append((i[0], i[1]))"
   ]
  },
  {
   "cell_type": "code",
   "execution_count": 25,
   "metadata": {
    "scrolled": true
   },
   "outputs": [
    {
     "data": {
      "text/plain": [
       "[('•', 5300),\n",
       " ('==', 3145),\n",
       " ('~~~~', 1472),\n",
       " ('style=', 1303),\n",
       " ('·', 1109),\n",
       " ('|-', 868),\n",
       " ('*', 730),\n",
       " ('f5fffa', 713),\n",
       " ('..', 683),\n",
       " ('width=', 667),\n",
       " ('|style=', 635),\n",
       " ('====', 627),\n",
       " ('yourselfgo', 621),\n",
       " ('—preceding', 540),\n",
       " ('border:1px', 523),\n",
       " ('//en.wikipedia.org/w/index.php', 471),\n",
       " (\"'image\", 420),\n",
       " ('philippineslong', 420),\n",
       " ('cellpadding=', 372),\n",
       " ('pro-assad.hanibal911you', 345),\n",
       " ('bitches.fuck', 333),\n",
       " ('deneid', 331),\n",
       " ('rice=', 330),\n",
       " ('three-revert', 328),\n",
       " (\"'fuck\", 325),\n",
       " ('\\u200e', 321),\n",
       " ('pagedelete', 312),\n",
       " ('|class=', 308),\n",
       " ('notrhbysouthbanof', 308),\n",
       " ('→', 307),\n",
       " ('mainpagebg', 304),\n",
       " ('//', 304),\n",
       " ('an/i', 292),\n",
       " ('admin-', 289),\n",
       " ('criminalwar', 279),\n",
       " ('bunksteve', 278),\n",
       " ('||', 269),\n",
       " ('marcolfuck', 260),\n",
       " ('boymamas', 258),\n",
       " ('penis/////small', 249),\n",
       " (\"'the\", 244),\n",
       " ('edgar181', 236),\n",
       " ('//en.wikipedia.org/wiki/wikipedia', 228),\n",
       " ('tommy2010', 228),\n",
       " ('securityfuck', 227),\n",
       " ('edit-warring', 224),\n",
       " ('bastered==bastered', 217),\n",
       " ('youbollocks', 217),\n",
       " ('fart.china', 216),\n",
       " ('//en.wikipedia.org/wiki/user_talk', 213),\n",
       " ('concernthanks', 212),\n",
       " ('ancestryfuck-off-jewish', 207),\n",
       " ('//www.youtube.com/watch', 197),\n",
       " ('cellspacing=', 190),\n",
       " ('j.delanoy', 189),\n",
       " ('deleted.this', 185),\n",
       " ('sitush', 182),\n",
       " ('fan-1967', 180),\n",
       " ('centraliststupid', 179),\n",
       " ('nhrhs2010', 176),\n",
       " ('wp:3rr', 166),\n",
       " ('created/took', 158),\n",
       " ('supertr0ll', 151),\n",
       " ('neiln', 150),\n",
       " ('☎', 148),\n",
       " ('bleachanhero', 148),\n",
       " ('aidsaids', 146),\n",
       " ('fatuorum', 143),\n",
       " ('daedalus969', 139),\n",
       " ('bitchmattythewhite', 139),\n",
       " ('fool.what', 139),\n",
       " ('bbb23', 136),\n",
       " ('//en.wikipedia.org/wiki/talk', 133),\n",
       " (':i', 130),\n",
       " (\"'u\", 128),\n",
       " ('haahhahahah', 128),\n",
       " ('cheesei', 126),\n",
       " ('←', 123),\n",
       " ('talk|contribs', 120),\n",
       " ('border:0', 119),\n",
       " ('padding:0', 119),\n",
       " ('8===d~~penis', 118),\n",
       " ('|image=', 118),\n",
       " ('==because', 115),\n",
       " ('noticeboard/incidents', 114),\n",
       " ('084080', 114),\n",
       " ('=en', 112),\n",
       " ('class=', 111),\n",
       " ('cuntliz', 111),\n",
       " ('✉', 110),\n",
       " ('//en.wikipedia.org/wiki/user', 109),\n",
       " ('guidelines.', 109),\n",
       " ('►', 108),\n",
       " ('pennnis', 105),\n",
       " ('pensnsnniensnsn', 105),\n",
       " ('=1', 104),\n",
       " ('nl33ers', 102),\n",
       " ('itsuck', 101)]"
      ]
     },
     "execution_count": 25,
     "metadata": {},
     "output_type": "execute_result"
    }
   ],
   "source": [
    "notInVocab"
   ]
  },
  {
   "cell_type": "markdown",
   "metadata": {},
   "source": [
    "#### Data Preparation"
   ]
  },
  {
   "cell_type": "code",
   "execution_count": 33,
   "metadata": {
    "collapsed": true
   },
   "outputs": [],
   "source": [
    "idx2word = {count:i for count, i in enumerate(embeddings.keys())}\n",
    "word2idx = {idx2word[i]: i for i in idx2word.keys()}"
   ]
  },
  {
   "cell_type": "code",
   "execution_count": 34,
   "metadata": {},
   "outputs": [
    {
     "name": "stdout",
     "output_type": "stream",
     "text": [
      "1674\n",
      "211860\n",
      "could\n"
     ]
    }
   ],
   "source": [
    "print(word2idx['testing'])\n",
    "print(word2idx['<UNK>'])\n",
    "print(idx2word[123])"
   ]
  },
  {
   "cell_type": "code",
   "execution_count": 35,
   "metadata": {
    "collapsed": true
   },
   "outputs": [],
   "source": [
    "n_factors = 300\n",
    "vocab_size = len(embeddings)"
   ]
  },
  {
   "cell_type": "code",
   "execution_count": 48,
   "metadata": {
    "collapsed": true
   },
   "outputs": [],
   "source": [
    "zero_vector_idx = vocab_size #place blank character last\n",
    "idx2word[zero_vector_idx] = ''\n",
    "word2idx[''] = zero_vector_idx"
   ]
  },
  {
   "cell_type": "code",
   "execution_count": 59,
   "metadata": {
    "collapsed": true
   },
   "outputs": [],
   "source": [
    "def create_emb():\n",
    "    emb = np.zeros((vocab_size+1,n_factors), dtype = 'float32')\n",
    "    for i in range(0, vocab_size):\n",
    "        word = idx2word[i]\n",
    "        emb[i,:] = embeddings[word] #each row is a word\n",
    "    return emb"
   ]
  },
  {
   "cell_type": "code",
   "execution_count": 60,
   "metadata": {
    "collapsed": true
   },
   "outputs": [],
   "source": [
    "emb = create_emb()"
   ]
  },
  {
   "cell_type": "code",
   "execution_count": 61,
   "metadata": {},
   "outputs": [
    {
     "data": {
      "text/plain": [
       "(211862, 300)"
      ]
     },
     "execution_count": 61,
     "metadata": {},
     "output_type": "execute_result"
    }
   ],
   "source": [
    "emb.shape"
   ]
  },
  {
   "cell_type": "code",
   "execution_count": 62,
   "metadata": {
    "collapsed": true
   },
   "outputs": [],
   "source": [
    "# parse train/test sets\n",
    "table = str.maketrans(\"\",\"\", string.punctuation)\n",
    "def toksToInds(listToks):\n",
    "    ans = []\n",
    "    for count, i in enumerate(listToks):\n",
    "        try:\n",
    "            ans.append(word2idx[i])\n",
    "        except KeyError:\n",
    "            temp = i.translate(table)\n",
    "            if temp and temp in word2idx.keys():\n",
    "                ans.append(word2idx[temp])\n",
    "            else:\n",
    "                ans.append(word2idx['<UNK>'])        \n",
    "    return np.array(ans)\n",
    "\n",
    "train['idxInput'] = train['tokens'].apply(toksToInds)\n",
    "test['idxInput'] = test['tokens'].apply(toksToInds)"
   ]
  },
  {
   "cell_type": "code",
   "execution_count": 63,
   "metadata": {
    "collapsed": true
   },
   "outputs": [],
   "source": [
    "train_mat = sequence.pad_sequences(train['idxInput'].values, maxlen = max_length, value = zero_vector_idx)\n",
    "test_mat = sequence.pad_sequences(test['idxInput'].values, maxlen = max_length, value = zero_vector_idx)"
   ]
  },
  {
   "cell_type": "code",
   "execution_count": 64,
   "metadata": {},
   "outputs": [
    {
     "data": {
      "text/plain": [
       "(159571, 500)"
      ]
     },
     "execution_count": 64,
     "metadata": {},
     "output_type": "execute_result"
    }
   ],
   "source": [
    "train_mat.shape"
   ]
  },
  {
   "cell_type": "code",
   "execution_count": 65,
   "metadata": {},
   "outputs": [
    {
     "data": {
      "text/plain": [
       "\"                                                                                                                                                                                                                                                                                                                                                                                                                                                                   explanation why the edits made under my username hardcore metallica fan were reverted ? they were n't vandalisms , just closure on some gas after i voted at new york dolls fac . and please do n't remove the template from the talk page since i 'm retired <UNK>\""
      ]
     },
     "execution_count": 65,
     "metadata": {},
     "output_type": "execute_result"
    }
   ],
   "source": [
    "' '.join([idx2word[i] for i in train_mat[0,:]])"
   ]
  },
  {
   "cell_type": "code",
   "execution_count": 66,
   "metadata": {
    "collapsed": true
   },
   "outputs": [],
   "source": [
    "# train test split\n",
    "indexTrain = np.random.choice(range(train_mat.shape[0]), size = int(0.9*train_mat.shape[0]), replace = False)\n",
    "indexVal = list(set(range(train_mat.shape[0])) - set(indexTrain))\n",
    "dataInputTrain = train_mat[indexTrain]\n",
    "dataInputVal = train_mat[indexVal]\n",
    "traindf = train.loc[indexTrain]\n",
    "valdf = train.loc[indexVal]"
   ]
  },
  {
   "cell_type": "code",
   "execution_count": 96,
   "metadata": {},
   "outputs": [
    {
     "data": {
      "text/html": [
       "<div>\n",
       "<style>\n",
       "    .dataframe thead tr:only-child th {\n",
       "        text-align: right;\n",
       "    }\n",
       "\n",
       "    .dataframe thead th {\n",
       "        text-align: left;\n",
       "    }\n",
       "\n",
       "    .dataframe tbody tr th {\n",
       "        vertical-align: top;\n",
       "    }\n",
       "</style>\n",
       "<table border=\"1\" class=\"dataframe\">\n",
       "  <thead>\n",
       "    <tr style=\"text-align: right;\">\n",
       "      <th></th>\n",
       "      <th>toxic</th>\n",
       "      <th>severe_toxic</th>\n",
       "      <th>obscene</th>\n",
       "      <th>threat</th>\n",
       "      <th>insult</th>\n",
       "      <th>identity_hate</th>\n",
       "    </tr>\n",
       "  </thead>\n",
       "  <tbody>\n",
       "    <tr>\n",
       "      <th>0</th>\n",
       "      <td>14442</td>\n",
       "      <td>15795</td>\n",
       "      <td>15129</td>\n",
       "      <td>15906</td>\n",
       "      <td>15173</td>\n",
       "      <td>15811</td>\n",
       "    </tr>\n",
       "    <tr>\n",
       "      <th>1</th>\n",
       "      <td>1516</td>\n",
       "      <td>163</td>\n",
       "      <td>829</td>\n",
       "      <td>52</td>\n",
       "      <td>785</td>\n",
       "      <td>147</td>\n",
       "    </tr>\n",
       "  </tbody>\n",
       "</table>\n",
       "</div>"
      ],
      "text/plain": [
       "   toxic  severe_toxic  obscene  threat  insult  identity_hate\n",
       "0  14442         15795    15129   15906   15173          15811\n",
       "1   1516           163      829      52     785            147"
      ]
     },
     "execution_count": 96,
     "metadata": {},
     "output_type": "execute_result"
    }
   ],
   "source": [
    "valdf[output_names].apply(pd.value_counts)"
   ]
  },
  {
   "cell_type": "markdown",
   "metadata": {},
   "source": [
    "#### Modelling"
   ]
  },
  {
   "cell_type": "code",
   "execution_count": 118,
   "metadata": {},
   "outputs": [],
   "source": [
    "vec_input = Input(shape = (max_length,))\n",
    "x = Embedding(vocab_size+1, n_factors, input_length=max_length,weights = [emb], trainable = False)(vec_input)\n",
    "x = BatchNormalization(axis = -1)(x)\n",
    "#conv 1\n",
    "x = Conv1D(16, 7, activation = 'relu')(x)\n",
    "x = BatchNormalization(axis = -1)(x)\n",
    "x = MaxPooling1D(pool_size = 2)(x)\n",
    "x = Dropout(0.2)(x)\n",
    "#conv 2\n",
    "x = Conv1D(32, 7, activation = 'relu')(x)\n",
    "x = BatchNormalization(axis = -1)(x)\n",
    "x = MaxPooling1D(pool_size = 2)(x)\n",
    "x = Dropout(0.2)(x)\n",
    "#conv 3\n",
    "x = Conv1D(64, 7, activation = 'relu')(x)\n",
    "x = BatchNormalization(axis = -1)(x)\n",
    "x = MaxPooling1D(pool_size = 2)(x)\n",
    "x = Dropout(0.2)(x)\n",
    "#conv 4\n",
    "x = Conv1D(64, 7, activation = 'relu')(x)\n",
    "x = BatchNormalization(axis = -1)(x)\n",
    "x = MaxPooling1D(pool_size = 2)(x)\n",
    "x = Dropout(0.2)(x)\n",
    "#conv 5\n",
    "x = Conv1D(128, 7, activation = 'relu')(x)\n",
    "x = BatchNormalization(axis = -1)(x)\n",
    "x = MaxPooling1D(pool_size = 2)(x)\n",
    "x = Dropout(0.2)(x)\n",
    "\n",
    "x = Flatten()(x)\n",
    "x = Dense(64, activation = 'relu')(x)\n",
    "x = BatchNormalization(axis = -1)(x)\n",
    "x = Dropout(0.4)(x)\n",
    "\n",
    "x = Dense(128, activation = 'relu')(x)\n",
    "x = BatchNormalization(axis = -1)(x)\n",
    "x = Dropout(0.4)(x)"
   ]
  },
  {
   "cell_type": "code",
   "execution_count": 119,
   "metadata": {
    "collapsed": true
   },
   "outputs": [],
   "source": [
    "# add output layers\n",
    "outputs = []\n",
    "for i in output_names:\n",
    "    intermediate_act = Dense(units = 128, activation = 'relu')(x)\n",
    "    outputs.append(Dense(units = 1, activation = 'sigmoid', name = i)(intermediate_act))"
   ]
  },
  {
   "cell_type": "code",
   "execution_count": 120,
   "metadata": {
    "collapsed": true
   },
   "outputs": [],
   "source": [
    "model = Model(inputs = vec_input, outputs = outputs)"
   ]
  },
  {
   "cell_type": "code",
   "execution_count": 121,
   "metadata": {
    "scrolled": true
   },
   "outputs": [
    {
     "name": "stdout",
     "output_type": "stream",
     "text": [
      "__________________________________________________________________________________________________\n",
      "Layer (type)                    Output Shape         Param #     Connected to                     \n",
      "==================================================================================================\n",
      "input_7 (InputLayer)            (None, 500)          0                                            \n",
      "__________________________________________________________________________________________________\n",
      "embedding_7 (Embedding)         (None, 500, 300)     63558600    input_7[0][0]                    \n",
      "__________________________________________________________________________________________________\n",
      "batch_normalization_44 (BatchNo (None, 500, 300)     1200        embedding_7[0][0]                \n",
      "__________________________________________________________________________________________________\n",
      "conv1d_29 (Conv1D)              (None, 494, 16)      33616       batch_normalization_44[0][0]     \n",
      "__________________________________________________________________________________________________\n",
      "batch_normalization_45 (BatchNo (None, 494, 16)      64          conv1d_29[0][0]                  \n",
      "__________________________________________________________________________________________________\n",
      "max_pooling1d_29 (MaxPooling1D) (None, 247, 16)      0           batch_normalization_45[0][0]     \n",
      "__________________________________________________________________________________________________\n",
      "dropout_38 (Dropout)            (None, 247, 16)      0           max_pooling1d_29[0][0]           \n",
      "__________________________________________________________________________________________________\n",
      "conv1d_30 (Conv1D)              (None, 241, 32)      3616        dropout_38[0][0]                 \n",
      "__________________________________________________________________________________________________\n",
      "batch_normalization_46 (BatchNo (None, 241, 32)      128         conv1d_30[0][0]                  \n",
      "__________________________________________________________________________________________________\n",
      "max_pooling1d_30 (MaxPooling1D) (None, 120, 32)      0           batch_normalization_46[0][0]     \n",
      "__________________________________________________________________________________________________\n",
      "dropout_39 (Dropout)            (None, 120, 32)      0           max_pooling1d_30[0][0]           \n",
      "__________________________________________________________________________________________________\n",
      "conv1d_31 (Conv1D)              (None, 114, 64)      14400       dropout_39[0][0]                 \n",
      "__________________________________________________________________________________________________\n",
      "batch_normalization_47 (BatchNo (None, 114, 64)      256         conv1d_31[0][0]                  \n",
      "__________________________________________________________________________________________________\n",
      "max_pooling1d_31 (MaxPooling1D) (None, 57, 64)       0           batch_normalization_47[0][0]     \n",
      "__________________________________________________________________________________________________\n",
      "dropout_40 (Dropout)            (None, 57, 64)       0           max_pooling1d_31[0][0]           \n",
      "__________________________________________________________________________________________________\n",
      "conv1d_32 (Conv1D)              (None, 51, 64)       28736       dropout_40[0][0]                 \n",
      "__________________________________________________________________________________________________\n",
      "batch_normalization_48 (BatchNo (None, 51, 64)       256         conv1d_32[0][0]                  \n",
      "__________________________________________________________________________________________________\n",
      "max_pooling1d_32 (MaxPooling1D) (None, 25, 64)       0           batch_normalization_48[0][0]     \n",
      "__________________________________________________________________________________________________\n",
      "dropout_41 (Dropout)            (None, 25, 64)       0           max_pooling1d_32[0][0]           \n",
      "__________________________________________________________________________________________________\n",
      "conv1d_33 (Conv1D)              (None, 19, 128)      57472       dropout_41[0][0]                 \n",
      "__________________________________________________________________________________________________\n",
      "batch_normalization_49 (BatchNo (None, 19, 128)      512         conv1d_33[0][0]                  \n",
      "__________________________________________________________________________________________________\n",
      "max_pooling1d_33 (MaxPooling1D) (None, 9, 128)       0           batch_normalization_49[0][0]     \n",
      "__________________________________________________________________________________________________\n",
      "dropout_42 (Dropout)            (None, 9, 128)       0           max_pooling1d_33[0][0]           \n",
      "__________________________________________________________________________________________________\n",
      "flatten_7 (Flatten)             (None, 1152)         0           dropout_42[0][0]                 \n",
      "__________________________________________________________________________________________________\n",
      "dense_82 (Dense)                (None, 64)           73792       flatten_7[0][0]                  \n",
      "__________________________________________________________________________________________________\n",
      "batch_normalization_50 (BatchNo (None, 64)           256         dense_82[0][0]                   \n",
      "__________________________________________________________________________________________________\n",
      "dropout_43 (Dropout)            (None, 64)           0           batch_normalization_50[0][0]     \n",
      "__________________________________________________________________________________________________\n",
      "dense_83 (Dense)                (None, 128)          8320        dropout_43[0][0]                 \n",
      "__________________________________________________________________________________________________\n",
      "batch_normalization_51 (BatchNo (None, 128)          512         dense_83[0][0]                   \n",
      "__________________________________________________________________________________________________\n",
      "dropout_44 (Dropout)            (None, 128)          0           batch_normalization_51[0][0]     \n",
      "__________________________________________________________________________________________________\n",
      "dense_84 (Dense)                (None, 128)          16512       dropout_44[0][0]                 \n",
      "__________________________________________________________________________________________________\n",
      "dense_85 (Dense)                (None, 128)          16512       dropout_44[0][0]                 \n",
      "__________________________________________________________________________________________________\n",
      "dense_86 (Dense)                (None, 128)          16512       dropout_44[0][0]                 \n",
      "__________________________________________________________________________________________________\n",
      "dense_87 (Dense)                (None, 128)          16512       dropout_44[0][0]                 \n",
      "__________________________________________________________________________________________________\n",
      "dense_88 (Dense)                (None, 128)          16512       dropout_44[0][0]                 \n",
      "__________________________________________________________________________________________________\n",
      "dense_89 (Dense)                (None, 128)          16512       dropout_44[0][0]                 \n",
      "__________________________________________________________________________________________________\n",
      "toxic (Dense)                   (None, 1)            129         dense_84[0][0]                   \n",
      "__________________________________________________________________________________________________\n",
      "severe_toxic (Dense)            (None, 1)            129         dense_85[0][0]                   \n",
      "__________________________________________________________________________________________________\n",
      "obscene (Dense)                 (None, 1)            129         dense_86[0][0]                   \n",
      "__________________________________________________________________________________________________\n",
      "threat (Dense)                  (None, 1)            129         dense_87[0][0]                   \n",
      "__________________________________________________________________________________________________\n",
      "insult (Dense)                  (None, 1)            129         dense_88[0][0]                   \n",
      "__________________________________________________________________________________________________\n",
      "identity_hate (Dense)           (None, 1)            129         dense_89[0][0]                   \n",
      "==================================================================================================\n",
      "Total params: 63,881,582\n",
      "Trainable params: 321,390\n",
      "Non-trainable params: 63,560,192\n",
      "__________________________________________________________________________________________________\n"
     ]
    }
   ],
   "source": [
    "model.summary()"
   ]
  },
  {
   "cell_type": "code",
   "execution_count": 122,
   "metadata": {
    "collapsed": true
   },
   "outputs": [],
   "source": [
    "model.compile(Adam(1e-5), loss = ['binary_crossentropy']*6, metrics=['accuracy'])"
   ]
  },
  {
   "cell_type": "code",
   "execution_count": 123,
   "metadata": {
    "collapsed": true
   },
   "outputs": [],
   "source": [
    "earlyStopping = EarlyStopping(monitor='val_loss', patience=30, verbose=0, mode='min')\n",
    "mcp_save = ModelCheckpoint('weights/cnn_mdl', save_best_only=True, monitor='val_loss', mode='min')\n",
    "reduce_lr_loss = ReduceLROnPlateau(monitor='val_loss', factor=0.2, patience=8, verbose=1, epsilon=1e-4, mode='min')"
   ]
  },
  {
   "cell_type": "code",
   "execution_count": 124,
   "metadata": {},
   "outputs": [
    {
     "name": "stdout",
     "output_type": "stream",
     "text": [
      "Train on 143613 samples, validate on 15958 samples\n",
      "Epoch 1/2\n",
      "143613/143613 [==============================] - 140s 975us/step - loss: 2.5541 - toxic_loss: 0.4970 - severe_toxic_loss: 0.3658 - obscene_loss: 0.4132 - threat_loss: 0.3473 - insult_loss: 0.4095 - identity_hate_loss: 0.5213 - toxic_acc: 0.7953 - severe_toxic_acc: 0.8777 - obscene_acc: 0.8525 - threat_acc: 0.8860 - insult_acc: 0.8566 - identity_hate_acc: 0.7582 - val_loss: 1.6698 - val_toxic_loss: 0.3827 - val_severe_toxic_loss: 0.1813 - val_obscene_loss: 0.3109 - val_threat_loss: 0.1763 - val_insult_loss: 0.3579 - val_identity_hate_loss: 0.2608 - val_toxic_acc: 0.9046 - val_severe_toxic_acc: 0.9898 - val_obscene_acc: 0.9481 - val_threat_acc: 0.9966 - val_insult_acc: 0.9508 - val_identity_hate_acc: 0.9908\n",
      "Epoch 2/2\n",
      "143613/143613 [==============================] - 137s 956us/step - loss: 1.0925 - toxic_loss: 0.3377 - severe_toxic_loss: 0.1029 - obscene_loss: 0.2327 - threat_loss: 0.0752 - insult_loss: 0.2227 - identity_hate_loss: 0.1214 - toxic_acc: 0.9030 - severe_toxic_acc: 0.9889 - obscene_acc: 0.9455 - threat_acc: 0.9964 - insult_acc: 0.9499 - identity_hate_acc: 0.9893 - val_loss: 0.9842 - val_toxic_loss: 0.3240 - val_severe_toxic_loss: 0.0768 - val_obscene_loss: 0.2268 - val_threat_loss: 0.0493 - val_insult_loss: 0.2291 - val_identity_hate_loss: 0.0782 - val_toxic_acc: 0.9050 - val_severe_toxic_acc: 0.9898 - val_obscene_acc: 0.9481 - val_threat_acc: 0.9967 - val_insult_acc: 0.9508 - val_identity_hate_acc: 0.9908\n"
     ]
    },
    {
     "data": {
      "text/plain": [
       "<keras.callbacks.History at 0x7f2d84490da0>"
      ]
     },
     "execution_count": 124,
     "metadata": {},
     "output_type": "execute_result"
    }
   ],
   "source": [
    "model.fit(x = dataInputTrain, \n",
    "          y = [traindf[i] for i in output_names],\n",
    "         batch_size = 64, epochs = 2, validation_data = [dataInputVal, [valdf[i] for i in output_names]])"
   ]
  },
  {
   "cell_type": "code",
   "execution_count": 125,
   "metadata": {},
   "outputs": [
    {
     "name": "stdout",
     "output_type": "stream",
     "text": [
      "Train on 143613 samples, validate on 15958 samples\n",
      "Epoch 1/200\n",
      "143613/143613 [==============================] - 140s 978us/step - loss: 0.8995 - toxic_loss: 0.3257 - severe_toxic_loss: 0.0638 - obscene_loss: 0.2150 - threat_loss: 0.0301 - insult_loss: 0.2035 - identity_hate_loss: 0.0614 - toxic_acc: 0.9040 - severe_toxic_acc: 0.9900 - obscene_acc: 0.9469 - threat_acc: 0.9970 - insult_acc: 0.9506 - identity_hate_acc: 0.9912 - val_loss: 0.8904 - val_toxic_loss: 0.3175 - val_severe_toxic_loss: 0.0600 - val_obscene_loss: 0.2182 - val_threat_loss: 0.0294 - val_insult_loss: 0.2085 - val_identity_hate_loss: 0.0568 - val_toxic_acc: 0.9050 - val_severe_toxic_acc: 0.9898 - val_obscene_acc: 0.9481 - val_threat_acc: 0.9967 - val_insult_acc: 0.9508 - val_identity_hate_acc: 0.9908\n",
      "Epoch 2/200\n",
      "143613/143613 [==============================] - 138s 959us/step - loss: 0.8697 - toxic_loss: 0.3220 - severe_toxic_loss: 0.0581 - obscene_loss: 0.2120 - threat_loss: 0.0229 - insult_loss: 0.2011 - identity_hate_loss: 0.0536 - toxic_acc: 0.9040 - severe_toxic_acc: 0.9900 - obscene_acc: 0.9469 - threat_acc: 0.9970 - insult_acc: 0.9506 - identity_hate_acc: 0.9912 - val_loss: 0.8677 - val_toxic_loss: 0.3157 - val_severe_toxic_loss: 0.0566 - val_obscene_loss: 0.2118 - val_threat_loss: 0.0247 - val_insult_loss: 0.2055 - val_identity_hate_loss: 0.0534 - val_toxic_acc: 0.9050 - val_severe_toxic_acc: 0.9898 - val_obscene_acc: 0.9481 - val_threat_acc: 0.9967 - val_insult_acc: 0.9508 - val_identity_hate_acc: 0.9908\n",
      "Epoch 3/200\n",
      "143613/143613 [==============================] - 138s 961us/step - loss: 0.8567 - toxic_loss: 0.3183 - severe_toxic_loss: 0.0569 - obscene_loss: 0.2098 - threat_loss: 0.0212 - insult_loss: 0.1983 - identity_hate_loss: 0.0523 - toxic_acc: 0.9040 - severe_toxic_acc: 0.9900 - obscene_acc: 0.9469 - threat_acc: 0.9970 - insult_acc: 0.9506 - identity_hate_acc: 0.9912 - val_loss: 0.8607 - val_toxic_loss: 0.3147 - val_severe_toxic_loss: 0.0559 - val_obscene_loss: 0.2106 - val_threat_loss: 0.0239 - val_insult_loss: 0.2024 - val_identity_hate_loss: 0.0532 - val_toxic_acc: 0.9050 - val_severe_toxic_acc: 0.9898 - val_obscene_acc: 0.9481 - val_threat_acc: 0.9967 - val_insult_acc: 0.9508 - val_identity_hate_acc: 0.9908\n",
      "Epoch 4/200\n",
      "143613/143613 [==============================] - 138s 960us/step - loss: 0.8478 - toxic_loss: 0.3156 - severe_toxic_loss: 0.0559 - obscene_loss: 0.2073 - threat_loss: 0.0209 - insult_loss: 0.1964 - identity_hate_loss: 0.0518 - toxic_acc: 0.9041 - severe_toxic_acc: 0.9900 - obscene_acc: 0.9469 - threat_acc: 0.9970 - insult_acc: 0.9506 - identity_hate_acc: 0.9912 - val_loss: 0.8546 - val_toxic_loss: 0.3134 - val_severe_toxic_loss: 0.0556 - val_obscene_loss: 0.2090 - val_threat_loss: 0.0230 - val_insult_loss: 0.2013 - val_identity_hate_loss: 0.0523 - val_toxic_acc: 0.9050 - val_severe_toxic_acc: 0.9898 - val_obscene_acc: 0.9481 - val_threat_acc: 0.9967 - val_insult_acc: 0.9508 - val_identity_hate_acc: 0.9908\n",
      "Epoch 5/200\n",
      "143613/143613 [==============================] - 137s 957us/step - loss: 0.8366 - toxic_loss: 0.3118 - severe_toxic_loss: 0.0547 - obscene_loss: 0.2045 - threat_loss: 0.0209 - insult_loss: 0.1937 - identity_hate_loss: 0.0510 - toxic_acc: 0.9040 - severe_toxic_acc: 0.9900 - obscene_acc: 0.9469 - threat_acc: 0.9970 - insult_acc: 0.9506 - identity_hate_acc: 0.9912 - val_loss: 0.8516 - val_toxic_loss: 0.3136 - val_severe_toxic_loss: 0.0554 - val_obscene_loss: 0.2074 - val_threat_loss: 0.0231 - val_insult_loss: 0.1998 - val_identity_hate_loss: 0.0523 - val_toxic_acc: 0.9050 - val_severe_toxic_acc: 0.9898 - val_obscene_acc: 0.9481 - val_threat_acc: 0.9967 - val_insult_acc: 0.9508 - val_identity_hate_acc: 0.9908\n",
      "Epoch 6/200\n",
      "143613/143613 [==============================] - 138s 958us/step - loss: 0.8251 - toxic_loss: 0.3072 - severe_toxic_loss: 0.0537 - obscene_loss: 0.2021 - threat_loss: 0.0204 - insult_loss: 0.1911 - identity_hate_loss: 0.0505 - toxic_acc: 0.9041 - severe_toxic_acc: 0.9900 - obscene_acc: 0.9469 - threat_acc: 0.9970 - insult_acc: 0.9506 - identity_hate_acc: 0.9912 - val_loss: 0.8491 - val_toxic_loss: 0.3119 - val_severe_toxic_loss: 0.0552 - val_obscene_loss: 0.2067 - val_threat_loss: 0.0228 - val_insult_loss: 0.1997 - val_identity_hate_loss: 0.0526 - val_toxic_acc: 0.9050 - val_severe_toxic_acc: 0.9898 - val_obscene_acc: 0.9481 - val_threat_acc: 0.9967 - val_insult_acc: 0.9508 - val_identity_hate_acc: 0.9908\n",
      "Epoch 7/200\n",
      "143613/143613 [==============================] - 138s 961us/step - loss: 0.8143 - toxic_loss: 0.3025 - severe_toxic_loss: 0.0531 - obscene_loss: 0.1997 - threat_loss: 0.0202 - insult_loss: 0.1887 - identity_hate_loss: 0.0500 - toxic_acc: 0.9041 - severe_toxic_acc: 0.9900 - obscene_acc: 0.9469 - threat_acc: 0.9970 - insult_acc: 0.9506 - identity_hate_acc: 0.9912 - val_loss: 0.8367 - val_toxic_loss: 0.3087 - val_severe_toxic_loss: 0.0538 - val_obscene_loss: 0.2042 - val_threat_loss: 0.0223 - val_insult_loss: 0.1962 - val_identity_hate_loss: 0.0514 - val_toxic_acc: 0.9050 - val_severe_toxic_acc: 0.9898 - val_obscene_acc: 0.9481 - val_threat_acc: 0.9967 - val_insult_acc: 0.9508 - val_identity_hate_acc: 0.9908\n",
      "Epoch 8/200\n",
      "143613/143613 [==============================] - 138s 962us/step - loss: 0.8014 - toxic_loss: 0.2981 - severe_toxic_loss: 0.0522 - obscene_loss: 0.1958 - threat_loss: 0.0202 - insult_loss: 0.1857 - identity_hate_loss: 0.0494 - toxic_acc: 0.9041 - severe_toxic_acc: 0.9900 - obscene_acc: 0.9469 - threat_acc: 0.9970 - insult_acc: 0.9506 - identity_hate_acc: 0.9912 - val_loss: 0.8177 - val_toxic_loss: 0.3034 - val_severe_toxic_loss: 0.0524 - val_obscene_loss: 0.1981 - val_threat_loss: 0.0221 - val_insult_loss: 0.1911 - val_identity_hate_loss: 0.0507 - val_toxic_acc: 0.9058 - val_severe_toxic_acc: 0.9898 - val_obscene_acc: 0.9481 - val_threat_acc: 0.9967 - val_insult_acc: 0.9508 - val_identity_hate_acc: 0.9908\n",
      "Epoch 9/200\n",
      "143613/143613 [==============================] - 138s 959us/step - loss: 0.7883 - toxic_loss: 0.2927 - severe_toxic_loss: 0.0511 - obscene_loss: 0.1934 - threat_loss: 0.0198 - insult_loss: 0.1829 - identity_hate_loss: 0.0484 - toxic_acc: 0.9043 - severe_toxic_acc: 0.9900 - obscene_acc: 0.9469 - threat_acc: 0.9970 - insult_acc: 0.9506 - identity_hate_acc: 0.9912 - val_loss: 0.7855 - val_toxic_loss: 0.2914 - val_severe_toxic_loss: 0.0503 - val_obscene_loss: 0.1893 - val_threat_loss: 0.0215 - val_insult_loss: 0.1836 - val_identity_hate_loss: 0.0494 - val_toxic_acc: 0.9056 - val_severe_toxic_acc: 0.9898 - val_obscene_acc: 0.9481 - val_threat_acc: 0.9967 - val_insult_acc: 0.9512 - val_identity_hate_acc: 0.9908\n",
      "Epoch 10/200\n",
      "143613/143613 [==============================] - 137s 954us/step - loss: 0.7747 - toxic_loss: 0.2877 - severe_toxic_loss: 0.0505 - obscene_loss: 0.1898 - threat_loss: 0.0195 - insult_loss: 0.1792 - identity_hate_loss: 0.0480 - toxic_acc: 0.9047 - severe_toxic_acc: 0.9900 - obscene_acc: 0.9469 - threat_acc: 0.9970 - insult_acc: 0.9506 - identity_hate_acc: 0.9912 - val_loss: 0.7621 - val_toxic_loss: 0.2828 - val_severe_toxic_loss: 0.0489 - val_obscene_loss: 0.1836 - val_threat_loss: 0.0208 - val_insult_loss: 0.1776 - val_identity_hate_loss: 0.0484 - val_toxic_acc: 0.9061 - val_severe_toxic_acc: 0.9897 - val_obscene_acc: 0.9482 - val_threat_acc: 0.9967 - val_insult_acc: 0.9511 - val_identity_hate_acc: 0.9908\n",
      "Epoch 11/200\n",
      "143613/143613 [==============================] - 137s 953us/step - loss: 0.7636 - toxic_loss: 0.2829 - severe_toxic_loss: 0.0496 - obscene_loss: 0.1874 - threat_loss: 0.0192 - insult_loss: 0.1772 - identity_hate_loss: 0.0475 - toxic_acc: 0.9058 - severe_toxic_acc: 0.9900 - obscene_acc: 0.9469 - threat_acc: 0.9970 - insult_acc: 0.9505 - identity_hate_acc: 0.9912 - val_loss: 0.7385 - val_toxic_loss: 0.2737 - val_severe_toxic_loss: 0.0479 - val_obscene_loss: 0.1773 - val_threat_loss: 0.0202 - val_insult_loss: 0.1715 - val_identity_hate_loss: 0.0479 - val_toxic_acc: 0.9075 - val_severe_toxic_acc: 0.9898 - val_obscene_acc: 0.9489 - val_threat_acc: 0.9967 - val_insult_acc: 0.9514 - val_identity_hate_acc: 0.9908\n",
      "Epoch 12/200\n"
     ]
    },
    {
     "name": "stdout",
     "output_type": "stream",
     "text": [
      "143613/143613 [==============================] - 137s 952us/step - loss: 0.7526 - toxic_loss: 0.2783 - severe_toxic_loss: 0.0494 - obscene_loss: 0.1847 - threat_loss: 0.0192 - insult_loss: 0.1744 - identity_hate_loss: 0.0466 - toxic_acc: 0.9063 - severe_toxic_acc: 0.9899 - obscene_acc: 0.9469 - threat_acc: 0.9970 - insult_acc: 0.9504 - identity_hate_acc: 0.9912 - val_loss: 0.7193 - val_toxic_loss: 0.2667 - val_severe_toxic_loss: 0.0470 - val_obscene_loss: 0.1723 - val_threat_loss: 0.0196 - val_insult_loss: 0.1666 - val_identity_hate_loss: 0.0471 - val_toxic_acc: 0.9108 - val_severe_toxic_acc: 0.9898 - val_obscene_acc: 0.9499 - val_threat_acc: 0.9967 - val_insult_acc: 0.9518 - val_identity_hate_acc: 0.9908\n",
      "Epoch 13/200\n",
      "143613/143613 [==============================] - 137s 951us/step - loss: 0.7408 - toxic_loss: 0.2743 - severe_toxic_loss: 0.0486 - obscene_loss: 0.1815 - threat_loss: 0.0190 - insult_loss: 0.1713 - identity_hate_loss: 0.0461 - toxic_acc: 0.9074 - severe_toxic_acc: 0.9899 - obscene_acc: 0.9470 - threat_acc: 0.9970 - insult_acc: 0.9507 - identity_hate_acc: 0.9912 - val_loss: 0.7154 - val_toxic_loss: 0.2655 - val_severe_toxic_loss: 0.0466 - val_obscene_loss: 0.1716 - val_threat_loss: 0.0195 - val_insult_loss: 0.1648 - val_identity_hate_loss: 0.0474 - val_toxic_acc: 0.9105 - val_severe_toxic_acc: 0.9897 - val_obscene_acc: 0.9506 - val_threat_acc: 0.9967 - val_insult_acc: 0.9524 - val_identity_hate_acc: 0.9908\n",
      "Epoch 14/200\n",
      "143613/143613 [==============================] - 136s 949us/step - loss: 0.7327 - toxic_loss: 0.2705 - severe_toxic_loss: 0.0483 - obscene_loss: 0.1799 - threat_loss: 0.0189 - insult_loss: 0.1696 - identity_hate_loss: 0.0455 - toxic_acc: 0.9083 - severe_toxic_acc: 0.9900 - obscene_acc: 0.9472 - threat_acc: 0.9970 - insult_acc: 0.9508 - identity_hate_acc: 0.9912 - val_loss: 0.7095 - val_toxic_loss: 0.2631 - val_severe_toxic_loss: 0.0459 - val_obscene_loss: 0.1701 - val_threat_loss: 0.0193 - val_insult_loss: 0.1640 - val_identity_hate_loss: 0.0472 - val_toxic_acc: 0.9107 - val_severe_toxic_acc: 0.9899 - val_obscene_acc: 0.9502 - val_threat_acc: 0.9967 - val_insult_acc: 0.9522 - val_identity_hate_acc: 0.9907\n",
      "Epoch 15/200\n",
      "143613/143613 [==============================] - 136s 948us/step - loss: 0.7269 - toxic_loss: 0.2683 - severe_toxic_loss: 0.0477 - obscene_loss: 0.1786 - threat_loss: 0.0189 - insult_loss: 0.1674 - identity_hate_loss: 0.0461 - toxic_acc: 0.9091 - severe_toxic_acc: 0.9899 - obscene_acc: 0.9473 - threat_acc: 0.9970 - insult_acc: 0.9512 - identity_hate_acc: 0.9912 - val_loss: 0.7005 - val_toxic_loss: 0.2597 - val_severe_toxic_loss: 0.0458 - val_obscene_loss: 0.1677 - val_threat_loss: 0.0191 - val_insult_loss: 0.1616 - val_identity_hate_loss: 0.0468 - val_toxic_acc: 0.9120 - val_severe_toxic_acc: 0.9898 - val_obscene_acc: 0.9512 - val_threat_acc: 0.9967 - val_insult_acc: 0.9531 - val_identity_hate_acc: 0.9908\n",
      "Epoch 16/200\n",
      "143613/143613 [==============================] - 136s 948us/step - loss: 0.7213 - toxic_loss: 0.2667 - severe_toxic_loss: 0.0478 - obscene_loss: 0.1764 - threat_loss: 0.0189 - insult_loss: 0.1660 - identity_hate_loss: 0.0454 - toxic_acc: 0.9098 - severe_toxic_acc: 0.9898 - obscene_acc: 0.9478 - threat_acc: 0.9970 - insult_acc: 0.9513 - identity_hate_acc: 0.9912 - val_loss: 0.6993 - val_toxic_loss: 0.2599 - val_severe_toxic_loss: 0.0455 - val_obscene_loss: 0.1669 - val_threat_loss: 0.0190 - val_insult_loss: 0.1615 - val_identity_hate_loss: 0.0465 - val_toxic_acc: 0.9113 - val_severe_toxic_acc: 0.9901 - val_obscene_acc: 0.9508 - val_threat_acc: 0.9967 - val_insult_acc: 0.9529 - val_identity_hate_acc: 0.9907\n",
      "Epoch 17/200\n",
      "143613/143613 [==============================] - 136s 948us/step - loss: 0.7168 - toxic_loss: 0.2645 - severe_toxic_loss: 0.0474 - obscene_loss: 0.1755 - threat_loss: 0.0188 - insult_loss: 0.1652 - identity_hate_loss: 0.0453 - toxic_acc: 0.9107 - severe_toxic_acc: 0.9899 - obscene_acc: 0.9476 - threat_acc: 0.9970 - insult_acc: 0.9511 - identity_hate_acc: 0.9912 - val_loss: 0.6953 - val_toxic_loss: 0.2573 - val_severe_toxic_loss: 0.0455 - val_obscene_loss: 0.1663 - val_threat_loss: 0.0188 - val_insult_loss: 0.1607 - val_identity_hate_loss: 0.0467 - val_toxic_acc: 0.9123 - val_severe_toxic_acc: 0.9900 - val_obscene_acc: 0.9516 - val_threat_acc: 0.9967 - val_insult_acc: 0.9534 - val_identity_hate_acc: 0.9908\n",
      "Epoch 18/200\n",
      "143613/143613 [==============================] - 136s 947us/step - loss: 0.7111 - toxic_loss: 0.2621 - severe_toxic_loss: 0.0469 - obscene_loss: 0.1739 - threat_loss: 0.0187 - insult_loss: 0.1643 - identity_hate_loss: 0.0451 - toxic_acc: 0.9109 - severe_toxic_acc: 0.9898 - obscene_acc: 0.9479 - threat_acc: 0.9970 - insult_acc: 0.9512 - identity_hate_acc: 0.9912 - val_loss: 0.6943 - val_toxic_loss: 0.2575 - val_severe_toxic_loss: 0.0453 - val_obscene_loss: 0.1654 - val_threat_loss: 0.0190 - val_insult_loss: 0.1603 - val_identity_hate_loss: 0.0467 - val_toxic_acc: 0.9118 - val_severe_toxic_acc: 0.9902 - val_obscene_acc: 0.9510 - val_threat_acc: 0.9967 - val_insult_acc: 0.9529 - val_identity_hate_acc: 0.9907\n",
      "Epoch 19/200\n",
      "143613/143613 [==============================] - 136s 947us/step - loss: 0.7071 - toxic_loss: 0.2608 - severe_toxic_loss: 0.0472 - obscene_loss: 0.1726 - threat_loss: 0.0187 - insult_loss: 0.1629 - identity_hate_loss: 0.0449 - toxic_acc: 0.9116 - severe_toxic_acc: 0.9898 - obscene_acc: 0.9486 - threat_acc: 0.9970 - insult_acc: 0.9514 - identity_hate_acc: 0.9911 - val_loss: 0.6881 - val_toxic_loss: 0.2549 - val_severe_toxic_loss: 0.0450 - val_obscene_loss: 0.1642 - val_threat_loss: 0.0187 - val_insult_loss: 0.1587 - val_identity_hate_loss: 0.0464 - val_toxic_acc: 0.9125 - val_severe_toxic_acc: 0.9901 - val_obscene_acc: 0.9514 - val_threat_acc: 0.9967 - val_insult_acc: 0.9533 - val_identity_hate_acc: 0.9907\n",
      "Epoch 20/200\n",
      "143613/143613 [==============================] - 136s 947us/step - loss: 0.7031 - toxic_loss: 0.2594 - severe_toxic_loss: 0.0467 - obscene_loss: 0.1716 - threat_loss: 0.0188 - insult_loss: 0.1620 - identity_hate_loss: 0.0445 - toxic_acc: 0.9124 - severe_toxic_acc: 0.9898 - obscene_acc: 0.9485 - threat_acc: 0.9970 - insult_acc: 0.9519 - identity_hate_acc: 0.9912 - val_loss: 0.6816 - val_toxic_loss: 0.2523 - val_severe_toxic_loss: 0.0454 - val_obscene_loss: 0.1624 - val_threat_loss: 0.0189 - val_insult_loss: 0.1566 - val_identity_hate_loss: 0.0461 - val_toxic_acc: 0.9140 - val_severe_toxic_acc: 0.9898 - val_obscene_acc: 0.9520 - val_threat_acc: 0.9967 - val_insult_acc: 0.9538 - val_identity_hate_acc: 0.9908\n",
      "Epoch 21/200\n",
      "143613/143613 [==============================] - 136s 950us/step - loss: 0.6987 - toxic_loss: 0.2574 - severe_toxic_loss: 0.0466 - obscene_loss: 0.1703 - threat_loss: 0.0186 - insult_loss: 0.1610 - identity_hate_loss: 0.0448 - toxic_acc: 0.9125 - severe_toxic_acc: 0.9899 - obscene_acc: 0.9485 - threat_acc: 0.9970 - insult_acc: 0.9520 - identity_hate_acc: 0.9912 - val_loss: 0.6811 - val_toxic_loss: 0.2524 - val_severe_toxic_loss: 0.0447 - val_obscene_loss: 0.1627 - val_threat_loss: 0.0186 - val_insult_loss: 0.1568 - val_identity_hate_loss: 0.0460 - val_toxic_acc: 0.9130 - val_severe_toxic_acc: 0.9902 - val_obscene_acc: 0.9515 - val_threat_acc: 0.9967 - val_insult_acc: 0.9532 - val_identity_hate_acc: 0.9908\n",
      "Epoch 22/200\n",
      "143613/143613 [==============================] - 136s 949us/step - loss: 0.6950 - toxic_loss: 0.2565 - severe_toxic_loss: 0.0462 - obscene_loss: 0.1692 - threat_loss: 0.0184 - insult_loss: 0.1603 - identity_hate_loss: 0.0445 - toxic_acc: 0.9131 - severe_toxic_acc: 0.9899 - obscene_acc: 0.9490 - threat_acc: 0.9970 - insult_acc: 0.9518 - identity_hate_acc: 0.9912 - val_loss: 0.6809 - val_toxic_loss: 0.2518 - val_severe_toxic_loss: 0.0449 - val_obscene_loss: 0.1621 - val_threat_loss: 0.0187 - val_insult_loss: 0.1571 - val_identity_hate_loss: 0.0462 - val_toxic_acc: 0.9131 - val_severe_toxic_acc: 0.9900 - val_obscene_acc: 0.9515 - val_threat_acc: 0.9967 - val_insult_acc: 0.9531 - val_identity_hate_acc: 0.9908\n",
      "Epoch 23/200\n"
     ]
    },
    {
     "name": "stdout",
     "output_type": "stream",
     "text": [
      "143613/143613 [==============================] - 137s 951us/step - loss: 0.6925 - toxic_loss: 0.2555 - severe_toxic_loss: 0.0459 - obscene_loss: 0.1683 - threat_loss: 0.0185 - insult_loss: 0.1595 - identity_hate_loss: 0.0447 - toxic_acc: 0.9132 - severe_toxic_acc: 0.9899 - obscene_acc: 0.9495 - threat_acc: 0.9970 - insult_acc: 0.9522 - identity_hate_acc: 0.9912 - val_loss: 0.6753 - val_toxic_loss: 0.2495 - val_severe_toxic_loss: 0.0446 - val_obscene_loss: 0.1605 - val_threat_loss: 0.0186 - val_insult_loss: 0.1559 - val_identity_hate_loss: 0.0461 - val_toxic_acc: 0.9145 - val_severe_toxic_acc: 0.9900 - val_obscene_acc: 0.9521 - val_threat_acc: 0.9967 - val_insult_acc: 0.9541 - val_identity_hate_acc: 0.9908\n",
      "Epoch 24/200\n",
      "143613/143613 [==============================] - 136s 949us/step - loss: 0.6884 - toxic_loss: 0.2535 - severe_toxic_loss: 0.0459 - obscene_loss: 0.1675 - threat_loss: 0.0184 - insult_loss: 0.1589 - identity_hate_loss: 0.0441 - toxic_acc: 0.9141 - severe_toxic_acc: 0.9899 - obscene_acc: 0.9495 - threat_acc: 0.9970 - insult_acc: 0.9520 - identity_hate_acc: 0.9912 - val_loss: 0.6727 - val_toxic_loss: 0.2492 - val_severe_toxic_loss: 0.0446 - val_obscene_loss: 0.1597 - val_threat_loss: 0.0186 - val_insult_loss: 0.1549 - val_identity_hate_loss: 0.0459 - val_toxic_acc: 0.9145 - val_severe_toxic_acc: 0.9899 - val_obscene_acc: 0.9520 - val_threat_acc: 0.9967 - val_insult_acc: 0.9539 - val_identity_hate_acc: 0.9908\n",
      "Epoch 25/200\n",
      "143613/143613 [==============================] - 136s 949us/step - loss: 0.6851 - toxic_loss: 0.2525 - severe_toxic_loss: 0.0455 - obscene_loss: 0.1668 - threat_loss: 0.0184 - insult_loss: 0.1578 - identity_hate_loss: 0.0442 - toxic_acc: 0.9146 - severe_toxic_acc: 0.9899 - obscene_acc: 0.9496 - threat_acc: 0.9970 - insult_acc: 0.9527 - identity_hate_acc: 0.9912 - val_loss: 0.6722 - val_toxic_loss: 0.2487 - val_severe_toxic_loss: 0.0445 - val_obscene_loss: 0.1596 - val_threat_loss: 0.0186 - val_insult_loss: 0.1547 - val_identity_hate_loss: 0.0461 - val_toxic_acc: 0.9141 - val_severe_toxic_acc: 0.9901 - val_obscene_acc: 0.9520 - val_threat_acc: 0.9967 - val_insult_acc: 0.9539 - val_identity_hate_acc: 0.9908\n",
      "Epoch 26/200\n",
      "143613/143613 [==============================] - 136s 949us/step - loss: 0.6836 - toxic_loss: 0.2517 - severe_toxic_loss: 0.0459 - obscene_loss: 0.1658 - threat_loss: 0.0184 - insult_loss: 0.1573 - identity_hate_loss: 0.0445 - toxic_acc: 0.9146 - severe_toxic_acc: 0.9899 - obscene_acc: 0.9498 - threat_acc: 0.9970 - insult_acc: 0.9528 - identity_hate_acc: 0.9912 - val_loss: 0.6600 - val_toxic_loss: 0.2440 - val_severe_toxic_loss: 0.0441 - val_obscene_loss: 0.1561 - val_threat_loss: 0.0185 - val_insult_loss: 0.1518 - val_identity_hate_loss: 0.0455 - val_toxic_acc: 0.9155 - val_severe_toxic_acc: 0.9900 - val_obscene_acc: 0.9526 - val_threat_acc: 0.9967 - val_insult_acc: 0.9543 - val_identity_hate_acc: 0.9908\n",
      "Epoch 27/200\n",
      "143613/143613 [==============================] - 136s 945us/step - loss: 0.6814 - toxic_loss: 0.2513 - severe_toxic_loss: 0.0460 - obscene_loss: 0.1654 - threat_loss: 0.0182 - insult_loss: 0.1567 - identity_hate_loss: 0.0438 - toxic_acc: 0.9146 - severe_toxic_acc: 0.9898 - obscene_acc: 0.9502 - threat_acc: 0.9970 - insult_acc: 0.9528 - identity_hate_acc: 0.9912 - val_loss: 0.6671 - val_toxic_loss: 0.2466 - val_severe_toxic_loss: 0.0442 - val_obscene_loss: 0.1580 - val_threat_loss: 0.0185 - val_insult_loss: 0.1539 - val_identity_hate_loss: 0.0460 - val_toxic_acc: 0.9150 - val_severe_toxic_acc: 0.9901 - val_obscene_acc: 0.9524 - val_threat_acc: 0.9967 - val_insult_acc: 0.9541 - val_identity_hate_acc: 0.9908\n",
      "Epoch 28/200\n",
      "143613/143613 [==============================] - 136s 949us/step - loss: 0.6786 - toxic_loss: 0.2503 - severe_toxic_loss: 0.0455 - obscene_loss: 0.1645 - threat_loss: 0.0181 - insult_loss: 0.1561 - identity_hate_loss: 0.0441 - toxic_acc: 0.9150 - severe_toxic_acc: 0.9898 - obscene_acc: 0.9503 - threat_acc: 0.9970 - insult_acc: 0.9531 - identity_hate_acc: 0.9912 - val_loss: 0.6584 - val_toxic_loss: 0.2431 - val_severe_toxic_loss: 0.0440 - val_obscene_loss: 0.1559 - val_threat_loss: 0.0184 - val_insult_loss: 0.1514 - val_identity_hate_loss: 0.0455 - val_toxic_acc: 0.9154 - val_severe_toxic_acc: 0.9900 - val_obscene_acc: 0.9526 - val_threat_acc: 0.9967 - val_insult_acc: 0.9544 - val_identity_hate_acc: 0.9908\n",
      "Epoch 29/200\n",
      "143613/143613 [==============================] - 136s 944us/step - loss: 0.6753 - toxic_loss: 0.2490 - severe_toxic_loss: 0.0452 - obscene_loss: 0.1638 - threat_loss: 0.0184 - insult_loss: 0.1552 - identity_hate_loss: 0.0437 - toxic_acc: 0.9159 - severe_toxic_acc: 0.9899 - obscene_acc: 0.9505 - threat_acc: 0.9970 - insult_acc: 0.9532 - identity_hate_acc: 0.9912 - val_loss: 0.6602 - val_toxic_loss: 0.2436 - val_severe_toxic_loss: 0.0440 - val_obscene_loss: 0.1568 - val_threat_loss: 0.0184 - val_insult_loss: 0.1520 - val_identity_hate_loss: 0.0454 - val_toxic_acc: 0.9153 - val_severe_toxic_acc: 0.9900 - val_obscene_acc: 0.9522 - val_threat_acc: 0.9967 - val_insult_acc: 0.9541 - val_identity_hate_acc: 0.9908\n",
      "Epoch 30/200\n",
      "143613/143613 [==============================] - 135s 943us/step - loss: 0.6738 - toxic_loss: 0.2484 - severe_toxic_loss: 0.0452 - obscene_loss: 0.1633 - threat_loss: 0.0181 - insult_loss: 0.1553 - identity_hate_loss: 0.0436 - toxic_acc: 0.9158 - severe_toxic_acc: 0.9898 - obscene_acc: 0.9507 - threat_acc: 0.9970 - insult_acc: 0.9532 - identity_hate_acc: 0.9912 - val_loss: 0.6606 - val_toxic_loss: 0.2437 - val_severe_toxic_loss: 0.0441 - val_obscene_loss: 0.1564 - val_threat_loss: 0.0185 - val_insult_loss: 0.1521 - val_identity_hate_loss: 0.0458 - val_toxic_acc: 0.9162 - val_severe_toxic_acc: 0.9900 - val_obscene_acc: 0.9527 - val_threat_acc: 0.9967 - val_insult_acc: 0.9543 - val_identity_hate_acc: 0.9908\n",
      "Epoch 31/200\n",
      "143613/143613 [==============================] - 136s 944us/step - loss: 0.6720 - toxic_loss: 0.2476 - severe_toxic_loss: 0.0453 - obscene_loss: 0.1626 - threat_loss: 0.0182 - insult_loss: 0.1546 - identity_hate_loss: 0.0438 - toxic_acc: 0.9164 - severe_toxic_acc: 0.9899 - obscene_acc: 0.9506 - threat_acc: 0.9970 - insult_acc: 0.9532 - identity_hate_acc: 0.9912 - val_loss: 0.6584 - val_toxic_loss: 0.2432 - val_severe_toxic_loss: 0.0440 - val_obscene_loss: 0.1554 - val_threat_loss: 0.0185 - val_insult_loss: 0.1516 - val_identity_hate_loss: 0.0457 - val_toxic_acc: 0.9163 - val_severe_toxic_acc: 0.9900 - val_obscene_acc: 0.9526 - val_threat_acc: 0.9967 - val_insult_acc: 0.9544 - val_identity_hate_acc: 0.9908\n",
      "Epoch 32/200\n",
      "143613/143613 [==============================] - 136s 949us/step - loss: 0.6686 - toxic_loss: 0.2463 - severe_toxic_loss: 0.0451 - obscene_loss: 0.1625 - threat_loss: 0.0180 - insult_loss: 0.1537 - identity_hate_loss: 0.0431 - toxic_acc: 0.9168 - severe_toxic_acc: 0.9900 - obscene_acc: 0.9509 - threat_acc: 0.9970 - insult_acc: 0.9532 - identity_hate_acc: 0.9912 - val_loss: 0.6522 - val_toxic_loss: 0.2407 - val_severe_toxic_loss: 0.0438 - val_obscene_loss: 0.1537 - val_threat_loss: 0.0185 - val_insult_loss: 0.1499 - val_identity_hate_loss: 0.0456 - val_toxic_acc: 0.9175 - val_severe_toxic_acc: 0.9900 - val_obscene_acc: 0.9537 - val_threat_acc: 0.9967 - val_insult_acc: 0.9556 - val_identity_hate_acc: 0.9908\n",
      "Epoch 33/200\n",
      "143613/143613 [==============================] - 136s 946us/step - loss: 0.6687 - toxic_loss: 0.2462 - severe_toxic_loss: 0.0449 - obscene_loss: 0.1620 - threat_loss: 0.0183 - insult_loss: 0.1538 - identity_hate_loss: 0.0435 - toxic_acc: 0.9165 - severe_toxic_acc: 0.9900 - obscene_acc: 0.9507 - threat_acc: 0.9970 - insult_acc: 0.9532 - identity_hate_acc: 0.9912 - val_loss: 0.6582 - val_toxic_loss: 0.2429 - val_severe_toxic_loss: 0.0441 - val_obscene_loss: 0.1555 - val_threat_loss: 0.0185 - val_insult_loss: 0.1514 - val_identity_hate_loss: 0.0457 - val_toxic_acc: 0.9160 - val_severe_toxic_acc: 0.9900 - val_obscene_acc: 0.9526 - val_threat_acc: 0.9967 - val_insult_acc: 0.9544 - val_identity_hate_acc: 0.9908\n",
      "Epoch 34/200\n"
     ]
    },
    {
     "name": "stdout",
     "output_type": "stream",
     "text": [
      "143613/143613 [==============================] - 137s 951us/step - loss: 0.6651 - toxic_loss: 0.2452 - severe_toxic_loss: 0.0446 - obscene_loss: 0.1607 - threat_loss: 0.0179 - insult_loss: 0.1531 - identity_hate_loss: 0.0435 - toxic_acc: 0.9172 - severe_toxic_acc: 0.9899 - obscene_acc: 0.9514 - threat_acc: 0.9970 - insult_acc: 0.9536 - identity_hate_acc: 0.9912 - val_loss: 0.6478 - val_toxic_loss: 0.2392 - val_severe_toxic_loss: 0.0439 - val_obscene_loss: 0.1522 - val_threat_loss: 0.0183 - val_insult_loss: 0.1491 - val_identity_hate_loss: 0.0452 - val_toxic_acc: 0.9182 - val_severe_toxic_acc: 0.9900 - val_obscene_acc: 0.9541 - val_threat_acc: 0.9967 - val_insult_acc: 0.9558 - val_identity_hate_acc: 0.9908\n",
      "Epoch 35/200\n",
      "143613/143613 [==============================] - 136s 945us/step - loss: 0.6643 - toxic_loss: 0.2444 - severe_toxic_loss: 0.0447 - obscene_loss: 0.1607 - threat_loss: 0.0179 - insult_loss: 0.1532 - identity_hate_loss: 0.0434 - toxic_acc: 0.9175 - severe_toxic_acc: 0.9899 - obscene_acc: 0.9514 - threat_acc: 0.9970 - insult_acc: 0.9535 - identity_hate_acc: 0.9912 - val_loss: 0.6502 - val_toxic_loss: 0.2402 - val_severe_toxic_loss: 0.0438 - val_obscene_loss: 0.1530 - val_threat_loss: 0.0184 - val_insult_loss: 0.1495 - val_identity_hate_loss: 0.0454 - val_toxic_acc: 0.9179 - val_severe_toxic_acc: 0.9900 - val_obscene_acc: 0.9536 - val_threat_acc: 0.9967 - val_insult_acc: 0.9553 - val_identity_hate_acc: 0.9908\n",
      "Epoch 36/200\n",
      "143613/143613 [==============================] - 136s 950us/step - loss: 0.6624 - toxic_loss: 0.2436 - severe_toxic_loss: 0.0449 - obscene_loss: 0.1603 - threat_loss: 0.0179 - insult_loss: 0.1524 - identity_hate_loss: 0.0433 - toxic_acc: 0.9173 - severe_toxic_acc: 0.9898 - obscene_acc: 0.9513 - threat_acc: 0.9970 - insult_acc: 0.9535 - identity_hate_acc: 0.9912 - val_loss: 0.6449 - val_toxic_loss: 0.2374 - val_severe_toxic_loss: 0.0436 - val_obscene_loss: 0.1521 - val_threat_loss: 0.0184 - val_insult_loss: 0.1483 - val_identity_hate_loss: 0.0451 - val_toxic_acc: 0.9184 - val_severe_toxic_acc: 0.9900 - val_obscene_acc: 0.9536 - val_threat_acc: 0.9967 - val_insult_acc: 0.9556 - val_identity_hate_acc: 0.9908\n",
      "Epoch 37/200\n",
      "143613/143613 [==============================] - 136s 946us/step - loss: 0.6612 - toxic_loss: 0.2432 - severe_toxic_loss: 0.0445 - obscene_loss: 0.1604 - threat_loss: 0.0178 - insult_loss: 0.1520 - identity_hate_loss: 0.0432 - toxic_acc: 0.9178 - severe_toxic_acc: 0.9898 - obscene_acc: 0.9510 - threat_acc: 0.9970 - insult_acc: 0.9536 - identity_hate_acc: 0.9912 - val_loss: 0.6474 - val_toxic_loss: 0.2387 - val_severe_toxic_loss: 0.0438 - val_obscene_loss: 0.1526 - val_threat_loss: 0.0184 - val_insult_loss: 0.1488 - val_identity_hate_loss: 0.0451 - val_toxic_acc: 0.9182 - val_severe_toxic_acc: 0.9900 - val_obscene_acc: 0.9535 - val_threat_acc: 0.9967 - val_insult_acc: 0.9556 - val_identity_hate_acc: 0.9908\n",
      "Epoch 38/200\n",
      "143613/143613 [==============================] - 136s 950us/step - loss: 0.6601 - toxic_loss: 0.2424 - severe_toxic_loss: 0.0448 - obscene_loss: 0.1595 - threat_loss: 0.0181 - insult_loss: 0.1523 - identity_hate_loss: 0.0430 - toxic_acc: 0.9178 - severe_toxic_acc: 0.9899 - obscene_acc: 0.9517 - threat_acc: 0.9970 - insult_acc: 0.9537 - identity_hate_acc: 0.9912 - val_loss: 0.6427 - val_toxic_loss: 0.2367 - val_severe_toxic_loss: 0.0435 - val_obscene_loss: 0.1513 - val_threat_loss: 0.0183 - val_insult_loss: 0.1478 - val_identity_hate_loss: 0.0449 - val_toxic_acc: 0.9185 - val_severe_toxic_acc: 0.9900 - val_obscene_acc: 0.9543 - val_threat_acc: 0.9967 - val_insult_acc: 0.9554 - val_identity_hate_acc: 0.9908\n",
      "Epoch 39/200\n",
      "143613/143613 [==============================] - 136s 945us/step - loss: 0.6600 - toxic_loss: 0.2430 - severe_toxic_loss: 0.0448 - obscene_loss: 0.1597 - threat_loss: 0.0179 - insult_loss: 0.1516 - identity_hate_loss: 0.0431 - toxic_acc: 0.9177 - severe_toxic_acc: 0.9898 - obscene_acc: 0.9517 - threat_acc: 0.9970 - insult_acc: 0.9537 - identity_hate_acc: 0.9912 - val_loss: 0.6451 - val_toxic_loss: 0.2380 - val_severe_toxic_loss: 0.0436 - val_obscene_loss: 0.1517 - val_threat_loss: 0.0184 - val_insult_loss: 0.1484 - val_identity_hate_loss: 0.0450 - val_toxic_acc: 0.9181 - val_severe_toxic_acc: 0.9900 - val_obscene_acc: 0.9542 - val_threat_acc: 0.9967 - val_insult_acc: 0.9554 - val_identity_hate_acc: 0.9908\n",
      "Epoch 40/200\n",
      "143613/143613 [==============================] - 136s 948us/step - loss: 0.6565 - toxic_loss: 0.2415 - severe_toxic_loss: 0.0444 - obscene_loss: 0.1588 - threat_loss: 0.0178 - insult_loss: 0.1510 - identity_hate_loss: 0.0430 - toxic_acc: 0.9186 - severe_toxic_acc: 0.9898 - obscene_acc: 0.9520 - threat_acc: 0.9970 - insult_acc: 0.9542 - identity_hate_acc: 0.9912 - val_loss: 0.6402 - val_toxic_loss: 0.2356 - val_severe_toxic_loss: 0.0435 - val_obscene_loss: 0.1503 - val_threat_loss: 0.0184 - val_insult_loss: 0.1473 - val_identity_hate_loss: 0.0450 - val_toxic_acc: 0.9191 - val_severe_toxic_acc: 0.9900 - val_obscene_acc: 0.9548 - val_threat_acc: 0.9967 - val_insult_acc: 0.9563 - val_identity_hate_acc: 0.9908\n",
      "Epoch 41/200\n",
      "143613/143613 [==============================] - 136s 944us/step - loss: 0.6555 - toxic_loss: 0.2414 - severe_toxic_loss: 0.0440 - obscene_loss: 0.1586 - threat_loss: 0.0180 - insult_loss: 0.1505 - identity_hate_loss: 0.0431 - toxic_acc: 0.9186 - severe_toxic_acc: 0.9899 - obscene_acc: 0.9518 - threat_acc: 0.9970 - insult_acc: 0.9542 - identity_hate_acc: 0.9912 - val_loss: 0.6405 - val_toxic_loss: 0.2354 - val_severe_toxic_loss: 0.0434 - val_obscene_loss: 0.1508 - val_threat_loss: 0.0183 - val_insult_loss: 0.1477 - val_identity_hate_loss: 0.0450 - val_toxic_acc: 0.9188 - val_severe_toxic_acc: 0.9900 - val_obscene_acc: 0.9546 - val_threat_acc: 0.9967 - val_insult_acc: 0.9561 - val_identity_hate_acc: 0.9908\n",
      "Epoch 42/200\n",
      "143613/143613 [==============================] - 135s 943us/step - loss: 0.6542 - toxic_loss: 0.2409 - severe_toxic_loss: 0.0442 - obscene_loss: 0.1580 - threat_loss: 0.0179 - insult_loss: 0.1505 - identity_hate_loss: 0.0428 - toxic_acc: 0.9187 - severe_toxic_acc: 0.9899 - obscene_acc: 0.9521 - threat_acc: 0.9970 - insult_acc: 0.9539 - identity_hate_acc: 0.9912 - val_loss: 0.6423 - val_toxic_loss: 0.2356 - val_severe_toxic_loss: 0.0434 - val_obscene_loss: 0.1514 - val_threat_loss: 0.0184 - val_insult_loss: 0.1481 - val_identity_hate_loss: 0.0454 - val_toxic_acc: 0.9188 - val_severe_toxic_acc: 0.9900 - val_obscene_acc: 0.9544 - val_threat_acc: 0.9967 - val_insult_acc: 0.9559 - val_identity_hate_acc: 0.9908\n",
      "Epoch 43/200\n",
      "143613/143613 [==============================] - 136s 950us/step - loss: 0.6524 - toxic_loss: 0.2403 - severe_toxic_loss: 0.0439 - obscene_loss: 0.1571 - threat_loss: 0.0180 - insult_loss: 0.1503 - identity_hate_loss: 0.0428 - toxic_acc: 0.9187 - severe_toxic_acc: 0.9899 - obscene_acc: 0.9523 - threat_acc: 0.9970 - insult_acc: 0.9543 - identity_hate_acc: 0.9912 - val_loss: 0.6394 - val_toxic_loss: 0.2347 - val_severe_toxic_loss: 0.0434 - val_obscene_loss: 0.1502 - val_threat_loss: 0.0184 - val_insult_loss: 0.1475 - val_identity_hate_loss: 0.0452 - val_toxic_acc: 0.9197 - val_severe_toxic_acc: 0.9900 - val_obscene_acc: 0.9550 - val_threat_acc: 0.9967 - val_insult_acc: 0.9562 - val_identity_hate_acc: 0.9908\n",
      "Epoch 44/200\n",
      "143613/143613 [==============================] - 136s 950us/step - loss: 0.6523 - toxic_loss: 0.2394 - severe_toxic_loss: 0.0441 - obscene_loss: 0.1575 - threat_loss: 0.0179 - insult_loss: 0.1505 - identity_hate_loss: 0.0429 - toxic_acc: 0.9189 - severe_toxic_acc: 0.9899 - obscene_acc: 0.9523 - threat_acc: 0.9970 - insult_acc: 0.9542 - identity_hate_acc: 0.9912 - val_loss: 0.6366 - val_toxic_loss: 0.2339 - val_severe_toxic_loss: 0.0433 - val_obscene_loss: 0.1495 - val_threat_loss: 0.0183 - val_insult_loss: 0.1467 - val_identity_hate_loss: 0.0449 - val_toxic_acc: 0.9201 - val_severe_toxic_acc: 0.9900 - val_obscene_acc: 0.9549 - val_threat_acc: 0.9967 - val_insult_acc: 0.9561 - val_identity_hate_acc: 0.9908\n",
      "Epoch 45/200\n"
     ]
    },
    {
     "name": "stdout",
     "output_type": "stream",
     "text": [
      "143613/143613 [==============================] - 136s 947us/step - loss: 0.6513 - toxic_loss: 0.2397 - severe_toxic_loss: 0.0441 - obscene_loss: 0.1572 - threat_loss: 0.0177 - insult_loss: 0.1496 - identity_hate_loss: 0.0430 - toxic_acc: 0.9193 - severe_toxic_acc: 0.9899 - obscene_acc: 0.9523 - threat_acc: 0.9970 - insult_acc: 0.9544 - identity_hate_acc: 0.9912 - val_loss: 0.6372 - val_toxic_loss: 0.2343 - val_severe_toxic_loss: 0.0432 - val_obscene_loss: 0.1495 - val_threat_loss: 0.0182 - val_insult_loss: 0.1469 - val_identity_hate_loss: 0.0451 - val_toxic_acc: 0.9200 - val_severe_toxic_acc: 0.9900 - val_obscene_acc: 0.9550 - val_threat_acc: 0.9967 - val_insult_acc: 0.9563 - val_identity_hate_acc: 0.9908\n",
      "Epoch 46/200\n",
      "143613/143613 [==============================] - 136s 946us/step - loss: 0.6502 - toxic_loss: 0.2392 - severe_toxic_loss: 0.0439 - obscene_loss: 0.1567 - threat_loss: 0.0178 - insult_loss: 0.1497 - identity_hate_loss: 0.0429 - toxic_acc: 0.9186 - severe_toxic_acc: 0.9900 - obscene_acc: 0.9526 - threat_acc: 0.9970 - insult_acc: 0.9545 - identity_hate_acc: 0.9912 - val_loss: 0.6398 - val_toxic_loss: 0.2348 - val_severe_toxic_loss: 0.0432 - val_obscene_loss: 0.1506 - val_threat_loss: 0.0182 - val_insult_loss: 0.1478 - val_identity_hate_loss: 0.0452 - val_toxic_acc: 0.9192 - val_severe_toxic_acc: 0.9900 - val_obscene_acc: 0.9548 - val_threat_acc: 0.9967 - val_insult_acc: 0.9561 - val_identity_hate_acc: 0.9908\n",
      "Epoch 47/200\n",
      "143613/143613 [==============================] - 136s 949us/step - loss: 0.6470 - toxic_loss: 0.2382 - severe_toxic_loss: 0.0437 - obscene_loss: 0.1564 - threat_loss: 0.0176 - insult_loss: 0.1489 - identity_hate_loss: 0.0424 - toxic_acc: 0.9196 - severe_toxic_acc: 0.9900 - obscene_acc: 0.9526 - threat_acc: 0.9970 - insult_acc: 0.9547 - identity_hate_acc: 0.9912 - val_loss: 0.6352 - val_toxic_loss: 0.2332 - val_severe_toxic_loss: 0.0431 - val_obscene_loss: 0.1491 - val_threat_loss: 0.0182 - val_insult_loss: 0.1466 - val_identity_hate_loss: 0.0450 - val_toxic_acc: 0.9200 - val_severe_toxic_acc: 0.9900 - val_obscene_acc: 0.9551 - val_threat_acc: 0.9967 - val_insult_acc: 0.9566 - val_identity_hate_acc: 0.9908\n",
      "Epoch 48/200\n",
      "143613/143613 [==============================] - 136s 949us/step - loss: 0.6475 - toxic_loss: 0.2384 - severe_toxic_loss: 0.0437 - obscene_loss: 0.1561 - threat_loss: 0.0179 - insult_loss: 0.1488 - identity_hate_loss: 0.0427 - toxic_acc: 0.9195 - severe_toxic_acc: 0.9900 - obscene_acc: 0.9529 - threat_acc: 0.9970 - insult_acc: 0.9549 - identity_hate_acc: 0.9912 - val_loss: 0.6336 - val_toxic_loss: 0.2323 - val_severe_toxic_loss: 0.0430 - val_obscene_loss: 0.1486 - val_threat_loss: 0.0182 - val_insult_loss: 0.1465 - val_identity_hate_loss: 0.0450 - val_toxic_acc: 0.9205 - val_severe_toxic_acc: 0.9900 - val_obscene_acc: 0.9556 - val_threat_acc: 0.9967 - val_insult_acc: 0.9570 - val_identity_hate_acc: 0.9908\n",
      "Epoch 49/200\n",
      "143613/143613 [==============================] - 136s 946us/step - loss: 0.6467 - toxic_loss: 0.2382 - severe_toxic_loss: 0.0437 - obscene_loss: 0.1560 - threat_loss: 0.0177 - insult_loss: 0.1485 - identity_hate_loss: 0.0427 - toxic_acc: 0.9193 - severe_toxic_acc: 0.9898 - obscene_acc: 0.9528 - threat_acc: 0.9970 - insult_acc: 0.9548 - identity_hate_acc: 0.9912 - val_loss: 0.6377 - val_toxic_loss: 0.2336 - val_severe_toxic_loss: 0.0433 - val_obscene_loss: 0.1499 - val_threat_loss: 0.0183 - val_insult_loss: 0.1474 - val_identity_hate_loss: 0.0452 - val_toxic_acc: 0.9195 - val_severe_toxic_acc: 0.9900 - val_obscene_acc: 0.9551 - val_threat_acc: 0.9967 - val_insult_acc: 0.9561 - val_identity_hate_acc: 0.9908\n",
      "Epoch 50/200\n",
      "143613/143613 [==============================] - 136s 945us/step - loss: 0.6448 - toxic_loss: 0.2365 - severe_toxic_loss: 0.0439 - obscene_loss: 0.1554 - threat_loss: 0.0177 - insult_loss: 0.1485 - identity_hate_loss: 0.0428 - toxic_acc: 0.9199 - severe_toxic_acc: 0.9899 - obscene_acc: 0.9529 - threat_acc: 0.9970 - insult_acc: 0.9549 - identity_hate_acc: 0.9912 - val_loss: 0.6367 - val_toxic_loss: 0.2331 - val_severe_toxic_loss: 0.0432 - val_obscene_loss: 0.1500 - val_threat_loss: 0.0182 - val_insult_loss: 0.1470 - val_identity_hate_loss: 0.0452 - val_toxic_acc: 0.9199 - val_severe_toxic_acc: 0.9900 - val_obscene_acc: 0.9550 - val_threat_acc: 0.9967 - val_insult_acc: 0.9562 - val_identity_hate_acc: 0.9908\n",
      "Epoch 51/200\n",
      "143613/143613 [==============================] - 136s 944us/step - loss: 0.6465 - toxic_loss: 0.2378 - severe_toxic_loss: 0.0440 - obscene_loss: 0.1558 - threat_loss: 0.0176 - insult_loss: 0.1487 - identity_hate_loss: 0.0426 - toxic_acc: 0.9196 - severe_toxic_acc: 0.9898 - obscene_acc: 0.9526 - threat_acc: 0.9970 - insult_acc: 0.9546 - identity_hate_acc: 0.9912 - val_loss: 0.6344 - val_toxic_loss: 0.2321 - val_severe_toxic_loss: 0.0430 - val_obscene_loss: 0.1495 - val_threat_loss: 0.0181 - val_insult_loss: 0.1467 - val_identity_hate_loss: 0.0450 - val_toxic_acc: 0.9200 - val_severe_toxic_acc: 0.9900 - val_obscene_acc: 0.9548 - val_threat_acc: 0.9967 - val_insult_acc: 0.9564 - val_identity_hate_acc: 0.9908\n",
      "Epoch 52/200\n",
      "143613/143613 [==============================] - 136s 947us/step - loss: 0.6433 - toxic_loss: 0.2365 - severe_toxic_loss: 0.0437 - obscene_loss: 0.1554 - threat_loss: 0.0178 - insult_loss: 0.1478 - identity_hate_loss: 0.0422 - toxic_acc: 0.9200 - severe_toxic_acc: 0.9899 - obscene_acc: 0.9525 - threat_acc: 0.9970 - insult_acc: 0.9548 - identity_hate_acc: 0.9912 - val_loss: 0.6312 - val_toxic_loss: 0.2312 - val_severe_toxic_loss: 0.0428 - val_obscene_loss: 0.1483 - val_threat_loss: 0.0181 - val_insult_loss: 0.1459 - val_identity_hate_loss: 0.0449 - val_toxic_acc: 0.9204 - val_severe_toxic_acc: 0.9900 - val_obscene_acc: 0.9558 - val_threat_acc: 0.9967 - val_insult_acc: 0.9572 - val_identity_hate_acc: 0.9908\n",
      "Epoch 53/200\n",
      "143613/143613 [==============================] - 136s 945us/step - loss: 0.6430 - toxic_loss: 0.2362 - severe_toxic_loss: 0.0437 - obscene_loss: 0.1554 - threat_loss: 0.0176 - insult_loss: 0.1479 - identity_hate_loss: 0.0422 - toxic_acc: 0.9201 - severe_toxic_acc: 0.9899 - obscene_acc: 0.9529 - threat_acc: 0.9970 - insult_acc: 0.9549 - identity_hate_acc: 0.9912 - val_loss: 0.6347 - val_toxic_loss: 0.2328 - val_severe_toxic_loss: 0.0430 - val_obscene_loss: 0.1489 - val_threat_loss: 0.0181 - val_insult_loss: 0.1467 - val_identity_hate_loss: 0.0452 - val_toxic_acc: 0.9200 - val_severe_toxic_acc: 0.9900 - val_obscene_acc: 0.9550 - val_threat_acc: 0.9967 - val_insult_acc: 0.9564 - val_identity_hate_acc: 0.9908\n",
      "Epoch 54/200\n",
      "143613/143613 [==============================] - 136s 946us/step - loss: 0.6427 - toxic_loss: 0.2368 - severe_toxic_loss: 0.0437 - obscene_loss: 0.1548 - threat_loss: 0.0176 - insult_loss: 0.1475 - identity_hate_loss: 0.0423 - toxic_acc: 0.9196 - severe_toxic_acc: 0.9899 - obscene_acc: 0.9529 - threat_acc: 0.9970 - insult_acc: 0.9548 - identity_hate_acc: 0.9912 - val_loss: 0.6319 - val_toxic_loss: 0.2316 - val_severe_toxic_loss: 0.0428 - val_obscene_loss: 0.1480 - val_threat_loss: 0.0183 - val_insult_loss: 0.1461 - val_identity_hate_loss: 0.0451 - val_toxic_acc: 0.9204 - val_severe_toxic_acc: 0.9900 - val_obscene_acc: 0.9556 - val_threat_acc: 0.9967 - val_insult_acc: 0.9569 - val_identity_hate_acc: 0.9908\n",
      "Epoch 55/200\n",
      "143613/143613 [==============================] - 136s 947us/step - loss: 0.6410 - toxic_loss: 0.2354 - severe_toxic_loss: 0.0438 - obscene_loss: 0.1544 - threat_loss: 0.0176 - insult_loss: 0.1475 - identity_hate_loss: 0.0423 - toxic_acc: 0.9201 - severe_toxic_acc: 0.9898 - obscene_acc: 0.9531 - threat_acc: 0.9970 - insult_acc: 0.9547 - identity_hate_acc: 0.9912 - val_loss: 0.6315 - val_toxic_loss: 0.2315 - val_severe_toxic_loss: 0.0428 - val_obscene_loss: 0.1480 - val_threat_loss: 0.0182 - val_insult_loss: 0.1461 - val_identity_hate_loss: 0.0449 - val_toxic_acc: 0.9202 - val_severe_toxic_acc: 0.9900 - val_obscene_acc: 0.9555 - val_threat_acc: 0.9967 - val_insult_acc: 0.9572 - val_identity_hate_acc: 0.9908\n",
      "Epoch 56/200\n"
     ]
    },
    {
     "name": "stdout",
     "output_type": "stream",
     "text": [
      "143613/143613 [==============================] - 136s 947us/step - loss: 0.6395 - toxic_loss: 0.2355 - severe_toxic_loss: 0.0433 - obscene_loss: 0.1537 - threat_loss: 0.0178 - insult_loss: 0.1469 - identity_hate_loss: 0.0424 - toxic_acc: 0.9200 - severe_toxic_acc: 0.9899 - obscene_acc: 0.9531 - threat_acc: 0.9970 - insult_acc: 0.9549 - identity_hate_acc: 0.9912 - val_loss: 0.6374 - val_toxic_loss: 0.2337 - val_severe_toxic_loss: 0.0432 - val_obscene_loss: 0.1498 - val_threat_loss: 0.0182 - val_insult_loss: 0.1476 - val_identity_hate_loss: 0.0450 - val_toxic_acc: 0.9193 - val_severe_toxic_acc: 0.9900 - val_obscene_acc: 0.9551 - val_threat_acc: 0.9967 - val_insult_acc: 0.9560 - val_identity_hate_acc: 0.9908\n",
      "Epoch 57/200\n",
      "143613/143613 [==============================] - 136s 945us/step - loss: 0.6400 - toxic_loss: 0.2355 - severe_toxic_loss: 0.0437 - obscene_loss: 0.1538 - threat_loss: 0.0176 - insult_loss: 0.1472 - identity_hate_loss: 0.0422 - toxic_acc: 0.9203 - severe_toxic_acc: 0.9899 - obscene_acc: 0.9533 - threat_acc: 0.9970 - insult_acc: 0.9549 - identity_hate_acc: 0.9912 - val_loss: 0.6316 - val_toxic_loss: 0.2320 - val_severe_toxic_loss: 0.0429 - val_obscene_loss: 0.1475 - val_threat_loss: 0.0182 - val_insult_loss: 0.1460 - val_identity_hate_loss: 0.0450 - val_toxic_acc: 0.9204 - val_severe_toxic_acc: 0.9900 - val_obscene_acc: 0.9556 - val_threat_acc: 0.9967 - val_insult_acc: 0.9569 - val_identity_hate_acc: 0.9908\n",
      "Epoch 58/200\n",
      "143613/143613 [==============================] - 136s 946us/step - loss: 0.6379 - toxic_loss: 0.2341 - severe_toxic_loss: 0.0433 - obscene_loss: 0.1539 - threat_loss: 0.0176 - insult_loss: 0.1469 - identity_hate_loss: 0.0421 - toxic_acc: 0.9208 - severe_toxic_acc: 0.9898 - obscene_acc: 0.9533 - threat_acc: 0.9970 - insult_acc: 0.9551 - identity_hate_acc: 0.9912 - val_loss: 0.6328 - val_toxic_loss: 0.2320 - val_severe_toxic_loss: 0.0429 - val_obscene_loss: 0.1482 - val_threat_loss: 0.0182 - val_insult_loss: 0.1465 - val_identity_hate_loss: 0.0449 - val_toxic_acc: 0.9204 - val_severe_toxic_acc: 0.9900 - val_obscene_acc: 0.9556 - val_threat_acc: 0.9967 - val_insult_acc: 0.9566 - val_identity_hate_acc: 0.9908\n",
      "Epoch 59/200\n",
      "143613/143613 [==============================] - 136s 949us/step - loss: 0.6380 - toxic_loss: 0.2340 - severe_toxic_loss: 0.0435 - obscene_loss: 0.1541 - threat_loss: 0.0176 - insult_loss: 0.1467 - identity_hate_loss: 0.0421 - toxic_acc: 0.9206 - severe_toxic_acc: 0.9900 - obscene_acc: 0.9529 - threat_acc: 0.9970 - insult_acc: 0.9553 - identity_hate_acc: 0.9912 - val_loss: 0.6303 - val_toxic_loss: 0.2305 - val_severe_toxic_loss: 0.0429 - val_obscene_loss: 0.1476 - val_threat_loss: 0.0183 - val_insult_loss: 0.1461 - val_identity_hate_loss: 0.0449 - val_toxic_acc: 0.9207 - val_severe_toxic_acc: 0.9900 - val_obscene_acc: 0.9561 - val_threat_acc: 0.9967 - val_insult_acc: 0.9572 - val_identity_hate_acc: 0.9908\n",
      "Epoch 60/200\n",
      "143613/143613 [==============================] - 136s 946us/step - loss: 0.6363 - toxic_loss: 0.2339 - severe_toxic_loss: 0.0430 - obscene_loss: 0.1535 - threat_loss: 0.0176 - insult_loss: 0.1462 - identity_hate_loss: 0.0421 - toxic_acc: 0.9210 - severe_toxic_acc: 0.9901 - obscene_acc: 0.9535 - threat_acc: 0.9970 - insult_acc: 0.9553 - identity_hate_acc: 0.9912 - val_loss: 0.6305 - val_toxic_loss: 0.2306 - val_severe_toxic_loss: 0.0430 - val_obscene_loss: 0.1478 - val_threat_loss: 0.0182 - val_insult_loss: 0.1461 - val_identity_hate_loss: 0.0449 - val_toxic_acc: 0.9204 - val_severe_toxic_acc: 0.9900 - val_obscene_acc: 0.9558 - val_threat_acc: 0.9967 - val_insult_acc: 0.9571 - val_identity_hate_acc: 0.9908\n",
      "Epoch 61/200\n",
      "143613/143613 [==============================] - 136s 949us/step - loss: 0.6355 - toxic_loss: 0.2337 - severe_toxic_loss: 0.0432 - obscene_loss: 0.1529 - threat_loss: 0.0177 - insult_loss: 0.1458 - identity_hate_loss: 0.0421 - toxic_acc: 0.9207 - severe_toxic_acc: 0.9900 - obscene_acc: 0.9534 - threat_acc: 0.9970 - insult_acc: 0.9552 - identity_hate_acc: 0.9912 - val_loss: 0.6297 - val_toxic_loss: 0.2301 - val_severe_toxic_loss: 0.0430 - val_obscene_loss: 0.1475 - val_threat_loss: 0.0182 - val_insult_loss: 0.1459 - val_identity_hate_loss: 0.0450 - val_toxic_acc: 0.9208 - val_severe_toxic_acc: 0.9900 - val_obscene_acc: 0.9562 - val_threat_acc: 0.9967 - val_insult_acc: 0.9570 - val_identity_hate_acc: 0.9908\n",
      "Epoch 62/200\n",
      "143613/143613 [==============================] - 136s 944us/step - loss: 0.6347 - toxic_loss: 0.2333 - severe_toxic_loss: 0.0433 - obscene_loss: 0.1527 - threat_loss: 0.0176 - insult_loss: 0.1458 - identity_hate_loss: 0.0421 - toxic_acc: 0.9208 - severe_toxic_acc: 0.9899 - obscene_acc: 0.9537 - threat_acc: 0.9970 - insult_acc: 0.9554 - identity_hate_acc: 0.9912 - val_loss: 0.6331 - val_toxic_loss: 0.2315 - val_severe_toxic_loss: 0.0432 - val_obscene_loss: 0.1486 - val_threat_loss: 0.0182 - val_insult_loss: 0.1465 - val_identity_hate_loss: 0.0451 - val_toxic_acc: 0.9202 - val_severe_toxic_acc: 0.9900 - val_obscene_acc: 0.9554 - val_threat_acc: 0.9967 - val_insult_acc: 0.9566 - val_identity_hate_acc: 0.9908\n",
      "Epoch 63/200\n",
      "143613/143613 [==============================] - 135s 943us/step - loss: 0.6342 - toxic_loss: 0.2329 - severe_toxic_loss: 0.0432 - obscene_loss: 0.1528 - threat_loss: 0.0175 - insult_loss: 0.1461 - identity_hate_loss: 0.0417 - toxic_acc: 0.9211 - severe_toxic_acc: 0.9899 - obscene_acc: 0.9538 - threat_acc: 0.9970 - insult_acc: 0.9553 - identity_hate_acc: 0.9912 - val_loss: 0.6301 - val_toxic_loss: 0.2305 - val_severe_toxic_loss: 0.0429 - val_obscene_loss: 0.1475 - val_threat_loss: 0.0182 - val_insult_loss: 0.1458 - val_identity_hate_loss: 0.0451 - val_toxic_acc: 0.9207 - val_severe_toxic_acc: 0.9900 - val_obscene_acc: 0.9562 - val_threat_acc: 0.9967 - val_insult_acc: 0.9571 - val_identity_hate_acc: 0.9908\n",
      "Epoch 64/200\n",
      "143613/143613 [==============================] - 136s 944us/step - loss: 0.6324 - toxic_loss: 0.2325 - severe_toxic_loss: 0.0431 - obscene_loss: 0.1521 - threat_loss: 0.0175 - insult_loss: 0.1456 - identity_hate_loss: 0.0416 - toxic_acc: 0.9213 - severe_toxic_acc: 0.9900 - obscene_acc: 0.9537 - threat_acc: 0.9970 - insult_acc: 0.9551 - identity_hate_acc: 0.9912 - val_loss: 0.6313 - val_toxic_loss: 0.2303 - val_severe_toxic_loss: 0.0431 - val_obscene_loss: 0.1483 - val_threat_loss: 0.0183 - val_insult_loss: 0.1462 - val_identity_hate_loss: 0.0450 - val_toxic_acc: 0.9207 - val_severe_toxic_acc: 0.9900 - val_obscene_acc: 0.9557 - val_threat_acc: 0.9967 - val_insult_acc: 0.9568 - val_identity_hate_acc: 0.9908\n",
      "Epoch 65/200\n",
      "143613/143613 [==============================] - 136s 946us/step - loss: 0.6316 - toxic_loss: 0.2325 - severe_toxic_loss: 0.0432 - obscene_loss: 0.1519 - threat_loss: 0.0175 - insult_loss: 0.1445 - identity_hate_loss: 0.0421 - toxic_acc: 0.9214 - severe_toxic_acc: 0.9899 - obscene_acc: 0.9538 - threat_acc: 0.9970 - insult_acc: 0.9556 - identity_hate_acc: 0.9912 - val_loss: 0.6317 - val_toxic_loss: 0.2311 - val_severe_toxic_loss: 0.0429 - val_obscene_loss: 0.1479 - val_threat_loss: 0.0182 - val_insult_loss: 0.1465 - val_identity_hate_loss: 0.0451 - val_toxic_acc: 0.9208 - val_severe_toxic_acc: 0.9900 - val_obscene_acc: 0.9561 - val_threat_acc: 0.9967 - val_insult_acc: 0.9573 - val_identity_hate_acc: 0.9908\n",
      "Epoch 66/200\n",
      "143613/143613 [==============================] - 136s 946us/step - loss: 0.6318 - toxic_loss: 0.2318 - severe_toxic_loss: 0.0432 - obscene_loss: 0.1522 - threat_loss: 0.0176 - insult_loss: 0.1452 - identity_hate_loss: 0.0419 - toxic_acc: 0.9218 - severe_toxic_acc: 0.9900 - obscene_acc: 0.9539 - threat_acc: 0.9970 - insult_acc: 0.9555 - identity_hate_acc: 0.9912 - val_loss: 0.6312 - val_toxic_loss: 0.2306 - val_severe_toxic_loss: 0.0430 - val_obscene_loss: 0.1481 - val_threat_loss: 0.0182 - val_insult_loss: 0.1463 - val_identity_hate_loss: 0.0451 - val_toxic_acc: 0.9205 - val_severe_toxic_acc: 0.9900 - val_obscene_acc: 0.9560 - val_threat_acc: 0.9967 - val_insult_acc: 0.9571 - val_identity_hate_acc: 0.9908\n",
      "Epoch 67/200\n"
     ]
    },
    {
     "name": "stdout",
     "output_type": "stream",
     "text": [
      "143613/143613 [==============================] - 136s 950us/step - loss: 0.6314 - toxic_loss: 0.2320 - severe_toxic_loss: 0.0430 - obscene_loss: 0.1520 - threat_loss: 0.0174 - insult_loss: 0.1449 - identity_hate_loss: 0.0422 - toxic_acc: 0.9217 - severe_toxic_acc: 0.9899 - obscene_acc: 0.9537 - threat_acc: 0.9970 - insult_acc: 0.9553 - identity_hate_acc: 0.9912 - val_loss: 0.6296 - val_toxic_loss: 0.2303 - val_severe_toxic_loss: 0.0428 - val_obscene_loss: 0.1472 - val_threat_loss: 0.0182 - val_insult_loss: 0.1459 - val_identity_hate_loss: 0.0452 - val_toxic_acc: 0.9212 - val_severe_toxic_acc: 0.9900 - val_obscene_acc: 0.9564 - val_threat_acc: 0.9967 - val_insult_acc: 0.9571 - val_identity_hate_acc: 0.9908\n",
      "Epoch 68/200\n",
      "143613/143613 [==============================] - 136s 947us/step - loss: 0.6297 - toxic_loss: 0.2313 - severe_toxic_loss: 0.0432 - obscene_loss: 0.1510 - threat_loss: 0.0175 - insult_loss: 0.1450 - identity_hate_loss: 0.0418 - toxic_acc: 0.9216 - severe_toxic_acc: 0.9899 - obscene_acc: 0.9542 - threat_acc: 0.9970 - insult_acc: 0.9555 - identity_hate_acc: 0.9912 - val_loss: 0.6323 - val_toxic_loss: 0.2311 - val_severe_toxic_loss: 0.0431 - val_obscene_loss: 0.1480 - val_threat_loss: 0.0183 - val_insult_loss: 0.1466 - val_identity_hate_loss: 0.0452 - val_toxic_acc: 0.9209 - val_severe_toxic_acc: 0.9900 - val_obscene_acc: 0.9558 - val_threat_acc: 0.9967 - val_insult_acc: 0.9569 - val_identity_hate_acc: 0.9908\n",
      "Epoch 69/200\n",
      "143613/143613 [==============================] - 136s 946us/step - loss: 0.6289 - toxic_loss: 0.2310 - severe_toxic_loss: 0.0433 - obscene_loss: 0.1512 - threat_loss: 0.0174 - insult_loss: 0.1441 - identity_hate_loss: 0.0420 - toxic_acc: 0.9213 - severe_toxic_acc: 0.9899 - obscene_acc: 0.9540 - threat_acc: 0.9970 - insult_acc: 0.9560 - identity_hate_acc: 0.9912 - val_loss: 0.6309 - val_toxic_loss: 0.2309 - val_severe_toxic_loss: 0.0430 - val_obscene_loss: 0.1474 - val_threat_loss: 0.0182 - val_insult_loss: 0.1462 - val_identity_hate_loss: 0.0452 - val_toxic_acc: 0.9207 - val_severe_toxic_acc: 0.9900 - val_obscene_acc: 0.9561 - val_threat_acc: 0.9967 - val_insult_acc: 0.9569 - val_identity_hate_acc: 0.9908\n",
      "Epoch 70/200\n",
      "143613/143613 [==============================] - 136s 946us/step - loss: 0.6290 - toxic_loss: 0.2308 - severe_toxic_loss: 0.0431 - obscene_loss: 0.1511 - threat_loss: 0.0173 - insult_loss: 0.1447 - identity_hate_loss: 0.0419 - toxic_acc: 0.9222 - severe_toxic_acc: 0.9899 - obscene_acc: 0.9541 - threat_acc: 0.9970 - insult_acc: 0.9557 - identity_hate_acc: 0.9912 - val_loss: 0.6296 - val_toxic_loss: 0.2303 - val_severe_toxic_loss: 0.0429 - val_obscene_loss: 0.1472 - val_threat_loss: 0.0182 - val_insult_loss: 0.1460 - val_identity_hate_loss: 0.0451 - val_toxic_acc: 0.9209 - val_severe_toxic_acc: 0.9900 - val_obscene_acc: 0.9563 - val_threat_acc: 0.9967 - val_insult_acc: 0.9571 - val_identity_hate_acc: 0.9908\n",
      "Epoch 71/200\n",
      "143613/143613 [==============================] - 136s 945us/step - loss: 0.6278 - toxic_loss: 0.2305 - severe_toxic_loss: 0.0429 - obscene_loss: 0.1510 - threat_loss: 0.0172 - insult_loss: 0.1445 - identity_hate_loss: 0.0417 - toxic_acc: 0.9216 - severe_toxic_acc: 0.9900 - obscene_acc: 0.9538 - threat_acc: 0.9970 - insult_acc: 0.9555 - identity_hate_acc: 0.9912 - val_loss: 0.6315 - val_toxic_loss: 0.2315 - val_severe_toxic_loss: 0.0429 - val_obscene_loss: 0.1476 - val_threat_loss: 0.0182 - val_insult_loss: 0.1462 - val_identity_hate_loss: 0.0452 - val_toxic_acc: 0.9207 - val_severe_toxic_acc: 0.9900 - val_obscene_acc: 0.9562 - val_threat_acc: 0.9967 - val_insult_acc: 0.9568 - val_identity_hate_acc: 0.9908\n",
      "Epoch 72/200\n",
      "143613/143613 [==============================] - 136s 946us/step - loss: 0.6297 - toxic_loss: 0.2312 - severe_toxic_loss: 0.0433 - obscene_loss: 0.1514 - threat_loss: 0.0175 - insult_loss: 0.1444 - identity_hate_loss: 0.0419 - toxic_acc: 0.9213 - severe_toxic_acc: 0.9899 - obscene_acc: 0.9539 - threat_acc: 0.9970 - insult_acc: 0.9555 - identity_hate_acc: 0.9912 - val_loss: 0.6319 - val_toxic_loss: 0.2311 - val_severe_toxic_loss: 0.0430 - val_obscene_loss: 0.1481 - val_threat_loss: 0.0181 - val_insult_loss: 0.1464 - val_identity_hate_loss: 0.0452 - val_toxic_acc: 0.9205 - val_severe_toxic_acc: 0.9900 - val_obscene_acc: 0.9560 - val_threat_acc: 0.9967 - val_insult_acc: 0.9571 - val_identity_hate_acc: 0.9908\n",
      "Epoch 73/200\n",
      "143613/143613 [==============================] - 136s 945us/step - loss: 0.6252 - toxic_loss: 0.2291 - severe_toxic_loss: 0.0429 - obscene_loss: 0.1503 - threat_loss: 0.0173 - insult_loss: 0.1438 - identity_hate_loss: 0.0418 - toxic_acc: 0.9222 - severe_toxic_acc: 0.9901 - obscene_acc: 0.9546 - threat_acc: 0.9970 - insult_acc: 0.9556 - identity_hate_acc: 0.9912 - val_loss: 0.6326 - val_toxic_loss: 0.2307 - val_severe_toxic_loss: 0.0431 - val_obscene_loss: 0.1490 - val_threat_loss: 0.0181 - val_insult_loss: 0.1467 - val_identity_hate_loss: 0.0451 - val_toxic_acc: 0.9209 - val_severe_toxic_acc: 0.9900 - val_obscene_acc: 0.9555 - val_threat_acc: 0.9967 - val_insult_acc: 0.9564 - val_identity_hate_acc: 0.9908\n",
      "Epoch 74/200\n",
      "143613/143613 [==============================] - 135s 943us/step - loss: 0.6255 - toxic_loss: 0.2295 - severe_toxic_loss: 0.0431 - obscene_loss: 0.1500 - threat_loss: 0.0173 - insult_loss: 0.1439 - identity_hate_loss: 0.0417 - toxic_acc: 0.9224 - severe_toxic_acc: 0.9899 - obscene_acc: 0.9543 - threat_acc: 0.9970 - insult_acc: 0.9556 - identity_hate_acc: 0.9912 - val_loss: 0.6332 - val_toxic_loss: 0.2310 - val_severe_toxic_loss: 0.0431 - val_obscene_loss: 0.1489 - val_threat_loss: 0.0182 - val_insult_loss: 0.1468 - val_identity_hate_loss: 0.0452 - val_toxic_acc: 0.9210 - val_severe_toxic_acc: 0.9900 - val_obscene_acc: 0.9556 - val_threat_acc: 0.9967 - val_insult_acc: 0.9569 - val_identity_hate_acc: 0.9908\n",
      "Epoch 75/200\n",
      "143613/143613 [==============================] - 136s 944us/step - loss: 0.6245 - toxic_loss: 0.2287 - severe_toxic_loss: 0.0429 - obscene_loss: 0.1500 - threat_loss: 0.0175 - insult_loss: 0.1437 - identity_hate_loss: 0.0418 - toxic_acc: 0.9225 - severe_toxic_acc: 0.9901 - obscene_acc: 0.9540 - threat_acc: 0.9970 - insult_acc: 0.9559 - identity_hate_acc: 0.9912 - val_loss: 0.6310 - val_toxic_loss: 0.2303 - val_severe_toxic_loss: 0.0429 - val_obscene_loss: 0.1480 - val_threat_loss: 0.0182 - val_insult_loss: 0.1463 - val_identity_hate_loss: 0.0452 - val_toxic_acc: 0.9210 - val_severe_toxic_acc: 0.9900 - val_obscene_acc: 0.9557 - val_threat_acc: 0.9967 - val_insult_acc: 0.9570 - val_identity_hate_acc: 0.9908\n",
      "Epoch 76/200\n",
      "143552/143613 [============================>.] - ETA: 0s - loss: 0.6237 - toxic_loss: 0.2291 - severe_toxic_loss: 0.0427 - obscene_loss: 0.1500 - threat_loss: 0.0172 - insult_loss: 0.1432 - identity_hate_loss: 0.0415 - toxic_acc: 0.9219 - severe_toxic_acc: 0.9899 - obscene_acc: 0.9545 - threat_acc: 0.9970 - insult_acc: 0.9558 - identity_hate_acc: 0.9912\n",
      "Epoch 00076: reducing learning rate to 1.9999999494757505e-06.\n",
      "143613/143613 [==============================] - 136s 950us/step - loss: 0.6238 - toxic_loss: 0.2292 - severe_toxic_loss: 0.0427 - obscene_loss: 0.1500 - threat_loss: 0.0172 - insult_loss: 0.1432 - identity_hate_loss: 0.0415 - toxic_acc: 0.9219 - severe_toxic_acc: 0.9899 - obscene_acc: 0.9545 - threat_acc: 0.9970 - insult_acc: 0.9557 - identity_hate_acc: 0.9912 - val_loss: 0.6322 - val_toxic_loss: 0.2308 - val_severe_toxic_loss: 0.0430 - val_obscene_loss: 0.1482 - val_threat_loss: 0.0183 - val_insult_loss: 0.1465 - val_identity_hate_loss: 0.0453 - val_toxic_acc: 0.9209 - val_severe_toxic_acc: 0.9900 - val_obscene_acc: 0.9561 - val_threat_acc: 0.9967 - val_insult_acc: 0.9569 - val_identity_hate_acc: 0.9908\n",
      "Epoch 77/200\n",
      "143613/143613 [==============================] - 136s 948us/step - loss: 0.6233 - toxic_loss: 0.2289 - severe_toxic_loss: 0.0427 - obscene_loss: 0.1498 - threat_loss: 0.0174 - insult_loss: 0.1429 - identity_hate_loss: 0.0416 - toxic_acc: 0.9220 - severe_toxic_acc: 0.9900 - obscene_acc: 0.9544 - threat_acc: 0.9970 - insult_acc: 0.9561 - identity_hate_acc: 0.9912 - val_loss: 0.6317 - val_toxic_loss: 0.2307 - val_severe_toxic_loss: 0.0430 - val_obscene_loss: 0.1482 - val_threat_loss: 0.0182 - val_insult_loss: 0.1465 - val_identity_hate_loss: 0.0452 - val_toxic_acc: 0.9212 - val_severe_toxic_acc: 0.9900 - val_obscene_acc: 0.9559 - val_threat_acc: 0.9967 - val_insult_acc: 0.9570 - val_identity_hate_acc: 0.9908\n"
     ]
    },
    {
     "name": "stdout",
     "output_type": "stream",
     "text": [
      "Epoch 78/200\n",
      "143613/143613 [==============================] - 136s 946us/step - loss: 0.6225 - toxic_loss: 0.2287 - severe_toxic_loss: 0.0426 - obscene_loss: 0.1494 - threat_loss: 0.0173 - insult_loss: 0.1430 - identity_hate_loss: 0.0415 - toxic_acc: 0.9226 - severe_toxic_acc: 0.9898 - obscene_acc: 0.9543 - threat_acc: 0.9970 - insult_acc: 0.9558 - identity_hate_acc: 0.9912 - val_loss: 0.6322 - val_toxic_loss: 0.2309 - val_severe_toxic_loss: 0.0430 - val_obscene_loss: 0.1482 - val_threat_loss: 0.0182 - val_insult_loss: 0.1465 - val_identity_hate_loss: 0.0453 - val_toxic_acc: 0.9210 - val_severe_toxic_acc: 0.9900 - val_obscene_acc: 0.9559 - val_threat_acc: 0.9967 - val_insult_acc: 0.9571 - val_identity_hate_acc: 0.9908\n",
      "Epoch 79/200\n",
      "143613/143613 [==============================] - 136s 946us/step - loss: 0.6238 - toxic_loss: 0.2293 - severe_toxic_loss: 0.0427 - obscene_loss: 0.1495 - threat_loss: 0.0174 - insult_loss: 0.1433 - identity_hate_loss: 0.0416 - toxic_acc: 0.9224 - severe_toxic_acc: 0.9901 - obscene_acc: 0.9544 - threat_acc: 0.9970 - insult_acc: 0.9556 - identity_hate_acc: 0.9912 - val_loss: 0.6339 - val_toxic_loss: 0.2310 - val_severe_toxic_loss: 0.0433 - val_obscene_loss: 0.1491 - val_threat_loss: 0.0181 - val_insult_loss: 0.1471 - val_identity_hate_loss: 0.0452 - val_toxic_acc: 0.9209 - val_severe_toxic_acc: 0.9900 - val_obscene_acc: 0.9556 - val_threat_acc: 0.9967 - val_insult_acc: 0.9566 - val_identity_hate_acc: 0.9908\n",
      "Epoch 80/200\n",
      "143613/143613 [==============================] - 136s 946us/step - loss: 0.6224 - toxic_loss: 0.2282 - severe_toxic_loss: 0.0427 - obscene_loss: 0.1497 - threat_loss: 0.0172 - insult_loss: 0.1431 - identity_hate_loss: 0.0416 - toxic_acc: 0.9225 - severe_toxic_acc: 0.9900 - obscene_acc: 0.9545 - threat_acc: 0.9970 - insult_acc: 0.9559 - identity_hate_acc: 0.9912 - val_loss: 0.6322 - val_toxic_loss: 0.2310 - val_severe_toxic_loss: 0.0431 - val_obscene_loss: 0.1481 - val_threat_loss: 0.0182 - val_insult_loss: 0.1465 - val_identity_hate_loss: 0.0453 - val_toxic_acc: 0.9210 - val_severe_toxic_acc: 0.9900 - val_obscene_acc: 0.9561 - val_threat_acc: 0.9967 - val_insult_acc: 0.9571 - val_identity_hate_acc: 0.9908\n",
      "Epoch 81/200\n",
      "143613/143613 [==============================] - 136s 945us/step - loss: 0.6243 - toxic_loss: 0.2295 - severe_toxic_loss: 0.0429 - obscene_loss: 0.1497 - threat_loss: 0.0175 - insult_loss: 0.1430 - identity_hate_loss: 0.0419 - toxic_acc: 0.9220 - severe_toxic_acc: 0.9899 - obscene_acc: 0.9543 - threat_acc: 0.9970 - insult_acc: 0.9557 - identity_hate_acc: 0.9912 - val_loss: 0.6331 - val_toxic_loss: 0.2314 - val_severe_toxic_loss: 0.0431 - val_obscene_loss: 0.1485 - val_threat_loss: 0.0181 - val_insult_loss: 0.1468 - val_identity_hate_loss: 0.0453 - val_toxic_acc: 0.9211 - val_severe_toxic_acc: 0.9900 - val_obscene_acc: 0.9559 - val_threat_acc: 0.9967 - val_insult_acc: 0.9571 - val_identity_hate_acc: 0.9908\n",
      "Epoch 82/200\n",
      "143613/143613 [==============================] - 136s 945us/step - loss: 0.6213 - toxic_loss: 0.2278 - severe_toxic_loss: 0.0423 - obscene_loss: 0.1494 - threat_loss: 0.0175 - insult_loss: 0.1427 - identity_hate_loss: 0.0417 - toxic_acc: 0.9224 - severe_toxic_acc: 0.9901 - obscene_acc: 0.9546 - threat_acc: 0.9970 - insult_acc: 0.9560 - identity_hate_acc: 0.9912 - val_loss: 0.6320 - val_toxic_loss: 0.2311 - val_severe_toxic_loss: 0.0429 - val_obscene_loss: 0.1479 - val_threat_loss: 0.0182 - val_insult_loss: 0.1466 - val_identity_hate_loss: 0.0454 - val_toxic_acc: 0.9211 - val_severe_toxic_acc: 0.9900 - val_obscene_acc: 0.9561 - val_threat_acc: 0.9967 - val_insult_acc: 0.9568 - val_identity_hate_acc: 0.9908\n",
      "Epoch 83/200\n",
      "143613/143613 [==============================] - 136s 945us/step - loss: 0.6213 - toxic_loss: 0.2279 - severe_toxic_loss: 0.0428 - obscene_loss: 0.1489 - threat_loss: 0.0172 - insult_loss: 0.1430 - identity_hate_loss: 0.0416 - toxic_acc: 0.9224 - severe_toxic_acc: 0.9899 - obscene_acc: 0.9546 - threat_acc: 0.9970 - insult_acc: 0.9558 - identity_hate_acc: 0.9912 - val_loss: 0.6325 - val_toxic_loss: 0.2313 - val_severe_toxic_loss: 0.0430 - val_obscene_loss: 0.1481 - val_threat_loss: 0.0182 - val_insult_loss: 0.1467 - val_identity_hate_loss: 0.0453 - val_toxic_acc: 0.9210 - val_severe_toxic_acc: 0.9900 - val_obscene_acc: 0.9562 - val_threat_acc: 0.9967 - val_insult_acc: 0.9571 - val_identity_hate_acc: 0.9908\n",
      "Epoch 84/200\n",
      "143552/143613 [============================>.] - ETA: 0s - loss: 0.6228 - toxic_loss: 0.2287 - severe_toxic_loss: 0.0426 - obscene_loss: 0.1495 - threat_loss: 0.0173 - insult_loss: 0.1431 - identity_hate_loss: 0.0416 - toxic_acc: 0.9224 - severe_toxic_acc: 0.9899 - obscene_acc: 0.9544 - threat_acc: 0.9970 - insult_acc: 0.9559 - identity_hate_acc: 0.9912\n",
      "Epoch 00084: reducing learning rate to 3.999999989900971e-07.\n",
      "143613/143613 [==============================] - 136s 945us/step - loss: 0.6228 - toxic_loss: 0.2287 - severe_toxic_loss: 0.0426 - obscene_loss: 0.1495 - threat_loss: 0.0173 - insult_loss: 0.1431 - identity_hate_loss: 0.0416 - toxic_acc: 0.9224 - severe_toxic_acc: 0.9899 - obscene_acc: 0.9544 - threat_acc: 0.9970 - insult_acc: 0.9559 - identity_hate_acc: 0.9912 - val_loss: 0.6352 - val_toxic_loss: 0.2320 - val_severe_toxic_loss: 0.0432 - val_obscene_loss: 0.1491 - val_threat_loss: 0.0181 - val_insult_loss: 0.1474 - val_identity_hate_loss: 0.0454 - val_toxic_acc: 0.9210 - val_severe_toxic_acc: 0.9900 - val_obscene_acc: 0.9560 - val_threat_acc: 0.9967 - val_insult_acc: 0.9567 - val_identity_hate_acc: 0.9908\n",
      "Epoch 85/200\n",
      "143613/143613 [==============================] - 136s 944us/step - loss: 0.6224 - toxic_loss: 0.2281 - severe_toxic_loss: 0.0427 - obscene_loss: 0.1496 - threat_loss: 0.0174 - insult_loss: 0.1431 - identity_hate_loss: 0.0415 - toxic_acc: 0.9223 - severe_toxic_acc: 0.9900 - obscene_acc: 0.9544 - threat_acc: 0.9970 - insult_acc: 0.9558 - identity_hate_acc: 0.9912 - val_loss: 0.6332 - val_toxic_loss: 0.2312 - val_severe_toxic_loss: 0.0431 - val_obscene_loss: 0.1485 - val_threat_loss: 0.0181 - val_insult_loss: 0.1468 - val_identity_hate_loss: 0.0453 - val_toxic_acc: 0.9210 - val_severe_toxic_acc: 0.9900 - val_obscene_acc: 0.9559 - val_threat_acc: 0.9967 - val_insult_acc: 0.9570 - val_identity_hate_acc: 0.9908\n",
      "Epoch 86/200\n",
      "143613/143613 [==============================] - 136s 945us/step - loss: 0.6222 - toxic_loss: 0.2283 - severe_toxic_loss: 0.0426 - obscene_loss: 0.1494 - threat_loss: 0.0172 - insult_loss: 0.1434 - identity_hate_loss: 0.0412 - toxic_acc: 0.9222 - severe_toxic_acc: 0.9900 - obscene_acc: 0.9543 - threat_acc: 0.9970 - insult_acc: 0.9560 - identity_hate_acc: 0.9912 - val_loss: 0.6320 - val_toxic_loss: 0.2308 - val_severe_toxic_loss: 0.0430 - val_obscene_loss: 0.1481 - val_threat_loss: 0.0182 - val_insult_loss: 0.1466 - val_identity_hate_loss: 0.0453 - val_toxic_acc: 0.9212 - val_severe_toxic_acc: 0.9900 - val_obscene_acc: 0.9561 - val_threat_acc: 0.9967 - val_insult_acc: 0.9570 - val_identity_hate_acc: 0.9908\n",
      "Epoch 87/200\n",
      "143613/143613 [==============================] - 136s 947us/step - loss: 0.6217 - toxic_loss: 0.2280 - severe_toxic_loss: 0.0428 - obscene_loss: 0.1495 - threat_loss: 0.0172 - insult_loss: 0.1425 - identity_hate_loss: 0.0416 - toxic_acc: 0.9224 - severe_toxic_acc: 0.9899 - obscene_acc: 0.9542 - threat_acc: 0.9970 - insult_acc: 0.9562 - identity_hate_acc: 0.9912 - val_loss: 0.6328 - val_toxic_loss: 0.2311 - val_severe_toxic_loss: 0.0431 - val_obscene_loss: 0.1484 - val_threat_loss: 0.0181 - val_insult_loss: 0.1468 - val_identity_hate_loss: 0.0453 - val_toxic_acc: 0.9213 - val_severe_toxic_acc: 0.9900 - val_obscene_acc: 0.9559 - val_threat_acc: 0.9967 - val_insult_acc: 0.9570 - val_identity_hate_acc: 0.9908\n",
      "Epoch 88/200\n",
      "143613/143613 [==============================] - 136s 947us/step - loss: 0.6230 - toxic_loss: 0.2293 - severe_toxic_loss: 0.0427 - obscene_loss: 0.1491 - threat_loss: 0.0172 - insult_loss: 0.1432 - identity_hate_loss: 0.0415 - toxic_acc: 0.9220 - severe_toxic_acc: 0.9901 - obscene_acc: 0.9548 - threat_acc: 0.9970 - insult_acc: 0.9560 - identity_hate_acc: 0.9912 - val_loss: 0.6328 - val_toxic_loss: 0.2310 - val_severe_toxic_loss: 0.0431 - val_obscene_loss: 0.1485 - val_threat_loss: 0.0181 - val_insult_loss: 0.1468 - val_identity_hate_loss: 0.0453 - val_toxic_acc: 0.9210 - val_severe_toxic_acc: 0.9900 - val_obscene_acc: 0.9559 - val_threat_acc: 0.9967 - val_insult_acc: 0.9569 - val_identity_hate_acc: 0.9908\n"
     ]
    },
    {
     "name": "stdout",
     "output_type": "stream",
     "text": [
      "Epoch 89/200\n",
      "143613/143613 [==============================] - 136s 947us/step - loss: 0.6223 - toxic_loss: 0.2281 - severe_toxic_loss: 0.0424 - obscene_loss: 0.1493 - threat_loss: 0.0174 - insult_loss: 0.1431 - identity_hate_loss: 0.0419 - toxic_acc: 0.9226 - severe_toxic_acc: 0.9900 - obscene_acc: 0.9546 - threat_acc: 0.9970 - insult_acc: 0.9560 - identity_hate_acc: 0.9912 - val_loss: 0.6326 - val_toxic_loss: 0.2310 - val_severe_toxic_loss: 0.0431 - val_obscene_loss: 0.1484 - val_threat_loss: 0.0181 - val_insult_loss: 0.1468 - val_identity_hate_loss: 0.0453 - val_toxic_acc: 0.9213 - val_severe_toxic_acc: 0.9900 - val_obscene_acc: 0.9559 - val_threat_acc: 0.9967 - val_insult_acc: 0.9570 - val_identity_hate_acc: 0.9908\n",
      "Epoch 90/200\n",
      "143613/143613 [==============================] - 136s 945us/step - loss: 0.6208 - toxic_loss: 0.2279 - severe_toxic_loss: 0.0426 - obscene_loss: 0.1489 - threat_loss: 0.0171 - insult_loss: 0.1424 - identity_hate_loss: 0.0419 - toxic_acc: 0.9222 - severe_toxic_acc: 0.9899 - obscene_acc: 0.9544 - threat_acc: 0.9970 - insult_acc: 0.9560 - identity_hate_acc: 0.9912 - val_loss: 0.6333 - val_toxic_loss: 0.2311 - val_severe_toxic_loss: 0.0432 - val_obscene_loss: 0.1487 - val_threat_loss: 0.0181 - val_insult_loss: 0.1470 - val_identity_hate_loss: 0.0453 - val_toxic_acc: 0.9212 - val_severe_toxic_acc: 0.9900 - val_obscene_acc: 0.9558 - val_threat_acc: 0.9967 - val_insult_acc: 0.9569 - val_identity_hate_acc: 0.9908\n",
      "Epoch 91/200\n",
      "143613/143613 [==============================] - 136s 946us/step - loss: 0.6214 - toxic_loss: 0.2285 - severe_toxic_loss: 0.0425 - obscene_loss: 0.1490 - threat_loss: 0.0172 - insult_loss: 0.1425 - identity_hate_loss: 0.0417 - toxic_acc: 0.9224 - severe_toxic_acc: 0.9901 - obscene_acc: 0.9545 - threat_acc: 0.9970 - insult_acc: 0.9561 - identity_hate_acc: 0.9912 - val_loss: 0.6329 - val_toxic_loss: 0.2311 - val_severe_toxic_loss: 0.0431 - val_obscene_loss: 0.1485 - val_threat_loss: 0.0181 - val_insult_loss: 0.1468 - val_identity_hate_loss: 0.0453 - val_toxic_acc: 0.9211 - val_severe_toxic_acc: 0.9900 - val_obscene_acc: 0.9559 - val_threat_acc: 0.9967 - val_insult_acc: 0.9569 - val_identity_hate_acc: 0.9908\n",
      "Epoch 92/200\n",
      "143552/143613 [============================>.] - ETA: 0s - loss: 0.6228 - toxic_loss: 0.2286 - severe_toxic_loss: 0.0426 - obscene_loss: 0.1496 - threat_loss: 0.0172 - insult_loss: 0.1432 - identity_hate_loss: 0.0416 - toxic_acc: 0.9224 - severe_toxic_acc: 0.9900 - obscene_acc: 0.9543 - threat_acc: 0.9970 - insult_acc: 0.9558 - identity_hate_acc: 0.9912\n",
      "Epoch 00092: reducing learning rate to 8.00000009348878e-08.\n",
      "143613/143613 [==============================] - 136s 946us/step - loss: 0.6227 - toxic_loss: 0.2286 - severe_toxic_loss: 0.0426 - obscene_loss: 0.1496 - threat_loss: 0.0172 - insult_loss: 0.1431 - identity_hate_loss: 0.0416 - toxic_acc: 0.9225 - severe_toxic_acc: 0.9900 - obscene_acc: 0.9543 - threat_acc: 0.9970 - insult_acc: 0.9558 - identity_hate_acc: 0.9912 - val_loss: 0.6340 - val_toxic_loss: 0.2314 - val_severe_toxic_loss: 0.0433 - val_obscene_loss: 0.1488 - val_threat_loss: 0.0181 - val_insult_loss: 0.1471 - val_identity_hate_loss: 0.0453 - val_toxic_acc: 0.9209 - val_severe_toxic_acc: 0.9900 - val_obscene_acc: 0.9560 - val_threat_acc: 0.9967 - val_insult_acc: 0.9566 - val_identity_hate_acc: 0.9908\n",
      "Epoch 93/200\n",
      "143613/143613 [==============================] - 136s 946us/step - loss: 0.6221 - toxic_loss: 0.2289 - severe_toxic_loss: 0.0430 - obscene_loss: 0.1492 - threat_loss: 0.0172 - insult_loss: 0.1421 - identity_hate_loss: 0.0416 - toxic_acc: 0.9223 - severe_toxic_acc: 0.9899 - obscene_acc: 0.9546 - threat_acc: 0.9970 - insult_acc: 0.9564 - identity_hate_acc: 0.9912 - val_loss: 0.6329 - val_toxic_loss: 0.2312 - val_severe_toxic_loss: 0.0431 - val_obscene_loss: 0.1483 - val_threat_loss: 0.0182 - val_insult_loss: 0.1468 - val_identity_hate_loss: 0.0453 - val_toxic_acc: 0.9210 - val_severe_toxic_acc: 0.9900 - val_obscene_acc: 0.9561 - val_threat_acc: 0.9967 - val_insult_acc: 0.9570 - val_identity_hate_acc: 0.9908\n",
      "Epoch 94/200\n",
      "143613/143613 [==============================] - 136s 944us/step - loss: 0.6220 - toxic_loss: 0.2281 - severe_toxic_loss: 0.0430 - obscene_loss: 0.1492 - threat_loss: 0.0173 - insult_loss: 0.1429 - identity_hate_loss: 0.0416 - toxic_acc: 0.9224 - severe_toxic_acc: 0.9898 - obscene_acc: 0.9543 - threat_acc: 0.9970 - insult_acc: 0.9561 - identity_hate_acc: 0.9912 - val_loss: 0.6323 - val_toxic_loss: 0.2310 - val_severe_toxic_loss: 0.0430 - val_obscene_loss: 0.1482 - val_threat_loss: 0.0182 - val_insult_loss: 0.1467 - val_identity_hate_loss: 0.0453 - val_toxic_acc: 0.9211 - val_severe_toxic_acc: 0.9900 - val_obscene_acc: 0.9562 - val_threat_acc: 0.9967 - val_insult_acc: 0.9570 - val_identity_hate_acc: 0.9908\n",
      "Epoch 95/200\n",
      "143613/143613 [==============================] - 136s 944us/step - loss: 0.6221 - toxic_loss: 0.2279 - severe_toxic_loss: 0.0429 - obscene_loss: 0.1497 - threat_loss: 0.0173 - insult_loss: 0.1427 - identity_hate_loss: 0.0416 - toxic_acc: 0.9226 - severe_toxic_acc: 0.9899 - obscene_acc: 0.9545 - threat_acc: 0.9970 - insult_acc: 0.9558 - identity_hate_acc: 0.9912 - val_loss: 0.6333 - val_toxic_loss: 0.2311 - val_severe_toxic_loss: 0.0432 - val_obscene_loss: 0.1487 - val_threat_loss: 0.0181 - val_insult_loss: 0.1470 - val_identity_hate_loss: 0.0452 - val_toxic_acc: 0.9212 - val_severe_toxic_acc: 0.9900 - val_obscene_acc: 0.9558 - val_threat_acc: 0.9967 - val_insult_acc: 0.9569 - val_identity_hate_acc: 0.9908\n",
      "Epoch 96/200\n",
      "143613/143613 [==============================] - 136s 944us/step - loss: 0.6227 - toxic_loss: 0.2281 - severe_toxic_loss: 0.0428 - obscene_loss: 0.1496 - threat_loss: 0.0173 - insult_loss: 0.1431 - identity_hate_loss: 0.0418 - toxic_acc: 0.9220 - severe_toxic_acc: 0.9899 - obscene_acc: 0.9546 - threat_acc: 0.9970 - insult_acc: 0.9559 - identity_hate_acc: 0.9912 - val_loss: 0.6324 - val_toxic_loss: 0.2311 - val_severe_toxic_loss: 0.0430 - val_obscene_loss: 0.1482 - val_threat_loss: 0.0182 - val_insult_loss: 0.1467 - val_identity_hate_loss: 0.0453 - val_toxic_acc: 0.9211 - val_severe_toxic_acc: 0.9900 - val_obscene_acc: 0.9559 - val_threat_acc: 0.9967 - val_insult_acc: 0.9571 - val_identity_hate_acc: 0.9908\n",
      "Epoch 97/200\n",
      "143613/143613 [==============================] - 136s 945us/step - loss: 0.6225 - toxic_loss: 0.2286 - severe_toxic_loss: 0.0428 - obscene_loss: 0.1492 - threat_loss: 0.0174 - insult_loss: 0.1429 - identity_hate_loss: 0.0417 - toxic_acc: 0.9223 - severe_toxic_acc: 0.9899 - obscene_acc: 0.9547 - threat_acc: 0.9970 - insult_acc: 0.9560 - identity_hate_acc: 0.9912 - val_loss: 0.6345 - val_toxic_loss: 0.2315 - val_severe_toxic_loss: 0.0434 - val_obscene_loss: 0.1491 - val_threat_loss: 0.0181 - val_insult_loss: 0.1472 - val_identity_hate_loss: 0.0453 - val_toxic_acc: 0.9208 - val_severe_toxic_acc: 0.9899 - val_obscene_acc: 0.9555 - val_threat_acc: 0.9967 - val_insult_acc: 0.9566 - val_identity_hate_acc: 0.9908\n"
     ]
    },
    {
     "data": {
      "text/plain": [
       "<keras.callbacks.History at 0x7f2d8671b908>"
      ]
     },
     "execution_count": 125,
     "metadata": {},
     "output_type": "execute_result"
    }
   ],
   "source": [
    "model.fit(x = dataInputTrain, \n",
    "          y = [traindf[i] for i in output_names],\n",
    "         batch_size = 64, epochs = 200, validation_data = [dataInputVal, [valdf[i] for i in output_names]],\n",
    "         callbacks=[earlyStopping, mcp_save, reduce_lr_loss])"
   ]
  },
  {
   "cell_type": "markdown",
   "metadata": {},
   "source": [
    "Examining what the model got wrong"
   ]
  },
  {
   "cell_type": "code",
   "execution_count": 127,
   "metadata": {
    "collapsed": true
   },
   "outputs": [],
   "source": [
    "pred_val = model.predict(dataInputVal)"
   ]
  },
  {
   "cell_type": "code",
   "execution_count": 191,
   "metadata": {
    "scrolled": true
   },
   "outputs": [
    {
     "name": "stdout",
     "output_type": "stream",
     "text": [
      "---------------toxic---------------------\n",
      "Predicted 0.00101489 Actual 1 \n",
      " I guess it is perfectly possible that in 1993 the states did attempt to make all the powers of the councils similar.  Anyway, I think a small section mentioning the differences would be better then nothing. The various legislation can be found at http://www.austlii.edu.au/databases.html with this if you wanted, you could come up with a really detail list of differences.  I'm not doing that just now though (if ever).   (Fuck you!)\n",
      "Predicted 0.00127391 Actual 1 \n",
      " \"\n",
      "\n",
      "Red Hat Ferrick understand something  NEVER ASSUME because you make an ASS-out of-U and-ME O.K.? \n",
      "\n",
      "I ALREADY KNEW about the Moluccas/Ternate and Tidore islands , these were actually the fabled \"\"spice islands\"\".\n",
      "They however lasted very short in the Spanish colonial enterprise.\n",
      "\n",
      "Also we are not discussing the Indochina issue in this section if you didnt see it is above .\n",
      "Im not going to discuss that issue with you here.  \"\n",
      "---------------severe_toxic---------------------\n",
      "Predicted 3.55911e-05 Actual 1 \n",
      " Walter Mercado \n",
      "\n",
      "Antonio, quite frankly, you're a fucker for comparing Mercado's sexuality to Babe Ruth's alcoholism. Don't assume everybody shares your bigoted, backward views. 98.232.181.201\n",
      "Predicted 0.00129516 Actual 1 \n",
      " Next time this happens i won't just report it, I'll eat your children. Rarghhhh! You can't fuck wit me bitch! I am the fuckin' heavyweight champion of the world! I'll eat your face!\n",
      "---------------obscene---------------------\n",
      "Predicted 0.000187721 Actual 1 \n",
      " \"\n",
      "\n",
      " This is not vandalism. If you look at the quoted text from the notice: \"\"You may remove this message if you improve the article, or if you otherwise object to deletion of the article for any reason. To avoid confusion, it helps to explain why you object to the deletion, either in the edit summary or on the talk page. If this template is removed, it should not be replaced.\"\" it states that I may remove the notice. Furthermore, I did explain on more than one occasion that I was removing the message because Mais Ouis had failed to provide any explanation as to why it should be deleted and invited them to do so. They didn't. It also states clearly that if the template is removed it should not be replaced and it was. So fuck off. ( )\"\n",
      "Predicted 0.000379055 Actual 1 \n",
      " \"\n",
      "\n",
      "Red Hat Ferrick understand something  NEVER ASSUME because you make an ASS-out of-U and-ME O.K.? \n",
      "\n",
      "I ALREADY KNEW about the Moluccas/Ternate and Tidore islands , these were actually the fabled \"\"spice islands\"\".\n",
      "They however lasted very short in the Spanish colonial enterprise.\n",
      "\n",
      "Also we are not discussing the Indochina issue in this section if you didnt see it is above .\n",
      "Im not going to discuss that issue with you here.  \"\n",
      "---------------threat---------------------\n",
      "Predicted 7.55956e-05 Actual 1 \n",
      " I don't quite understand why you are so strongly in favour of censorship. You see, the issue is that I happen to be an expert on this subject. You are controlling information, by restricting it, and this is homosexual behaviour which I will be more than happy to rape you to death for.\n",
      "Predicted 8.00342e-05 Actual 1 \n",
      " With Regards to Your Recent Thoughtful Epistle... \n",
      "\n",
      "Go get fucked and maybe you will not be so goddamned gay. Otherwise, go eat a bag of hell and drop dead.\n",
      "---------------insult---------------------\n",
      "Predicted 0.000256524 Actual 1 \n",
      " I guess it is perfectly possible that in 1993 the states did attempt to make all the powers of the councils similar.  Anyway, I think a small section mentioning the differences would be better then nothing. The various legislation can be found at http://www.austlii.edu.au/databases.html with this if you wanted, you could come up with a really detail list of differences.  I'm not doing that just now though (if ever).   (Fuck you!)\n",
      "Predicted 0.000918704 Actual 1 \n",
      " Please refrain from unmaking unconstructive edits to Wikipedia, as you did at Tim Pawlenty. Your edits appear to constitute whitewashing and have been reverted or removed. If you would like to experiment, please use the litterbox. Thank you.\n",
      "\n",
      "You're a dirt-muffling little suck turd with no Tosh.0 to guzzle down tonight. Fuck off.\n",
      "---------------identity_hate---------------------\n",
      "Predicted 0.000245894 Actual 1 \n",
      " It pains my heart to find out that Wikepedia evidently is mainly a male community with the usual sexism that comes with the territory. I'd say chins, teeth and clothing are questions of taste. And as for any future Wikipedia debates: I might bring up the argument that you're all male-chauvinist, sexist biggots ;)\n",
      "Predicted 0.000356692 Actual 1 \n",
      " With Regards to Your Recent Thoughtful Epistle... \n",
      "\n",
      "Go get fucked and maybe you will not be so goddamned gay. Otherwise, go eat a bag of hell and drop dead.\n"
     ]
    }
   ],
   "source": [
    "for count,i in enumerate(output_names):\n",
    "    print('---------------' + i + '---------------------')\n",
    "    dif = (valdf[i] - pred_val[count].flatten()).abs().sort_values(ascending = False)\n",
    "    most_dif = valdf.loc[dif.index[:2]]\n",
    "    for count2, j in enumerate(most_dif.iterrows()):\n",
    "        print('Predicted', pred_val[count].flatten()[valdf[i].index.get_loc(j[0])]\n",
    "              , 'Actual', j[1][i],\n",
    "             '\\n',\n",
    "             j[1]['comment_text'])"
   ]
  },
  {
   "cell_type": "markdown",
   "metadata": {},
   "source": [
    "#### Submission"
   ]
  },
  {
   "cell_type": "code",
   "execution_count": 192,
   "metadata": {
    "collapsed": true
   },
   "outputs": [],
   "source": [
    "pred = model.predict(test_mat)"
   ]
  },
  {
   "cell_type": "code",
   "execution_count": 197,
   "metadata": {},
   "outputs": [],
   "source": [
    "for count,i in enumerate(output_names):\n",
    "    test[i] = pred[count].flatten()"
   ]
  },
  {
   "cell_type": "code",
   "execution_count": 200,
   "metadata": {},
   "outputs": [],
   "source": [
    "test[['id', 'toxic', 'severe_toxic', 'obscene', 'threat', 'insult', 'identity_hate']].to_csv('data/answers/basic_baseline_cnn.csv', index = False)"
   ]
  },
  {
   "cell_type": "code",
   "execution_count": null,
   "metadata": {
    "collapsed": true
   },
   "outputs": [],
   "source": []
  }
 ],
 "metadata": {
  "kernelspec": {
   "display_name": "Python 3",
   "language": "python",
   "name": "python3"
  },
  "language_info": {
   "codemirror_mode": {
    "name": "ipython",
    "version": 3
   },
   "file_extension": ".py",
   "mimetype": "text/x-python",
   "name": "python",
   "nbconvert_exporter": "python",
   "pygments_lexer": "ipython3",
   "version": "3.6.3"
  }
 },
 "nbformat": 4,
 "nbformat_minor": 2
}
